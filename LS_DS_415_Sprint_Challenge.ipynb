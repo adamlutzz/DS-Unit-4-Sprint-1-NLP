{
 "cells": [
  {
   "cell_type": "markdown",
   "metadata": {},
   "source": [
    "<img align=\"left\" src=\"https://lever-client-logos.s3.amazonaws.com/864372b1-534c-480e-acd5-9711f850815c-1524247202159.png\" width=200>\n",
    "<br></br>\n",
    "<br></br>\n",
    "\n",
    "# Sprint Challenge\n",
    "## *Data Science Unit 4 Sprint 1*\n",
    "\n",
    "After a week of Natural Language Processing, you've learned some cool new stuff: how to process text, how turn text into vectors, and how to model topics from documents. Apply your newly acquired skills to one of the most famous NLP datasets out there: [Yelp](https://www.yelp.com/dataset/challenge). As part of the job selection process, some of my friends have been asked to create analysis of this dataset, so I want to empower you to have a head start.  \n",
    "\n",
    "The real dataset is massive (almost 8 gigs uncompressed). I've sampled the data for you to something more managable for the Sprint Challenge. You can analyze the full dataset as a stretch goal or after the sprint challenge. As you work on the challenge, I suggest adding notes about your findings and things you want to analyze in the future.\n",
    "\n",
    "## Challenge Objectives\n",
    "*Successfully complete these all these objectives to earn a 2. There are more details on each objective further down in the notebook.*\n",
    "* <a href=\"#p1\">Part 1</a>: Write a function to tokenize the yelp reviews\n",
    "* <a href=\"#p2\">Part 2</a>: Create a vector representation of those tokens\n",
    "* <a href=\"#p3\">Part 3</a>: Use your tokens in a classification model on yelp rating\n",
    "* <a href=\"#p4\">Part 4</a>: Estimate & Interpret a topic model of the Yelp reviews"
   ]
  },
  {
   "cell_type": "code",
   "execution_count": 4,
   "metadata": {},
   "outputs": [],
   "source": [
    "import pandas as pd\n",
    "\n",
    "yelp = pd.read_json('./data/review_sample.json', lines=True)"
   ]
  },
  {
   "cell_type": "code",
   "execution_count": 5,
   "metadata": {},
   "outputs": [
    {
     "data": {
      "text/html": [
       "<div>\n",
       "<style scoped>\n",
       "    .dataframe tbody tr th:only-of-type {\n",
       "        vertical-align: middle;\n",
       "    }\n",
       "\n",
       "    .dataframe tbody tr th {\n",
       "        vertical-align: top;\n",
       "    }\n",
       "\n",
       "    .dataframe thead th {\n",
       "        text-align: right;\n",
       "    }\n",
       "</style>\n",
       "<table border=\"1\" class=\"dataframe\">\n",
       "  <thead>\n",
       "    <tr style=\"text-align: right;\">\n",
       "      <th></th>\n",
       "      <th>business_id</th>\n",
       "      <th>cool</th>\n",
       "      <th>date</th>\n",
       "      <th>funny</th>\n",
       "      <th>review_id</th>\n",
       "      <th>stars</th>\n",
       "      <th>text</th>\n",
       "      <th>useful</th>\n",
       "      <th>user_id</th>\n",
       "    </tr>\n",
       "  </thead>\n",
       "  <tbody>\n",
       "    <tr>\n",
       "      <th>0</th>\n",
       "      <td>nDuEqIyRc8YKS1q1fX0CZg</td>\n",
       "      <td>1</td>\n",
       "      <td>2015-03-31 16:50:30</td>\n",
       "      <td>0</td>\n",
       "      <td>eZs2tpEJtXPwawvHnHZIgQ</td>\n",
       "      <td>1</td>\n",
       "      <td>BEWARE!!! FAKE, FAKE, FAKE....We also own a sm...</td>\n",
       "      <td>10</td>\n",
       "      <td>n1LM36qNg4rqGXIcvVXv8w</td>\n",
       "    </tr>\n",
       "    <tr>\n",
       "      <th>1</th>\n",
       "      <td>eMYeEapscbKNqUDCx705hg</td>\n",
       "      <td>0</td>\n",
       "      <td>2015-12-16 05:31:03</td>\n",
       "      <td>0</td>\n",
       "      <td>DoQDWJsNbU0KL1O29l_Xug</td>\n",
       "      <td>4</td>\n",
       "      <td>Came here for lunch Togo. Service was quick. S...</td>\n",
       "      <td>0</td>\n",
       "      <td>5CgjjDAic2-FAvCtiHpytA</td>\n",
       "    </tr>\n",
       "    <tr>\n",
       "      <th>2</th>\n",
       "      <td>6Q7-wkCPc1KF75jZLOTcMw</td>\n",
       "      <td>1</td>\n",
       "      <td>2010-06-20 19:14:48</td>\n",
       "      <td>1</td>\n",
       "      <td>DDOdGU7zh56yQHmUnL1idQ</td>\n",
       "      <td>3</td>\n",
       "      <td>I've been to Vegas dozens of times and had nev...</td>\n",
       "      <td>2</td>\n",
       "      <td>BdV-cf3LScmb8kZ7iiBcMA</td>\n",
       "    </tr>\n",
       "    <tr>\n",
       "      <th>3</th>\n",
       "      <td>k3zrItO4l9hwfLRwHBDc9w</td>\n",
       "      <td>3</td>\n",
       "      <td>2010-07-13 00:33:45</td>\n",
       "      <td>4</td>\n",
       "      <td>LfTMUWnfGFMOfOIyJcwLVA</td>\n",
       "      <td>1</td>\n",
       "      <td>We went here on a night where they closed off ...</td>\n",
       "      <td>5</td>\n",
       "      <td>cZZnBqh4gAEy4CdNvJailQ</td>\n",
       "    </tr>\n",
       "    <tr>\n",
       "      <th>4</th>\n",
       "      <td>6hpfRwGlOzbNv7k5eP9rsQ</td>\n",
       "      <td>1</td>\n",
       "      <td>2018-06-30 02:30:01</td>\n",
       "      <td>0</td>\n",
       "      <td>zJSUdI7bJ8PNJAg4lnl_Gg</td>\n",
       "      <td>4</td>\n",
       "      <td>3.5 to 4 stars\\n\\nNot bad for the price, $12.9...</td>\n",
       "      <td>5</td>\n",
       "      <td>n9QO4ClYAS7h9fpQwa5bhA</td>\n",
       "    </tr>\n",
       "  </tbody>\n",
       "</table>\n",
       "</div>"
      ],
      "text/plain": [
       "              business_id  cool                date  funny  \\\n",
       "0  nDuEqIyRc8YKS1q1fX0CZg     1 2015-03-31 16:50:30      0   \n",
       "1  eMYeEapscbKNqUDCx705hg     0 2015-12-16 05:31:03      0   \n",
       "2  6Q7-wkCPc1KF75jZLOTcMw     1 2010-06-20 19:14:48      1   \n",
       "3  k3zrItO4l9hwfLRwHBDc9w     3 2010-07-13 00:33:45      4   \n",
       "4  6hpfRwGlOzbNv7k5eP9rsQ     1 2018-06-30 02:30:01      0   \n",
       "\n",
       "                review_id  stars  \\\n",
       "0  eZs2tpEJtXPwawvHnHZIgQ      1   \n",
       "1  DoQDWJsNbU0KL1O29l_Xug      4   \n",
       "2  DDOdGU7zh56yQHmUnL1idQ      3   \n",
       "3  LfTMUWnfGFMOfOIyJcwLVA      1   \n",
       "4  zJSUdI7bJ8PNJAg4lnl_Gg      4   \n",
       "\n",
       "                                                text  useful  \\\n",
       "0  BEWARE!!! FAKE, FAKE, FAKE....We also own a sm...      10   \n",
       "1  Came here for lunch Togo. Service was quick. S...       0   \n",
       "2  I've been to Vegas dozens of times and had nev...       2   \n",
       "3  We went here on a night where they closed off ...       5   \n",
       "4  3.5 to 4 stars\\n\\nNot bad for the price, $12.9...       5   \n",
       "\n",
       "                  user_id  \n",
       "0  n1LM36qNg4rqGXIcvVXv8w  \n",
       "1  5CgjjDAic2-FAvCtiHpytA  \n",
       "2  BdV-cf3LScmb8kZ7iiBcMA  \n",
       "3  cZZnBqh4gAEy4CdNvJailQ  \n",
       "4  n9QO4ClYAS7h9fpQwa5bhA  "
      ]
     },
     "execution_count": 5,
     "metadata": {},
     "output_type": "execute_result"
    }
   ],
   "source": [
    "yelp.head()"
   ]
  },
  {
   "cell_type": "markdown",
   "metadata": {},
   "source": [
    "## Part 1: Tokenize Function\n",
    "<a id=\"#p1\"></a>\n",
    "\n",
    "Complete the function `tokenize`. Your function should\n",
    "- accept one document at a time\n",
    "- return a list of tokens\n",
    "\n",
    "You are free to use any method you have learned this week."
   ]
  },
  {
   "cell_type": "code",
   "execution_count": 12,
   "metadata": {},
   "outputs": [],
   "source": [
    "# import nlp libraries and modules\n",
    "import spacy\n",
    "from spacy.tokenizer import Tokenizer\n",
    "\n",
    "# create instance of nlp engine\n",
    "nlp = spacy.load(\"en_core_web_lg\")\n",
    "\n",
    "# insantiate tokenizer\n",
    "tokenizer = Tokenizer(nlp.vocab)"
   ]
  },
  {
   "cell_type": "code",
   "execution_count": 10,
   "metadata": {},
   "outputs": [],
   "source": [
    "# using a sample for quick results while building function\n",
    "sample = 'Friends, Romans, countrymen, lend me your ears;'"
   ]
  },
  {
   "cell_type": "code",
   "execution_count": 18,
   "metadata": {},
   "outputs": [],
   "source": [
    "# tokenizing sample\n",
    "list_sample = [token.text for token in tokenizer(sample)]"
   ]
  },
  {
   "cell_type": "code",
   "execution_count": 22,
   "metadata": {},
   "outputs": [],
   "source": [
    "# convert to df for function testing\n",
    "df = pd.DataFrame(list_sample)\n",
    "df = df.rename(columns={0: 'text'})"
   ]
  },
  {
   "cell_type": "code",
   "execution_count": 57,
   "metadata": {},
   "outputs": [],
   "source": [
    "def tokenize(doc):\n",
    "    \"\"\"Parses a string into words      \n",
    "    Args:\n",
    "        doc (text feature): turns text feature into tokens\n",
    "    Returns:\n",
    "        Each observation tokenized\"\"\"\n",
    "    \n",
    "    tokens = []\n",
    "    \n",
    "    for observation in tokenizer.pipe(doc, batch_size=500):\n",
    "        \n",
    "        doc_tokens = []\n",
    "        \n",
    "        # Remove stop words and punctuation\n",
    "        for token in observation:\n",
    "            if(token.is_stop == False) and (token.is_punct == False):\n",
    "                doc_tokens.append(token.text.lower())        \n",
    "        \n",
    "        tokens.append(doc_tokens)\n",
    "        \n",
    "    return tokens"
   ]
  },
  {
   "cell_type": "code",
   "execution_count": 59,
   "metadata": {},
   "outputs": [],
   "source": [
    "# apply function\n",
    "yelp['tokens'] = tokenize(yelp['text'])"
   ]
  },
  {
   "cell_type": "code",
   "execution_count": 60,
   "metadata": {},
   "outputs": [
    {
     "data": {
      "text/plain": [
       "0    [beware!!!, fake,, fake,, fake....we, small, b...\n",
       "1    [came, lunch, togo., service, quick., staff, f...\n",
       "2    [i've, vegas, dozens, times, stepped, foot, ci...\n",
       "3    [went, night, closed, street, party..., best, ...\n",
       "4    [3.5, 4, stars, \\n\\n, bad, price,, $12.99, lun...\n",
       "5    [tasty,, fast, casual, latin, street, food.,  ...\n",
       "6    [absolutely, amazing!!, incredible, production...\n",
       "7    [came, pho, enjoyed, it!,  , got, 9:00pm, busy...\n",
       "8    [absolutely, unique, experience, nail, shop, f...\n",
       "9    [wow., walked, sat, bar, 10, minutes., bartend...\n",
       "Name: tokens, dtype: object"
      ]
     },
     "execution_count": 60,
     "metadata": {},
     "output_type": "execute_result"
    }
   ],
   "source": [
    "# view results\n",
    "yelp['tokens'].head(10)"
   ]
  },
  {
   "cell_type": "code",
   "execution_count": 53,
   "metadata": {},
   "outputs": [],
   "source": [
    "def get_lemmas(text):\n",
    "    \n",
    "    lemmas = []\n",
    "    \n",
    "    doc = nlp(text)\n",
    "    \n",
    "    for token in doc:\n",
    "        if((token.is_stop == False) and (token.is_punct == False)) and (token.pos_ != 'PRON'):\n",
    "            lemmas.append(token.lemma_)\n",
    "    \n",
    "    return lemmas"
   ]
  },
  {
   "cell_type": "code",
   "execution_count": 54,
   "metadata": {},
   "outputs": [],
   "source": [
    "yelp['lemmas'] = yelp['text'].apply(get_lemmas)"
   ]
  },
  {
   "cell_type": "code",
   "execution_count": 56,
   "metadata": {},
   "outputs": [
    {
     "data": {
      "text/plain": [
       "0    [beware, fake, fake, fake, small, business, Lo...\n",
       "1    [come, lunch, Togo, service, quick, staff, fri...\n",
       "2    [Vegas, dozen, time, step, foot, Circus, Circu...\n",
       "3    [go, night, close, street, party, good, actual...\n",
       "4    [3.5, 4, star, \\n\\n, bad, price, $, 12.99, lun...\n",
       "Name: lemmas, dtype: object"
      ]
     },
     "execution_count": 56,
     "metadata": {},
     "output_type": "execute_result"
    }
   ],
   "source": [
    "yelp['lemmas'].head()"
   ]
  },
  {
   "cell_type": "markdown",
   "metadata": {},
   "source": [
    "## Part 2: Vector Representation\n",
    "<a id=\"#p2\"></a>\n",
    "1. Create a vector representation of the reviews\n",
    "2. Write a fake review and query for the 10 most similiar reviews, print the text of the reviews. Do you notice any patterns?\n",
    "    - Given the size of the dataset, it will probably be best to use a `NearestNeighbors` model for this. "
   ]
  },
  {
   "cell_type": "code",
   "execution_count": 62,
   "metadata": {},
   "outputs": [],
   "source": [
    "''' Import Statements'''\n",
    "\n",
    "import seaborn as sns\n",
    "import matplotlib.pyplot as plt\n",
    "\n",
    "from sklearn.feature_extraction.text import CountVectorizer, TfidfVectorizer\n",
    "from sklearn.metrics.pairwise import cosine_similarity\n",
    "from sklearn.neighbors import NearestNeighbors\n",
    "from sklearn.decomposition import PCA"
   ]
  },
  {
   "cell_type": "code",
   "execution_count": 64,
   "metadata": {},
   "outputs": [
    {
     "data": {
      "text/html": [
       "<div>\n",
       "<style scoped>\n",
       "    .dataframe tbody tr th:only-of-type {\n",
       "        vertical-align: middle;\n",
       "    }\n",
       "\n",
       "    .dataframe tbody tr th {\n",
       "        vertical-align: top;\n",
       "    }\n",
       "\n",
       "    .dataframe thead th {\n",
       "        text-align: right;\n",
       "    }\n",
       "</style>\n",
       "<table border=\"1\" class=\"dataframe\">\n",
       "  <thead>\n",
       "    <tr style=\"text-align: right;\">\n",
       "      <th></th>\n",
       "      <th></th>\n",
       "      <th></th>\n",
       "      <th></th>\n",
       "      <th></th>\n",
       "      <th></th>\n",
       "      <th></th>\n",
       "      <th></th>\n",
       "      <th></th>\n",
       "      <th>$</th>\n",
       "      <th>1</th>\n",
       "      <th>...</th>\n",
       "      <th>à</th>\n",
       "      <th>à ce</th>\n",
       "      <th>à essayer</th>\n",
       "      <th>à la</th>\n",
       "      <th>ça</th>\n",
       "      <th>équipe</th>\n",
       "      <th>était</th>\n",
       "      <th>été</th>\n",
       "      <th>être</th>\n",
       "      <th>‍</th>\n",
       "    </tr>\n",
       "  </thead>\n",
       "  <tbody>\n",
       "    <tr>\n",
       "      <th>0</th>\n",
       "      <td>0.0</td>\n",
       "      <td>0.000000</td>\n",
       "      <td>0.0</td>\n",
       "      <td>0.0</td>\n",
       "      <td>0.0</td>\n",
       "      <td>0.0</td>\n",
       "      <td>0.0</td>\n",
       "      <td>0.0</td>\n",
       "      <td>0.0</td>\n",
       "      <td>0.0</td>\n",
       "      <td>...</td>\n",
       "      <td>0.0</td>\n",
       "      <td>0.0</td>\n",
       "      <td>0.0</td>\n",
       "      <td>0.0</td>\n",
       "      <td>0.0</td>\n",
       "      <td>0.0</td>\n",
       "      <td>0.0</td>\n",
       "      <td>0.0</td>\n",
       "      <td>0.0</td>\n",
       "      <td>0.0</td>\n",
       "    </tr>\n",
       "    <tr>\n",
       "      <th>1</th>\n",
       "      <td>0.0</td>\n",
       "      <td>0.000000</td>\n",
       "      <td>0.0</td>\n",
       "      <td>0.0</td>\n",
       "      <td>0.0</td>\n",
       "      <td>0.0</td>\n",
       "      <td>0.0</td>\n",
       "      <td>0.0</td>\n",
       "      <td>0.0</td>\n",
       "      <td>0.0</td>\n",
       "      <td>...</td>\n",
       "      <td>0.0</td>\n",
       "      <td>0.0</td>\n",
       "      <td>0.0</td>\n",
       "      <td>0.0</td>\n",
       "      <td>0.0</td>\n",
       "      <td>0.0</td>\n",
       "      <td>0.0</td>\n",
       "      <td>0.0</td>\n",
       "      <td>0.0</td>\n",
       "      <td>0.0</td>\n",
       "    </tr>\n",
       "    <tr>\n",
       "      <th>2</th>\n",
       "      <td>0.0</td>\n",
       "      <td>0.027527</td>\n",
       "      <td>0.0</td>\n",
       "      <td>0.0</td>\n",
       "      <td>0.0</td>\n",
       "      <td>0.0</td>\n",
       "      <td>0.0</td>\n",
       "      <td>0.0</td>\n",
       "      <td>0.0</td>\n",
       "      <td>0.0</td>\n",
       "      <td>...</td>\n",
       "      <td>0.0</td>\n",
       "      <td>0.0</td>\n",
       "      <td>0.0</td>\n",
       "      <td>0.0</td>\n",
       "      <td>0.0</td>\n",
       "      <td>0.0</td>\n",
       "      <td>0.0</td>\n",
       "      <td>0.0</td>\n",
       "      <td>0.0</td>\n",
       "      <td>0.0</td>\n",
       "    </tr>\n",
       "    <tr>\n",
       "      <th>3</th>\n",
       "      <td>0.0</td>\n",
       "      <td>0.000000</td>\n",
       "      <td>0.0</td>\n",
       "      <td>0.0</td>\n",
       "      <td>0.0</td>\n",
       "      <td>0.0</td>\n",
       "      <td>0.0</td>\n",
       "      <td>0.0</td>\n",
       "      <td>0.0</td>\n",
       "      <td>0.0</td>\n",
       "      <td>...</td>\n",
       "      <td>0.0</td>\n",
       "      <td>0.0</td>\n",
       "      <td>0.0</td>\n",
       "      <td>0.0</td>\n",
       "      <td>0.0</td>\n",
       "      <td>0.0</td>\n",
       "      <td>0.0</td>\n",
       "      <td>0.0</td>\n",
       "      <td>0.0</td>\n",
       "      <td>0.0</td>\n",
       "    </tr>\n",
       "    <tr>\n",
       "      <th>4</th>\n",
       "      <td>0.0</td>\n",
       "      <td>0.155970</td>\n",
       "      <td>0.0</td>\n",
       "      <td>0.0</td>\n",
       "      <td>0.0</td>\n",
       "      <td>0.0</td>\n",
       "      <td>0.0</td>\n",
       "      <td>0.0</td>\n",
       "      <td>0.0</td>\n",
       "      <td>0.0</td>\n",
       "      <td>...</td>\n",
       "      <td>0.0</td>\n",
       "      <td>0.0</td>\n",
       "      <td>0.0</td>\n",
       "      <td>0.0</td>\n",
       "      <td>0.0</td>\n",
       "      <td>0.0</td>\n",
       "      <td>0.0</td>\n",
       "      <td>0.0</td>\n",
       "      <td>0.0</td>\n",
       "      <td>0.0</td>\n",
       "    </tr>\n",
       "  </tbody>\n",
       "</table>\n",
       "<p>5 rows × 33512 columns</p>\n",
       "</div>"
      ],
      "text/plain": [
       "    \\n      \\n\\n  \\n\\n\\n  \\n\\n\\n\\n  \\n\\n   \\n\\n \\n  \\n\\n \\n\\n  \\n\\n    \\n\\n $  \\\n",
       "0  0.0  0.000000     0.0       0.0    0.0      0.0        0.0     0.0     0.0   \n",
       "1  0.0  0.000000     0.0       0.0    0.0      0.0        0.0     0.0     0.0   \n",
       "2  0.0  0.027527     0.0       0.0    0.0      0.0        0.0     0.0     0.0   \n",
       "3  0.0  0.000000     0.0       0.0    0.0      0.0        0.0     0.0     0.0   \n",
       "4  0.0  0.155970     0.0       0.0    0.0      0.0        0.0     0.0     0.0   \n",
       "\n",
       "   \\n\\n 1  ...    à  à ce  à essayer  à la   ça  équipe  était  été  être    ‍  \n",
       "0     0.0  ...  0.0   0.0        0.0   0.0  0.0     0.0    0.0  0.0   0.0  0.0  \n",
       "1     0.0  ...  0.0   0.0        0.0   0.0  0.0     0.0    0.0  0.0   0.0  0.0  \n",
       "2     0.0  ...  0.0   0.0        0.0   0.0  0.0     0.0    0.0  0.0   0.0  0.0  \n",
       "3     0.0  ...  0.0   0.0        0.0   0.0  0.0     0.0    0.0  0.0   0.0  0.0  \n",
       "4     0.0  ...  0.0   0.0        0.0   0.0  0.0     0.0    0.0  0.0   0.0  0.0  \n",
       "\n",
       "[5 rows x 33512 columns]"
      ]
     },
     "execution_count": 64,
     "metadata": {},
     "output_type": "execute_result"
    }
   ],
   "source": [
    "# instantiate vectorizer object\n",
    "tfidf = TfidfVectorizer(stop_words='english',\n",
    "                         ngram_range=(1,2),\n",
    "                         max_df=.97,\n",
    "                         min_df=3,\n",
    "                         tokenizer=get_lemmas)\n",
    "\n",
    "# create a vocabulary and get word counts\n",
    "dtm = tfidf.fit_transform(yelp['text'])\n",
    "\n",
    "# get feature names to use as dataframe column headers\n",
    "dtm = pd.DataFrame(dtm.todense(), columns=tfidf.get_feature_names())\n",
    "\n",
    "# view Feature Matrix as DataFrame\n",
    "dtm.head()"
   ]
  },
  {
   "cell_type": "code",
   "execution_count": 66,
   "metadata": {},
   "outputs": [
    {
     "data": {
      "text/plain": [
       "(10000, 33512)"
      ]
     },
     "execution_count": 66,
     "metadata": {},
     "output_type": "execute_result"
    }
   ],
   "source": [
    "dtm.shape"
   ]
  },
  {
   "cell_type": "code",
   "execution_count": 75,
   "metadata": {},
   "outputs": [
    {
     "data": {
      "text/plain": [
       "NearestNeighbors(algorithm='kd_tree', leaf_size=30, metric='minkowski',\n",
       "         metric_params=None, n_jobs=None, n_neighbors=10, p=2, radius=1.0)"
      ]
     },
     "execution_count": 75,
     "metadata": {},
     "output_type": "execute_result"
    }
   ],
   "source": [
    "# fit NearestNeighbors on DTM\n",
    "nn = NearestNeighbors(n_neighbors=10, algorithm='kd_tree')\n",
    "nn.fit(dtm)"
   ]
  },
  {
   "cell_type": "code",
   "execution_count": 68,
   "metadata": {},
   "outputs": [],
   "source": [
    "# create fake review\n",
    "fake_review = [\"I found the restaraunt to be very nice, although the servers were a bit annoying\"]"
   ]
  },
  {
   "cell_type": "code",
   "execution_count": 69,
   "metadata": {},
   "outputs": [],
   "source": [
    "# add to model\n",
    "fake_tfidf = tfidf.transform(fake_review)"
   ]
  },
  {
   "cell_type": "code",
   "execution_count": 108,
   "metadata": {},
   "outputs": [
    {
     "data": {
      "text/plain": [
       "<1x33512 sparse matrix of type '<class 'numpy.float64'>'\n",
       "\twith 6 stored elements in Compressed Sparse Row format>"
      ]
     },
     "execution_count": 108,
     "metadata": {},
     "output_type": "execute_result"
    }
   ],
   "source": [
    "fake_tfidf"
   ]
  },
  {
   "cell_type": "code",
   "execution_count": 107,
   "metadata": {},
   "outputs": [],
   "source": [
    "results = nn.kneighbors(fake_tfidf.todense())"
   ]
  },
  {
   "cell_type": "code",
   "execution_count": 101,
   "metadata": {},
   "outputs": [],
   "source": [
    "# make a cleaner list\n",
    "similar_reviews = results[1]\n",
    "\n",
    "for review in similar_reviews:\n",
    "    matches = pd.DataFrame(yelp['text'][review)"
   ]
  },
  {
   "cell_type": "code",
   "execution_count": 105,
   "metadata": {},
   "outputs": [
    {
     "data": {
      "text/html": [
       "<div>\n",
       "<style scoped>\n",
       "    .dataframe tbody tr th:only-of-type {\n",
       "        vertical-align: middle;\n",
       "    }\n",
       "\n",
       "    .dataframe tbody tr th {\n",
       "        vertical-align: top;\n",
       "    }\n",
       "\n",
       "    .dataframe thead th {\n",
       "        text-align: right;\n",
       "    }\n",
       "</style>\n",
       "<table border=\"1\" class=\"dataframe\">\n",
       "  <thead>\n",
       "    <tr style=\"text-align: right;\">\n",
       "      <th></th>\n",
       "      <th>text</th>\n",
       "    </tr>\n",
       "  </thead>\n",
       "  <tbody>\n",
       "    <tr>\n",
       "      <th>6311</th>\n",
       "      <td>天氣很熱吃不下東西，今天我點了一個韓國冷面湯、餐後點了甜點，冰沙系列不會太甜膩，覺得店家很用...</td>\n",
       "    </tr>\n",
       "    <tr>\n",
       "      <th>9333</th>\n",
       "      <td>I had tried their weekday buffet and it was mo...</td>\n",
       "    </tr>\n",
       "    <tr>\n",
       "      <th>5138</th>\n",
       "      <td>Love the quick appetizers! Great food and good...</td>\n",
       "    </tr>\n",
       "    <tr>\n",
       "      <th>8919</th>\n",
       "      <td>This is a very good hair salon but is a little...</td>\n",
       "    </tr>\n",
       "    <tr>\n",
       "      <th>8365</th>\n",
       "      <td>First of a let me start off by saying I love t...</td>\n",
       "    </tr>\n",
       "    <tr>\n",
       "      <th>8085</th>\n",
       "      <td>You can't really NOT go to a restaurant with a...</td>\n",
       "    </tr>\n",
       "    <tr>\n",
       "      <th>8074</th>\n",
       "      <td>Looking for somewhere different to go, we deci...</td>\n",
       "    </tr>\n",
       "    <tr>\n",
       "      <th>2208</th>\n",
       "      <td>Bad service, if you like an unopened bottle of...</td>\n",
       "    </tr>\n",
       "    <tr>\n",
       "      <th>5561</th>\n",
       "      <td>Came here for a friends bday dinner, and the i...</td>\n",
       "    </tr>\n",
       "    <tr>\n",
       "      <th>2420</th>\n",
       "      <td>After multiple times passing by and not been a...</td>\n",
       "    </tr>\n",
       "  </tbody>\n",
       "</table>\n",
       "</div>"
      ],
      "text/plain": [
       "                                                   text\n",
       "6311  天氣很熱吃不下東西，今天我點了一個韓國冷面湯、餐後點了甜點，冰沙系列不會太甜膩，覺得店家很用...\n",
       "9333  I had tried their weekday buffet and it was mo...\n",
       "5138  Love the quick appetizers! Great food and good...\n",
       "8919  This is a very good hair salon but is a little...\n",
       "8365  First of a let me start off by saying I love t...\n",
       "8085  You can't really NOT go to a restaurant with a...\n",
       "8074  Looking for somewhere different to go, we deci...\n",
       "2208  Bad service, if you like an unopened bottle of...\n",
       "5561  Came here for a friends bday dinner, and the i...\n",
       "2420  After multiple times passing by and not been a..."
      ]
     },
     "execution_count": 105,
     "metadata": {},
     "output_type": "execute_result"
    }
   ],
   "source": [
    "matches"
   ]
  },
  {
   "cell_type": "markdown",
   "metadata": {},
   "source": [
    "It seems like all of these reviews start positive but also include something negative"
   ]
  },
  {
   "cell_type": "markdown",
   "metadata": {},
   "source": [
    "## Part 3: Classification\n",
    "<a id=\"#p3\"></a>\n",
    "Your goal in this section will be to predict `stars` from the review dataset. \n",
    "\n",
    "1. Create a piepline object with a sklearn `CountVectorizer` or `TfidfVector` and any sklearn classifier. Use that pipeline to estimate a model to predict `stars`. Use the Pipeline to predict a star rating for your fake review from Part 2. \n",
    "2. Tune the entire pipeline with a GridSearch"
   ]
  },
  {
   "cell_type": "code",
   "execution_count": 125,
   "metadata": {},
   "outputs": [],
   "source": [
    "# imports\n",
    "from sklearn.pipeline import Pipeline\n",
    "from sklearn.ensemble import RandomForestClassifier\n",
    "from sklearn.model_selection import GridSearchCV\n",
    "from sklearn.model_selection import train_test_split"
   ]
  },
  {
   "cell_type": "code",
   "execution_count": 117,
   "metadata": {},
   "outputs": [
    {
     "data": {
      "text/plain": [
       "Index(['business_id', 'cool', 'date', 'funny', 'review_id', 'stars', 'text',\n",
       "       'useful', 'user_id', 'tokens', 'lemmas'],\n",
       "      dtype='object')"
      ]
     },
     "execution_count": 117,
     "metadata": {},
     "output_type": "execute_result"
    }
   ],
   "source": [
    "yelp.columns"
   ]
  },
  {
   "cell_type": "code",
   "execution_count": 139,
   "metadata": {},
   "outputs": [],
   "source": [
    "# split up data\n",
    "target = 'stars'\n",
    "X = yelp['text']\n",
    "y = yelp[target]\n",
    "\n",
    "# train-test-split\n",
    "X_train, X_test, y_train, y_test = train_test_split(X, y,\n",
    "                                    test_size=0.2, random_state=11, stratify=y)"
   ]
  },
  {
   "cell_type": "code",
   "execution_count": 133,
   "metadata": {},
   "outputs": [
    {
     "data": {
      "text/plain": [
       "((8000,), (8000,))"
      ]
     },
     "execution_count": 133,
     "metadata": {},
     "output_type": "execute_result"
    }
   ],
   "source": [
    "X_train.shape, y_train.shape"
   ]
  },
  {
   "cell_type": "code",
   "execution_count": 134,
   "metadata": {},
   "outputs": [],
   "source": [
    "# create instance of RandomForestClassifier and Vectorizer\n",
    "rfc = RandomForestClassifier()\n",
    "\n",
    "vect = TfidfVectorizer(stop_words='english')"
   ]
  },
  {
   "cell_type": "code",
   "execution_count": 135,
   "metadata": {},
   "outputs": [],
   "source": [
    "# define the pipeline\n",
    "pipe = Pipeline([\n",
    "                ('vect', vect),\n",
    "                ('clf', rfc)\n",
    "                ])"
   ]
  },
  {
   "cell_type": "code",
   "execution_count": 147,
   "metadata": {},
   "outputs": [
    {
     "name": "stdout",
     "output_type": "stream",
     "text": [
      "Fitting 5 folds for each of 32 candidates, totalling 160 fits\n"
     ]
    },
    {
     "name": "stderr",
     "output_type": "stream",
     "text": [
      "[Parallel(n_jobs=-1)]: Using backend LokyBackend with 4 concurrent workers.\n",
      "[Parallel(n_jobs=-1)]: Done  42 tasks      | elapsed:   20.7s\n",
      "[Parallel(n_jobs=-1)]: Done 160 out of 160 | elapsed:  1.2min finished\n"
     ]
    },
    {
     "data": {
      "text/plain": [
       "GridSearchCV(cv=5, error_score='raise-deprecating',\n",
       "       estimator=Pipeline(memory=None,\n",
       "     steps=[('vect', TfidfVectorizer(analyzer='word', binary=False, decode_error='strict',\n",
       "        dtype=<class 'numpy.float64'>, encoding='utf-8', input='content',\n",
       "        lowercase=True, max_df=1.0, max_features=None, min_df=1,\n",
       "        ngram_range=(1, 1), norm='l2', preprocessor=None, smooth_idf=True,\n",
       "...obs=None,\n",
       "            oob_score=False, random_state=None, verbose=0,\n",
       "            warm_start=False))]),\n",
       "       fit_params=None, iid='warn', n_jobs=-1,\n",
       "       param_grid={'vect__max_df': (0.75, 1.0), 'vect__min_df': (0.02, 0.05), 'vect__max_features': (500, 1000), 'clf__n_estimators': (5, 10), 'clf__max_depth': (15, 20)},\n",
       "       pre_dispatch='2*n_jobs', refit=True, return_train_score='warn',\n",
       "       scoring=None, verbose=1)"
      ]
     },
     "execution_count": 147,
     "metadata": {},
     "output_type": "execute_result"
    }
   ],
   "source": [
    "# set parameters\n",
    "parameters = {'vect__max_df': (0.75, 1.0),\n",
    "              'vect__min_df': (.02, .05),\n",
    "              'vect__max_features': (500, 1000),\n",
    "              'clf__n_estimators':(5, 10,),\n",
    "              'clf__max_depth':(15, 20)}\n",
    "\n",
    "# run pipeline\n",
    "grid_search = GridSearchCV(pipe, parameters, cv=5, n_jobs=-1, verbose=1)\n",
    "# fit\n",
    "grid_search.fit(X_train, y_train)"
   ]
  },
  {
   "cell_type": "code",
   "execution_count": 148,
   "metadata": {},
   "outputs": [
    {
     "data": {
      "text/plain": [
       "0.541375"
      ]
     },
     "execution_count": 148,
     "metadata": {},
     "output_type": "execute_result"
    }
   ],
   "source": [
    "# check score (yikes)\n",
    "grid_search.best_score_"
   ]
  },
  {
   "cell_type": "code",
   "execution_count": 151,
   "metadata": {},
   "outputs": [],
   "source": [
    "pred_rating = grid_search.predict(fake_review)"
   ]
  },
  {
   "cell_type": "code",
   "execution_count": 153,
   "metadata": {},
   "outputs": [
    {
     "name": "stdout",
     "output_type": "stream",
     "text": [
      "Predicted Rating of Review: 5 Stars\n"
     ]
    }
   ],
   "source": [
    "print('Predicted Rating of Review:', pred_rating[0],'Stars')"
   ]
  },
  {
   "cell_type": "markdown",
   "metadata": {},
   "source": [
    "## Part 4: Topic Modeling\n",
    "\n",
    "Let's find out what those yelp reviews are saying! :D\n",
    "\n",
    "1. Estimate a LDA topic model of the review text\n",
    "    - Keep the `iterations` parameter at or below 5 to reduce run time\n",
    "    - The `workers` parameter should match the number of physical cores on your machine.\n",
    "2. Create 1-2 visualizations of the results\n",
    "    - You can use the most important 3 words of a topic in relevant visualizations. Refer to yesterday's notebook to extract. \n",
    "3. In markdown, write 1-2 paragraphs of analysis on the results of your topic model\n",
    "\n",
    "__*Note*__: You can pass the DataFrame column of text reviews to gensim. You do not have to use a generator."
   ]
  },
  {
   "cell_type": "code",
   "execution_count": 154,
   "metadata": {
    "inputHidden": false,
    "outputHidden": false
   },
   "outputs": [
    {
     "name": "stderr",
     "output_type": "stream",
     "text": [
      "C:\\Users\\Sl0thstronaught\\Anaconda3\\envs\\u4-s1-nlp\\lib\\site-packages\\gensim\\utils.py:1197: UserWarning: detected Windows; aliasing chunkize to chunkize_serial\n",
      "  warnings.warn(\"detected Windows; aliasing chunkize to chunkize_serial\")\n"
     ]
    }
   ],
   "source": [
    "from gensim.models import LdaMulticore\n",
    "from gensim.corpora import Dictionary"
   ]
  },
  {
   "cell_type": "markdown",
   "metadata": {},
   "source": [
    "Learn the vocubalary of the yelp data:"
   ]
  },
  {
   "cell_type": "code",
   "execution_count": 157,
   "metadata": {},
   "outputs": [],
   "source": [
    "id2word = Dictionary(yelp['lemmas'])"
   ]
  },
  {
   "cell_type": "markdown",
   "metadata": {},
   "source": [
    "Create a bag of words representation of the entire corpus"
   ]
  },
  {
   "cell_type": "code",
   "execution_count": 159,
   "metadata": {
    "inputHidden": false,
    "outputHidden": false
   },
   "outputs": [],
   "source": [
    "corpus = [id2word.doc2bow(text) for text in yelp['lemmas']]"
   ]
  },
  {
   "cell_type": "code",
   "execution_count": 160,
   "metadata": {},
   "outputs": [
    {
     "data": {
      "text/plain": [
       "[(0, 4),\n",
       " (1, 1),\n",
       " (2, 1),\n",
       " (3, 1),\n",
       " (4, 1),\n",
       " (5, 1),\n",
       " (6, 1),\n",
       " (7, 1),\n",
       " (8, 1),\n",
       " (9, 1)]"
      ]
     },
     "execution_count": 160,
     "metadata": {},
     "output_type": "execute_result"
    }
   ],
   "source": [
    "corpus[0][:10]"
   ]
  },
  {
   "cell_type": "markdown",
   "metadata": {},
   "source": [
    "Your LDA model should be ready for estimation: "
   ]
  },
  {
   "cell_type": "code",
   "execution_count": 161,
   "metadata": {
    "inputHidden": false,
    "outputHidden": false
   },
   "outputs": [],
   "source": [
    "lda = LdaMulticore(corpus=corpus,\n",
    "                   id2word=id2word,\n",
    "                   iterations=5,\n",
    "                   workers=4,\n",
    "                   num_topics = 10 # You can change this parameter\n",
    "                  )"
   ]
  },
  {
   "cell_type": "code",
   "execution_count": 162,
   "metadata": {},
   "outputs": [
    {
     "data": {
      "text/plain": [
       "[(0,\n",
       "  '0.027*\" \" + 0.019*\"\\n\\n\" + 0.015*\"good\" + 0.009*\"place\" + 0.008*\"go\" + 0.008*\"time\" + 0.008*\"come\" + 0.007*\"order\" + 0.007*\"like\" + 0.006*\"food\"'),\n",
       " (1,\n",
       "  '0.030*\" \" + 0.015*\"\\n\\n\" + 0.011*\"good\" + 0.010*\"great\" + 0.009*\"time\" + 0.009*\"food\" + 0.009*\"come\" + 0.008*\"like\" + 0.007*\"place\" + 0.006*\"service\"'),\n",
       " (2,\n",
       "  '0.030*\" \" + 0.015*\"\\n\\n\" + 0.014*\"good\" + 0.010*\"place\" + 0.008*\"come\" + 0.008*\"great\" + 0.008*\"time\" + 0.007*\"food\" + 0.007*\"like\" + 0.006*\"go\"'),\n",
       " (3,\n",
       "  '0.039*\" \" + 0.014*\"\\n\\n\" + 0.012*\"good\" + 0.011*\"food\" + 0.009*\"great\" + 0.009*\"time\" + 0.009*\"place\" + 0.007*\"service\" + 0.007*\"like\" + 0.006*\"come\"'),\n",
       " (4,\n",
       "  '0.028*\" \" + 0.013*\"great\" + 0.012*\"place\" + 0.011*\"good\" + 0.011*\"food\" + 0.010*\"time\" + 0.010*\"\\n\\n\" + 0.008*\"get\" + 0.008*\"come\" + 0.007*\"like\"'),\n",
       " (5,\n",
       "  '0.015*\" \" + 0.014*\"\\n\\n\" + 0.009*\"place\" + 0.009*\"good\" + 0.008*\"food\" + 0.008*\"like\" + 0.007*\"time\" + 0.007*\"come\" + 0.007*\"\\n\" + 0.007*\"great\"'),\n",
       " (6,\n",
       "  '0.022*\" \" + 0.015*\"good\" + 0.012*\"\\n\\n\" + 0.010*\"\\n\" + 0.010*\"place\" + 0.009*\"food\" + 0.008*\"order\" + 0.007*\"come\" + 0.007*\"service\" + 0.007*\"like\"'),\n",
       " (7,\n",
       "  '0.022*\"\\n\\n\" + 0.015*\" \" + 0.011*\"good\" + 0.010*\"place\" + 0.010*\"food\" + 0.008*\"like\" + 0.008*\"time\" + 0.008*\"order\" + 0.008*\"come\" + 0.007*\"\\n\"'),\n",
       " (8,\n",
       "  '0.024*\" \" + 0.019*\"\\n\\n\" + 0.011*\"good\" + 0.009*\"service\" + 0.009*\"food\" + 0.009*\"great\" + 0.008*\"place\" + 0.006*\"time\" + 0.005*\"like\" + 0.005*\"\\n\"'),\n",
       " (9,\n",
       "  '0.032*\" \" + 0.015*\"\\n\\n\" + 0.013*\"place\" + 0.010*\"food\" + 0.009*\"good\" + 0.008*\"order\" + 0.007*\"go\" + 0.007*\"great\" + 0.007*\"like\" + 0.007*\"come\"')]"
      ]
     },
     "execution_count": 162,
     "metadata": {},
     "output_type": "execute_result"
    }
   ],
   "source": [
    "lda.print_topics()"
   ]
  },
  {
   "cell_type": "markdown",
   "metadata": {},
   "source": [
    "Create 1-2 visualizations of the results"
   ]
  },
  {
   "cell_type": "code",
   "execution_count": 164,
   "metadata": {
    "inputHidden": false,
    "outputHidden": false
   },
   "outputs": [],
   "source": [
    "import re\n",
    "\n",
    "words = [re.findall(r'\"([^\"]*)\"', t[1]) for t in lda.print_topics()]"
   ]
  },
  {
   "cell_type": "code",
   "execution_count": 166,
   "metadata": {},
   "outputs": [],
   "source": [
    "topics = [' '.join(t[0:5]) for t in words]"
   ]
  },
  {
   "cell_type": "code",
   "execution_count": 167,
   "metadata": {},
   "outputs": [
    {
     "name": "stdout",
     "output_type": "stream",
     "text": [
      "------- Topic -------\n",
      "  \n",
      "\n",
      " good place go\n",
      "\n",
      "------- Topic -------\n",
      "  \n",
      "\n",
      " good great time\n",
      "\n",
      "------- Topic -------\n",
      "  \n",
      "\n",
      " good place come\n",
      "\n",
      "------- Topic -------\n",
      "  \n",
      "\n",
      " good food great\n",
      "\n",
      "------- Topic -------\n",
      "  great place good food\n",
      "\n",
      "------- Topic -------\n",
      "  \n",
      "\n",
      " place good food\n",
      "\n",
      "------- Topic -------\n",
      "  good \n",
      "\n",
      " \n",
      " place\n",
      "\n",
      "------- Topic -------\n",
      "\n",
      "\n",
      "   good place food\n",
      "\n",
      "------- Topic -------\n",
      "  \n",
      "\n",
      " good service food\n",
      "\n",
      "------- Topic -------\n",
      "  \n",
      "\n",
      " place food good\n",
      "\n"
     ]
    }
   ],
   "source": [
    "for id, t in enumerate(topics):\n",
    "    print(f'------- Topic -------')\n",
    "    print(t, end='\\n\\n')"
   ]
  },
  {
   "cell_type": "code",
   "execution_count": 168,
   "metadata": {},
   "outputs": [],
   "source": [
    "# use pyLDAvis for topic visualization\n",
    "import pyLDAvis.gensim\n",
    "\n",
    "pyLDAvis.enable_notebook()"
   ]
  },
  {
   "cell_type": "code",
   "execution_count": 169,
   "metadata": {},
   "outputs": [
    {
     "name": "stderr",
     "output_type": "stream",
     "text": [
      "C:\\Users\\Sl0thstronaught\\Anaconda3\\envs\\u4-s1-nlp\\lib\\site-packages\\pyLDAvis\\_prepare.py:257: FutureWarning: Sorting because non-concatenation axis is not aligned. A future version\n",
      "of pandas will change to not sort by default.\n",
      "\n",
      "To accept the future behavior, pass 'sort=False'.\n",
      "\n",
      "To retain the current behavior and silence the warning, pass 'sort=True'.\n",
      "\n",
      "  return pd.concat([default_term_info] + list(topic_dfs))\n"
     ]
    },
    {
     "data": {
      "text/html": [
       "\n",
       "<link rel=\"stylesheet\" type=\"text/css\" href=\"https://cdn.rawgit.com/bmabey/pyLDAvis/files/ldavis.v1.0.0.css\">\n",
       "\n",
       "\n",
       "<div id=\"ldavis_el1422019468997774805992375178\"></div>\n",
       "<script type=\"text/javascript\">\n",
       "\n",
       "var ldavis_el1422019468997774805992375178_data = {\"mdsDat\": {\"x\": [0.002298374341182651, 0.0003745518730278435, 0.0014400629334675153, 0.005404532399368669, 0.0019115092836087082, -0.006082518812719764, 0.0018756099855532092, -0.00032040847783257917, -0.005208238333794011, -0.0016934751918622312], \"y\": [-0.004151561070393575, 0.0052473201482285455, 0.0008884859232659056, -0.0016257899332712954, 0.0005621392252641704, 0.00011597373783349243, 0.0005460896893333765, 0.002369054565527179, -0.002207025488425568, -0.0017446867973622306], \"topics\": [1, 2, 3, 4, 5, 6, 7, 8, 9, 10], \"cluster\": [1, 1, 1, 1, 1, 1, 1, 1, 1, 1], \"Freq\": [10.634190559387207, 10.469355583190918, 10.301826477050781, 10.211016654968262, 10.160638809204102, 10.151143074035645, 9.865851402282715, 9.76716423034668, 9.283623695373535, 9.15518569946289]}, \"tinfo\": {\"Category\": [\"Default\", \"Default\", \"Default\", \"Default\", \"Default\", \"Default\", \"Default\", \"Default\", \"Default\", \"Default\", \"Default\", \"Default\", \"Default\", \"Default\", \"Default\", \"Default\", \"Default\", \"Default\", \"Default\", \"Default\", \"Default\", \"Default\", \"Default\", \"Default\", \"Default\", \"Default\", \"Default\", \"Default\", \"Default\", \"Default\", \"Topic1\", \"Topic1\", \"Topic1\", \"Topic1\", \"Topic1\", \"Topic1\", \"Topic1\", \"Topic1\", \"Topic1\", \"Topic1\", \"Topic1\", \"Topic1\", \"Topic1\", \"Topic1\", \"Topic1\", \"Topic1\", \"Topic1\", \"Topic1\", \"Topic1\", \"Topic1\", \"Topic1\", \"Topic1\", \"Topic1\", \"Topic1\", \"Topic1\", \"Topic1\", \"Topic1\", \"Topic1\", \"Topic1\", \"Topic1\", \"Topic1\", \"Topic1\", \"Topic1\", \"Topic1\", \"Topic1\", \"Topic1\", \"Topic1\", \"Topic1\", \"Topic1\", \"Topic1\", \"Topic1\", \"Topic1\", \"Topic1\", \"Topic1\", \"Topic1\", \"Topic1\", \"Topic1\", \"Topic1\", \"Topic1\", \"Topic1\", \"Topic1\", \"Topic1\", \"Topic1\", \"Topic1\", \"Topic1\", \"Topic1\", \"Topic1\", \"Topic1\", \"Topic1\", \"Topic1\", \"Topic1\", \"Topic1\", \"Topic1\", \"Topic1\", \"Topic1\", \"Topic1\", \"Topic1\", \"Topic1\", \"Topic1\", \"Topic1\", \"Topic1\", \"Topic1\", \"Topic1\", \"Topic1\", \"Topic1\", \"Topic2\", \"Topic2\", \"Topic2\", \"Topic2\", \"Topic2\", \"Topic2\", \"Topic2\", \"Topic2\", \"Topic2\", \"Topic2\", \"Topic2\", \"Topic2\", \"Topic2\", \"Topic2\", \"Topic2\", \"Topic2\", \"Topic2\", \"Topic2\", \"Topic2\", \"Topic2\", \"Topic2\", \"Topic2\", \"Topic2\", \"Topic2\", \"Topic2\", \"Topic2\", \"Topic2\", \"Topic2\", \"Topic2\", \"Topic2\", \"Topic2\", \"Topic2\", \"Topic2\", \"Topic2\", \"Topic2\", \"Topic2\", \"Topic2\", \"Topic2\", \"Topic2\", \"Topic2\", \"Topic2\", \"Topic2\", \"Topic2\", \"Topic2\", \"Topic2\", \"Topic2\", \"Topic2\", \"Topic2\", \"Topic2\", \"Topic2\", \"Topic2\", \"Topic2\", \"Topic2\", \"Topic2\", \"Topic2\", \"Topic2\", \"Topic2\", \"Topic2\", \"Topic2\", \"Topic2\", \"Topic2\", \"Topic2\", \"Topic2\", \"Topic2\", \"Topic2\", \"Topic2\", \"Topic2\", \"Topic2\", \"Topic2\", \"Topic2\", \"Topic2\", \"Topic2\", \"Topic2\", \"Topic2\", \"Topic2\", \"Topic2\", \"Topic2\", \"Topic2\", \"Topic2\", \"Topic2\", \"Topic2\", \"Topic2\", \"Topic2\", \"Topic3\", \"Topic3\", \"Topic3\", \"Topic3\", \"Topic3\", \"Topic3\", \"Topic3\", \"Topic3\", \"Topic3\", \"Topic3\", \"Topic3\", \"Topic3\", \"Topic3\", \"Topic3\", \"Topic3\", \"Topic3\", \"Topic3\", \"Topic3\", \"Topic3\", \"Topic3\", \"Topic3\", \"Topic3\", \"Topic3\", \"Topic3\", \"Topic3\", \"Topic3\", \"Topic3\", \"Topic3\", \"Topic3\", \"Topic3\", \"Topic3\", \"Topic3\", \"Topic3\", \"Topic3\", \"Topic3\", \"Topic3\", \"Topic3\", \"Topic3\", \"Topic3\", \"Topic3\", \"Topic3\", \"Topic3\", \"Topic3\", \"Topic3\", \"Topic3\", \"Topic3\", \"Topic3\", \"Topic3\", \"Topic3\", \"Topic3\", \"Topic3\", \"Topic3\", \"Topic3\", \"Topic3\", \"Topic3\", \"Topic3\", \"Topic3\", \"Topic3\", \"Topic3\", \"Topic3\", \"Topic3\", \"Topic3\", \"Topic3\", \"Topic3\", \"Topic3\", \"Topic3\", \"Topic3\", \"Topic3\", \"Topic3\", \"Topic3\", \"Topic3\", \"Topic3\", \"Topic3\", \"Topic3\", \"Topic3\", \"Topic4\", \"Topic4\", \"Topic4\", \"Topic4\", \"Topic4\", \"Topic4\", \"Topic4\", \"Topic4\", \"Topic4\", \"Topic4\", \"Topic4\", \"Topic4\", \"Topic4\", \"Topic4\", \"Topic4\", \"Topic4\", \"Topic4\", \"Topic4\", \"Topic4\", \"Topic4\", \"Topic4\", \"Topic4\", \"Topic4\", \"Topic4\", \"Topic4\", \"Topic4\", \"Topic4\", \"Topic4\", \"Topic4\", \"Topic4\", \"Topic4\", \"Topic4\", \"Topic4\", \"Topic4\", \"Topic4\", \"Topic4\", \"Topic4\", \"Topic4\", \"Topic4\", \"Topic4\", \"Topic4\", \"Topic4\", \"Topic4\", \"Topic4\", \"Topic4\", \"Topic4\", \"Topic4\", \"Topic4\", \"Topic4\", \"Topic4\", \"Topic4\", \"Topic4\", \"Topic4\", \"Topic4\", \"Topic4\", \"Topic4\", \"Topic4\", \"Topic4\", \"Topic4\", \"Topic4\", \"Topic4\", \"Topic4\", \"Topic4\", \"Topic4\", \"Topic4\", \"Topic4\", \"Topic4\", \"Topic4\", \"Topic4\", \"Topic4\", \"Topic4\", \"Topic4\", \"Topic4\", \"Topic4\", \"Topic4\", \"Topic4\", \"Topic5\", \"Topic5\", \"Topic5\", \"Topic5\", \"Topic5\", \"Topic5\", \"Topic5\", \"Topic5\", \"Topic5\", \"Topic5\", \"Topic5\", \"Topic5\", \"Topic5\", \"Topic5\", \"Topic5\", \"Topic5\", \"Topic5\", \"Topic5\", \"Topic5\", \"Topic5\", \"Topic5\", \"Topic5\", \"Topic5\", \"Topic5\", \"Topic5\", \"Topic5\", \"Topic5\", \"Topic5\", \"Topic5\", \"Topic5\", \"Topic5\", \"Topic5\", \"Topic5\", \"Topic5\", \"Topic5\", \"Topic5\", \"Topic5\", \"Topic5\", \"Topic5\", \"Topic5\", \"Topic5\", \"Topic5\", \"Topic5\", \"Topic5\", \"Topic5\", \"Topic5\", \"Topic5\", \"Topic5\", \"Topic5\", \"Topic5\", \"Topic5\", \"Topic5\", \"Topic5\", \"Topic5\", \"Topic5\", \"Topic5\", \"Topic5\", \"Topic5\", \"Topic5\", \"Topic5\", \"Topic5\", \"Topic5\", \"Topic5\", \"Topic5\", \"Topic5\", \"Topic5\", \"Topic5\", \"Topic5\", \"Topic5\", \"Topic5\", \"Topic5\", \"Topic5\", \"Topic5\", \"Topic5\", \"Topic5\", \"Topic5\", \"Topic5\", \"Topic5\", \"Topic5\", \"Topic5\", \"Topic6\", \"Topic6\", \"Topic6\", \"Topic6\", \"Topic6\", \"Topic6\", \"Topic6\", \"Topic6\", \"Topic6\", \"Topic6\", \"Topic6\", \"Topic6\", \"Topic6\", \"Topic6\", \"Topic6\", \"Topic6\", \"Topic6\", \"Topic6\", \"Topic6\", \"Topic6\", \"Topic6\", \"Topic6\", \"Topic6\", \"Topic6\", \"Topic6\", \"Topic6\", \"Topic6\", \"Topic6\", \"Topic6\", \"Topic6\", \"Topic6\", \"Topic6\", \"Topic6\", \"Topic6\", \"Topic6\", \"Topic6\", \"Topic6\", \"Topic6\", \"Topic6\", \"Topic6\", \"Topic6\", \"Topic6\", \"Topic6\", \"Topic6\", \"Topic6\", \"Topic6\", \"Topic6\", \"Topic6\", \"Topic6\", \"Topic6\", \"Topic6\", \"Topic6\", \"Topic6\", \"Topic6\", \"Topic6\", \"Topic6\", \"Topic6\", \"Topic6\", \"Topic6\", \"Topic6\", \"Topic6\", \"Topic6\", \"Topic6\", \"Topic6\", \"Topic6\", \"Topic6\", \"Topic6\", \"Topic6\", \"Topic6\", \"Topic6\", \"Topic6\", \"Topic6\", \"Topic6\", \"Topic6\", \"Topic6\", \"Topic6\", \"Topic6\", \"Topic6\", \"Topic6\", \"Topic6\", \"Topic7\", \"Topic7\", \"Topic7\", \"Topic7\", \"Topic7\", \"Topic7\", \"Topic7\", \"Topic7\", \"Topic7\", \"Topic7\", \"Topic7\", \"Topic7\", \"Topic7\", \"Topic7\", \"Topic7\", \"Topic7\", \"Topic7\", \"Topic7\", \"Topic7\", \"Topic7\", \"Topic7\", \"Topic7\", \"Topic7\", \"Topic7\", \"Topic7\", \"Topic7\", \"Topic7\", \"Topic7\", \"Topic7\", \"Topic7\", \"Topic7\", \"Topic7\", \"Topic7\", \"Topic7\", \"Topic7\", \"Topic7\", \"Topic7\", \"Topic7\", \"Topic7\", \"Topic7\", \"Topic7\", \"Topic7\", \"Topic7\", \"Topic7\", \"Topic7\", \"Topic7\", \"Topic7\", \"Topic7\", \"Topic7\", \"Topic7\", \"Topic7\", \"Topic7\", \"Topic7\", \"Topic7\", \"Topic7\", \"Topic7\", \"Topic7\", \"Topic7\", \"Topic7\", \"Topic7\", \"Topic7\", \"Topic7\", \"Topic7\", \"Topic7\", \"Topic7\", \"Topic7\", \"Topic7\", \"Topic7\", \"Topic7\", \"Topic7\", \"Topic7\", \"Topic7\", \"Topic7\", \"Topic7\", \"Topic7\", \"Topic7\", \"Topic7\", \"Topic7\", \"Topic7\", \"Topic7\", \"Topic7\", \"Topic8\", \"Topic8\", \"Topic8\", \"Topic8\", \"Topic8\", \"Topic8\", \"Topic8\", \"Topic8\", \"Topic8\", \"Topic8\", \"Topic8\", \"Topic8\", \"Topic8\", \"Topic8\", \"Topic8\", \"Topic8\", \"Topic8\", \"Topic8\", \"Topic8\", \"Topic8\", \"Topic8\", \"Topic8\", \"Topic8\", \"Topic8\", \"Topic8\", \"Topic8\", \"Topic8\", \"Topic8\", \"Topic8\", \"Topic8\", \"Topic8\", \"Topic8\", \"Topic8\", \"Topic8\", \"Topic8\", \"Topic8\", \"Topic8\", \"Topic8\", \"Topic8\", \"Topic8\", \"Topic8\", \"Topic8\", \"Topic8\", \"Topic8\", \"Topic8\", \"Topic8\", \"Topic8\", \"Topic8\", \"Topic8\", \"Topic8\", \"Topic8\", \"Topic8\", \"Topic8\", \"Topic8\", \"Topic8\", \"Topic8\", \"Topic8\", \"Topic8\", \"Topic8\", \"Topic8\", \"Topic8\", \"Topic8\", \"Topic8\", \"Topic8\", \"Topic8\", \"Topic8\", \"Topic8\", \"Topic8\", \"Topic8\", \"Topic8\", \"Topic8\", \"Topic8\", \"Topic8\", \"Topic8\", \"Topic8\", \"Topic8\", \"Topic8\", \"Topic8\", \"Topic8\", \"Topic8\", \"Topic9\", \"Topic9\", \"Topic9\", \"Topic9\", \"Topic9\", \"Topic9\", \"Topic9\", \"Topic9\", \"Topic9\", \"Topic9\", \"Topic9\", \"Topic9\", \"Topic9\", \"Topic9\", \"Topic9\", \"Topic9\", \"Topic9\", \"Topic9\", \"Topic9\", \"Topic9\", \"Topic9\", \"Topic9\", \"Topic9\", \"Topic9\", \"Topic9\", \"Topic9\", \"Topic9\", \"Topic9\", \"Topic9\", \"Topic9\", \"Topic9\", \"Topic9\", \"Topic9\", \"Topic9\", \"Topic9\", \"Topic9\", \"Topic9\", \"Topic9\", \"Topic9\", \"Topic9\", \"Topic9\", \"Topic9\", \"Topic9\", \"Topic9\", \"Topic9\", \"Topic9\", \"Topic9\", \"Topic9\", \"Topic9\", \"Topic9\", \"Topic9\", \"Topic9\", \"Topic9\", \"Topic9\", \"Topic9\", \"Topic9\", \"Topic9\", \"Topic9\", \"Topic9\", \"Topic9\", \"Topic9\", \"Topic9\", \"Topic9\", \"Topic9\", \"Topic9\", \"Topic9\", \"Topic9\", \"Topic9\", \"Topic9\", \"Topic9\", \"Topic9\", \"Topic9\", \"Topic9\", \"Topic9\", \"Topic9\", \"Topic9\", \"Topic9\", \"Topic9\", \"Topic9\", \"Topic9\", \"Topic9\", \"Topic9\", \"Topic9\", \"Topic9\", \"Topic9\", \"Topic9\", \"Topic9\", \"Topic9\", \"Topic9\", \"Topic10\", \"Topic10\", \"Topic10\", \"Topic10\", \"Topic10\", \"Topic10\", \"Topic10\", \"Topic10\", \"Topic10\", \"Topic10\", \"Topic10\", \"Topic10\", \"Topic10\", \"Topic10\", \"Topic10\", \"Topic10\", \"Topic10\", \"Topic10\", \"Topic10\", \"Topic10\", \"Topic10\", \"Topic10\", \"Topic10\", \"Topic10\", \"Topic10\", \"Topic10\", \"Topic10\", \"Topic10\", \"Topic10\", \"Topic10\", \"Topic10\", \"Topic10\", \"Topic10\", \"Topic10\", \"Topic10\", \"Topic10\", \"Topic10\", \"Topic10\", \"Topic10\", \"Topic10\", \"Topic10\", \"Topic10\", \"Topic10\", \"Topic10\", \"Topic10\", \"Topic10\", \"Topic10\", \"Topic10\", \"Topic10\", \"Topic10\", \"Topic10\", \"Topic10\", \"Topic10\", \"Topic10\", \"Topic10\", \"Topic10\", \"Topic10\", \"Topic10\", \"Topic10\", \"Topic10\", \"Topic10\", \"Topic10\", \"Topic10\", \"Topic10\", \"Topic10\", \"Topic10\", \"Topic10\", \"Topic10\", \"Topic10\", \"Topic10\", \"Topic10\", \"Topic10\", \"Topic10\", \"Topic10\", \"Topic10\", \"Topic10\", \"Topic10\", \"Topic10\", \"Topic10\", \"Topic10\", \"Topic10\", \"Topic10\", \"Topic10\", \"Topic10\", \"Topic10\", \"Topic10\"], \"Freq\": [13757.0, 8156.0, 3054.0, 4117.0, 6132.0, 2167.0, 3289.0, 5070.0, 2963.0, 1325.0, 4684.0, 1438.0, 1465.0, 3752.0, 1692.0, 3450.0, 4122.0, 2791.0, 726.0, 1481.0, 2461.0, 1468.0, 1412.0, 1087.0, 1733.0, 2143.0, 999.0, 1348.0, 1458.0, 1324.0, 1.6287086009979248, 1.9550572633743286, 0.554374635219574, 1.033085584640503, 1.4635905027389526, 1.4756274223327637, 0.43289899826049805, 0.4015495181083679, 1.2944526672363281, 0.5632652640342712, 1.7962019443511963, 2.410837411880493, 0.7368729114532471, 0.7237834334373474, 0.6978601217269897, 0.698348343372345, 0.5120081305503845, 0.36039334535598755, 0.3591781556606293, 0.6825412511825562, 1.299756646156311, 0.4997049570083618, 0.9649943709373474, 0.6762410402297974, 0.8182195425033569, 0.8176285624504089, 0.4881850481033325, 2.099193572998047, 0.6575089693069458, 0.6205602884292603, 3.6228060722351074, 1.6454658508300781, 701.7710571289062, 440.418701171875, 180.16233825683594, 161.02513122558594, 93.43380737304688, 581.2127075195312, 304.21002197265625, 5.570927619934082, 340.7579345703125, 302.29083251953125, 644.1099853515625, 45.23244094848633, 89.12991333007812, 584.0667724609375, 1545.1195068359375, 201.5750732421875, 46.31673812866211, 71.73734283447266, 134.55010986328125, 365.1680603027344, 113.01945495605469, 432.00543212890625, 133.0516357421875, 67.013916015625, 204.13279724121094, 616.9653930664062, 225.66140747070312, 188.45654296875, 353.5322265625, 366.64825439453125, 159.3440399169922, 196.73587036132812, 322.7162170410156, 293.8675537109375, 170.51734924316406, 181.33226013183594, 566.5693969726562, 165.94642639160156, 147.9224090576172, 153.96360778808594, 169.34619140625, 157.33627319335938, 161.1634979248047, 0.705390453338623, 1.1182960271835327, 1.4679237604141235, 1.099766731262207, 0.8802432417869568, 0.9957560300827026, 0.4253689646720886, 0.422667533159256, 0.4109630584716797, 0.7834396362304688, 2.3229849338531494, 0.7791454195976257, 0.7708638906478882, 1.2859519720077515, 0.3866061568260193, 1.221596360206604, 0.3738902509212494, 0.7121863961219788, 0.3666028082370758, 0.36621448397636414, 0.815410852432251, 1.3266863822937012, 0.8436608910560608, 0.508836030960083, 0.5047228336334229, 1.8833210468292236, 0.8264700770378113, 1.401411771774292, 0.35315319895744324, 1.0891577005386353, 15.953008651733398, 215.76968383789062, 1.2209612131118774, 24.62636375427246, 241.75509643554688, 83.6692123413086, 134.66036987304688, 436.0803527832031, 19.000328063964844, 802.3734130859375, 1011.159423828125, 288.31732177734375, 79.79629516601562, 84.24015045166016, 235.38963317871094, 135.22994995117188, 84.8392105102539, 406.8887939453125, 1457.6317138671875, 136.3775177001953, 87.8182601928711, 41.81717300415039, 42.63060760498047, 96.38593292236328, 61.84553527832031, 412.7613220214844, 208.52484130859375, 313.7536315917969, 169.32257080078125, 388.27044677734375, 428.97125244140625, 107.36819458007812, 129.51864624023438, 481.8713684082031, 172.97254943847656, 91.5894775390625, 173.8662109375, 136.33880615234375, 325.2507019042969, 141.6448516845703, 159.66529846191406, 166.80523681640625, 132.91334533691406, 324.93585205078125, 344.4845275878906, 156.13206481933594, 169.49127197265625, 182.16079711914062, 205.95790100097656, 194.4759521484375, 156.3092498779297, 151.19232177734375, 153.68606567382812, 1.4205669164657593, 1.3938406705856323, 1.6068302392959595, 0.6278609037399292, 1.17853844165802, 1.0301718711853027, 1.862789273262024, 8.414698600769043, 0.4189293384552002, 0.5898084044456482, 0.7915529012680054, 0.7607401013374329, 0.7521438598632812, 0.9129086136817932, 1.5351828336715698, 0.727074146270752, 0.7135352492332458, 0.7122344374656677, 0.8305429816246033, 0.6785244345664978, 0.6751596331596375, 0.673229455947876, 0.957554817199707, 1.5464751720428467, 0.8047813177108765, 0.48796364665031433, 0.656469464302063, 0.6527628302574158, 1.1019004583358765, 0.7540485858917236, 2.5893101692199707, 62.84126281738281, 2.96250581741333, 2.2544562816619873, 86.52339935302734, 705.9005737304688, 1729.193603515625, 450.41748046875, 32.4401741027832, 90.30265808105469, 164.85511779785156, 381.0802001953125, 219.67703247070312, 196.0231170654297, 557.8041381835938, 191.525390625, 23.396318435668945, 169.42225646972656, 94.29499816894531, 95.30545043945312, 86.93941497802734, 830.5552978515625, 211.8654022216797, 139.8379669189453, 110.42800903320312, 116.07756805419922, 175.29112243652344, 174.326904296875, 360.300048828125, 340.1285705566406, 229.90550231933594, 356.8015441894531, 299.0290832519531, 366.14593505859375, 485.9830322265625, 260.3374328613281, 180.64205932617188, 173.0137481689453, 322.9420471191406, 219.5156707763672, 144.08615112304688, 153.68910217285156, 148.73373413085938, 148.7111053466797, 148.73193359375, 0.7548910975456238, 0.9711849689483643, 0.8802312016487122, 0.4588032364845276, 0.9193766713142395, 0.9052780866622925, 0.9324327111244202, 0.548539936542511, 0.3845641613006592, 2.308342456817627, 0.5221053957939148, 0.3699337840080261, 0.36868250370025635, 0.7055479288101196, 0.368271142244339, 0.6624569892883301, 0.6886060833930969, 0.9738249778747559, 0.6789395213127136, 0.35207581520080566, 1.6786413192749023, 0.9050775766372681, 1.1084058284759521, 0.6443222165107727, 0.4699219763278961, 0.33152949810028076, 0.6306293606758118, 0.763039767742157, 1.435598611831665, 0.893399178981781, 1.2954058647155762, 2096.00830078125, 16.78333854675293, 267.2593688964844, 86.78191375732422, 28.206436157226562, 216.6336212158203, 193.2080841064453, 63.767635345458984, 578.0333251953125, 33.87050247192383, 78.14468383789062, 14.515471458435059, 115.5831527709961, 495.45733642578125, 89.08904266357422, 54.661495208740234, 179.99110412597656, 38.04695510864258, 79.20899963378906, 182.6589813232422, 464.4438171386719, 211.4259796142578, 166.2469482421875, 623.445068359375, 177.12158203125, 369.1810302734375, 182.69223022460938, 770.4713745117188, 96.68404388427734, 80.61837768554688, 357.0303039550781, 181.34800720214844, 454.81689453125, 178.7628631591797, 275.6476135253906, 243.09469604492188, 332.6807861328125, 157.41339111328125, 209.18267822265625, 154.0228271484375, 252.73484802246094, 196.550537109375, 174.24105834960938, 231.13990783691406, 171.77427673339844, 0.48777684569358826, 0.8461653590202332, 0.7722454071044922, 0.7677746415138245, 0.3857927620410919, 0.3828863203525543, 1.6956557035446167, 0.8446667790412903, 4.0655059814453125, 0.3593922257423401, 0.6879410147666931, 3.1026082038879395, 0.8116701245307922, 0.3414548635482788, 0.3409334421157837, 0.6521050333976746, 0.650932252407074, 1.2393839359283447, 0.33923691511154175, 0.9223480820655823, 0.7416779398918152, 0.6364631056785583, 2.962120294570923, 0.6228160262107849, 0.6203948259353638, 0.6202203035354614, 0.6186278462409973, 0.5854025483131409, 0.6140135526657104, 1.4623183012008667, 15.808707237243652, 63.433860778808594, 197.12969970703125, 11.185689926147461, 7.7367095947265625, 12.144532203674316, 204.7328643798828, 166.37713623046875, 155.45436096191406, 113.33629608154297, 114.3165512084961, 79.0138931274414, 1579.579833984375, 177.01083374023438, 117.46650695800781, 504.4448547363281, 18.470375061035156, 450.5812683105469, 489.470458984375, 131.96435546875, 295.8522033691406, 59.48143005371094, 46.663291931152344, 41.62132263183594, 408.13214111328125, 175.61708068847656, 803.7806396484375, 56.345069885253906, 481.9333190917969, 189.04776000976562, 584.8775024414062, 118.230712890625, 164.6458740234375, 299.4749755859375, 60.450626373291016, 90.03800964355469, 186.5544891357422, 124.60553741455078, 324.4603576660156, 306.4686584472656, 155.64935302734375, 258.7835388183594, 273.8095703125, 367.14306640625, 193.14434814453125, 177.2858123779297, 162.20616149902344, 142.63328552246094, 164.46583557128906, 145.09449768066406, 0.9211499094963074, 0.8735949993133545, 0.8209365010261536, 1.3623745441436768, 0.804890513420105, 0.38551250100135803, 1.0144962072372437, 0.6833674907684326, 0.35532134771347046, 0.6745935678482056, 0.35031363368034363, 0.7894455790519714, 0.33925917744636536, 0.6408234238624573, 1.0801111459732056, 0.7420414686203003, 0.910199761390686, 1.1791270971298218, 1.3462446928024292, 0.6308916211128235, 0.7338637709617615, 0.3272377550601959, 0.326479971408844, 0.32278650999069214, 0.3228091597557068, 0.5836917757987976, 1.7642902135849, 0.6138773560523987, 0.7439284920692444, 0.32003968954086304, 0.7422922253608704, 130.5037384033203, 1.5645084381103516, 1.3463451862335205, 1.2717787027359009, 26.530317306518555, 330.7797546386719, 1158.152587890625, 228.0126953125, 220.6332244873047, 3.721135139465332, 204.6938934326172, 238.9526824951172, 81.08761596679688, 30.41010284423828, 411.14471435546875, 118.57594299316406, 48.168487548828125, 101.48704528808594, 54.75360870361328, 437.7860412597656, 188.79237365722656, 68.74083709716797, 94.37936401367188, 332.7218933105469, 359.7684326171875, 554.2144165039062, 181.4566192626953, 172.89845275878906, 506.9142150878906, 405.34197998046875, 131.77676391601562, 429.47637939453125, 109.15782928466797, 132.64419555664062, 583.285888671875, 129.8754119873047, 96.12924194335938, 210.8469696044922, 227.52053833007812, 285.8893737792969, 245.4170379638672, 174.9698944091797, 812.4619140625, 297.5665588378906, 161.68153381347656, 181.76412963867188, 166.8766326904297, 164.7279815673828, 234.8387908935547, 1.154117465019226, 0.9449160099029541, 0.4550669193267822, 0.8482805490493774, 0.6186963319778442, 0.4388276934623718, 0.39781051874160767, 0.7529826164245605, 0.8767267465591431, 0.6648552417755127, 1.124815583229065, 0.6658628582954407, 0.9476682543754578, 0.6564182639122009, 0.6435840725898743, 0.3357614576816559, 1.1675667762756348, 0.32912805676460266, 0.6148942112922668, 0.4503526985645294, 0.7109097838401794, 4.632049560546875, 0.7050021886825562, 0.6037658452987671, 1.7863658666610718, 1.3670088052749634, 0.5978605151176453, 1.1394003629684448, 0.5952571034431458, 0.593677818775177, 4.109107971191406, 182.23182678222656, 103.73287963867188, 100.123291015625, 137.85508728027344, 4.792579650878906, 88.2562255859375, 26.721099853515625, 55.20756530761719, 744.7506103515625, 1559.3387451171875, 137.3490753173828, 185.01805114746094, 63.37600326538086, 46.108821868896484, 65.36198425292969, 432.71063232421875, 171.20132446289062, 42.429073333740234, 148.65008544921875, 117.26940155029297, 125.1029052734375, 325.04632568359375, 104.22421264648438, 777.9857788085938, 502.95916748046875, 416.3144836425781, 407.6973571777344, 55.5666618347168, 289.9162292480469, 226.89810180664062, 124.99284362792969, 345.5221862792969, 182.52500915527344, 201.2469024658203, 152.21742248535156, 318.4454650878906, 296.5002746582031, 178.6045684814453, 369.8256530761719, 199.29214477539062, 154.38735961914062, 210.34555053710938, 233.8111572265625, 146.9337921142578, 143.76219177246094, 149.1885528564453, 148.79962158203125, 144.91830444335938, 146.14830017089844, 146.63803100585938, 0.5757724046707153, 1.0999191999435425, 1.0560824871063232, 0.7339498400688171, 1.872673749923706, 0.9036414623260498, 0.8784328699111938, 0.8757889270782471, 0.8745335936546326, 0.843255341053009, 0.6194464564323425, 1.0981638431549072, 0.6841076612472534, 1.1872462034225464, 0.6923593282699585, 0.8267927765846252, 0.6570442914962769, 1.202588677406311, 1.9727230072021484, 1.079033374786377, 1.2131373882293701, 1.1577785015106201, 0.3241017758846283, 0.5862634181976318, 0.6065953373908997, 0.8582196235656738, 1.0101773738861084, 0.4393284022808075, 0.3108474612236023, 0.7157365679740906, 1.3383821249008179, 5.5004401206970215, 219.7655029296875, 35.1641960144043, 49.97138977050781, 9.097081184387207, 463.3074645996094, 3.818316698074341, 99.98809051513672, 985.2886352539062, 86.38570404052734, 53.48241424560547, 64.52149963378906, 67.21755981445312, 193.07809448242188, 204.90234375, 184.9316864013672, 83.56660461425781, 82.8530502319336, 139.23776245117188, 67.4437484741211, 437.2088928222656, 1228.1331787109375, 159.40377807617188, 186.6079559326172, 162.96141052246094, 195.3052978515625, 78.0274429321289, 564.8271484375, 444.580078125, 209.1979522705078, 165.21359252929688, 125.34331512451172, 153.44187927246094, 430.1571044921875, 128.04644775390625, 147.29736328125, 245.56271362304688, 322.2236633300781, 258.0177001953125, 157.57476806640625, 151.0178680419922, 241.6626739501953, 272.130126953125, 162.21495056152344, 250.53738403320312, 187.5970001220703, 231.88575744628906, 189.50746154785156, 158.37413024902344, 0.8948243260383606, 0.8740601539611816, 0.4532761573791504, 0.7844686508178711, 0.38638633489608765, 0.38035938143730164, 0.38019582629203796, 0.7020765542984009, 0.6869319677352905, 0.6756843328475952, 0.6765029430389404, 0.6574690341949463, 0.7963254451751709, 0.6542834639549255, 0.33712998032569885, 0.7833563685417175, 0.3358728885650635, 1.04898202419281, 0.626830518245697, 0.6271587014198303, 1.042702555656433, 0.32163456082344055, 0.6146195530891418, 0.3185175657272339, 1.2883896827697754, 0.6012316942214966, 0.5699436068534851, 0.3133963644504547, 1.3920304775238037, 0.595876932144165, 1.0069501399993896, 0.9752772450447083, 0.8388030529022217, 20.98323631286621, 1.919260859489441, 79.69120025634766, 291.845458984375, 5.755013465881348, 190.6593475341797, 64.42637634277344, 16.319459915161133, 31.71196174621582, 63.71376419067383, 21.52093505859375, 95.9178695678711, 70.36883544921875, 44.458900451660156, 125.98883056640625, 338.84857177734375, 150.54457092285156, 52.128517150878906, 102.93928527832031, 50.500152587890625, 383.05267333984375, 80.60711669921875, 154.29879760742188, 51.06129455566406, 110.40837860107422, 129.86729431152344, 259.61065673828125, 76.92684173583984, 158.5446319580078, 157.25267028808594, 201.10617065429688, 696.92919921875, 456.6331481933594, 113.91922760009766, 340.65283203125, 80.98131561279297, 358.8279113769531, 310.2082214355469, 396.63153076171875, 121.07003021240234, 164.00604248046875, 172.0038299560547, 324.093017578125, 251.36770629882812, 423.2289733886719, 701.9197998046875, 248.16702270507812, 154.96038818359375, 135.43304443359375, 139.69580078125, 139.13363647460938, 145.2080078125, 175.5623016357422, 139.99581909179688, 141.81640625, 140.81201171875, 0.46759381890296936, 0.44407638907432556, 2.687533378601074, 0.41040921211242676, 0.7840459942817688, 0.4018390476703644, 0.7093416452407837, 0.3642868101596832, 1.3249800205230713, 0.6838473677635193, 0.6826431751251221, 0.9560812711715698, 0.6677790284156799, 1.1295536756515503, 0.6610038876533508, 0.6470382213592529, 0.6465396881103516, 0.7520158290863037, 0.6323680877685547, 1.6285820007324219, 0.7591054439544678, 1.2873679399490356, 1.4836076498031616, 1.0528291463851929, 1.479716420173645, 0.6172093749046326, 0.45475366711616516, 0.7067767977714539, 0.7028362154960632, 0.6031287908554077, 1.1398910284042358, 478.4036560058594, 2.0489561557769775, 73.97833251953125, 5.416495323181152, 702.47412109375, 68.82088470458984, 97.02519989013672, 186.73431396484375, 62.24794006347656, 165.4345245361328, 365.71539306640625, 17.47010612487793, 60.10662078857422, 50.644500732421875, 17.980300903320312, 40.9155158996582, 348.4931640625, 162.7567596435547, 67.99713897705078, 34.97117614746094, 251.19517517089844, 111.11994171142578, 472.51397705078125, 357.13214111328125, 55.94390106201172, 112.01313018798828, 98.3365478515625, 420.49371337890625, 96.13799285888672, 1047.9364013671875, 276.81060791015625, 115.68756866455078, 164.7048797607422, 82.12483978271484, 109.69500732421875, 316.9789123535156, 116.42807006835938, 138.26840209960938, 179.90733337402344, 555.5447998046875, 112.80512237548828, 193.9309539794922, 316.81396484375, 312.1197814941406, 158.07601928710938, 180.7911834716797, 137.6974639892578, 147.38612365722656, 199.1634521484375, 127.94725799560547, 127.29663848876953, 126.67352294921875, 134.80810546875, 134.69403076171875, 129.82723999023438], \"Term\": [\" \", \"\\n\\n\", \"\\n\", \"great\", \"good\", \"$\", \"order\", \"place\", \"go\", \"people\", \"food\", \"take\", \"work\", \"come\", \"price\", \"service\", \"time\", \"get\", \"pizza\", \"staff\", \"try\", \"tell\", \"experience\", \"room\", \"nice\", \"love\", \"bar\", \"friendly\", \"day\", \"need\", \"Matthew\", \"Caliente\", \"YC\", \"cos\", \"paced\", \"Root\", \"Eron\", \"vagrant\", \"squishie\", \"beggar\", \"grubhub\", \"Bobbie\", \"Huckleberry\", \"jackpot\", \"phone\\\"hello\", \"Cary\", \"Grossman\", \"stinkin\", \"Solomon\", \"cutest\", \"Bomb\", \"keychain\", \"banking\", \"WORST\", \"Asparagus\", \"forgetful\", \"Bregman\", \"dragon\", \"meilleurs\", \"Hunan\", \"fluid\", \"rapide\", \"great\", \"get\", \"thing\", \"pretty\", \"option\", \"time\", \"love\", \"brake\", \"try\", \"$\", \"place\", \"dining\", \"sweet\", \"food\", \" \", \"say\", \"green\", \"huge\", \"night\", \"\\n\", \"bit\", \"come\", \"minute\", \"money\", \"price\", \"good\", \"look\", \"restaurant\", \"service\", \"like\", \"people\", \"nice\", \"order\", \"go\", \"eat\", \"wait\", \"\\n\\n\", \"day\", \"menu\", \"little\", \"want\", \"work\", \"know\", \"everrrrr\", \"TSO\", \"Kang\", \"demonic\", \"romper\", \"Purolator\", \"huge-\", \"Neil\", \"Cellos\", \"12:45pm\", \"satisfactory\", \"Talia\", \"bathing\", \"Styles\", \"helpfull\", \"JDT\", \"Efrain\", \"---food\", \"Saj\", \"Liaw\", \"victor\", \"Linda\", \"Sheldon\", \"globe\", \"arse\", \"meringue\", \"violently\", \"Garage\", \"sevice\", \"Lyric\", \"willing\", \"need\", \"pediatric\", \"middle\", \"find\", \"busy\", \"walk\", \"go\", \"sad\", \"good\", \"\\n\\n\", \"love\", \"highly\", \"free\", \"want\", \"year\", \"thank\", \"order\", \" \", \"leave\", \"away\", \"fact\", \"happen\", \"happy\", \"cut\", \"come\", \"nice\", \"get\", \"drink\", \"like\", \"time\", \"Vegas\", \"minute\", \"place\", \"day\", \"different\", \"eat\", \"feel\", \"service\", \"bad\", \"definitely\", \"say\", \"way\", \"great\", \"food\", \"think\", \"know\", \"look\", \"try\", \"\\n\", \"wait\", \"work\", \"restaurant\", \"beause\", \"dahl\", \"diesel\", \"whooper\", \"vadai\", \"imcomplete\", \"martial\", \"yuk\", \"BSC\", \"stab\", \"burger-\", \"calabash\", \"hoodlum\", \"explosive\", \"acrobatic\", \"Roomtastic\", \"service.maybe\", \"Chapli\", \"botanical\", \"insectarium\", \"BB\", \"chintzy\", \"Astor\", \"Kabab\", \"underrated\", \"woop\", \"Cure\", \"barley\", \"frizzy\", \"favs\", \"Kelly\", \"will\", \"smog\", \"stadium\", \"owner\", \"place\", \" \", \"order\", \"evening\", \"beer\", \"chicken\", \"go\", \"know\", \"ask\", \"food\", \"tell\", \"chinese\", \"amazing\", \"dinner\", \"end\", \"super\", \"\\n\\n\", \"want\", \"table\", \"clean\", \"check\", \"say\", \"staff\", \"like\", \"service\", \"love\", \"come\", \"\\n\", \"great\", \"good\", \"get\", \"price\", \"restaurant\", \"time\", \"try\", \"people\", \"eat\", \"think\", \"nice\", \"look\", \"\\u5929\\u6c23\\u5f88\\u71b1\\u5403\\u4e0d\\u4e0b\\u6771\\u897f\\uff0c\\u4eca\\u5929\\u6211\\u9ede\\u4e86\\u4e00\\u500b\\u97d3\\u570b\\u51b7\\u9762\\u6e6f\\u3001\\u9910\\u5f8c\\u9ede\\u4e86\\u751c\\u9ede\\uff0c\\u51b0\\u6c99\\u7cfb\\u5217\\u4e0d\\u6703\\u592a\\u751c\\u81a9\\uff0c\\u89ba\\u5f97\\u5e97\\u5bb6\\u5f88\\u7528\\u5fc3\\u88fd\\u4f5c\\uff0c\\u5305\\u542b\\u64fa\\u76e4\\u7cbe\\u7dfb\\u3001\\u4f50\\u6599\\u885b\\u751f\\uff0c\\u590f\\u65e5\\u60f3\\u958b\\u80c3\\uff0c\\u9019\\u662f\\u4e00\\u500b\\u4e0d\\u932f\\u7684\\u9078\\u64c7\\uff0c\\u670d\\u52d9\\u4eba\\u54e1\\u4e5f\\u5f88\\u656c\\u696d\\uff0c\\u4ee5\\u5f8c\\u6703\\u5e38\\u5e38\\u4f86\", \"AVEDA\", \"golfweek.com\", \"Smoker\", \"tikki\", \"aloo\", \"axle\", \"Aquarium\", \"Adrianna\", \"philly\", \"chaat\", \"Tasha\", \"hospital-\", \"Delivary\", \"aga\", \"Roy\", \"cos\", \"Somebody\", \"Gustav\", \"Lesli\", \"reccomend\", \"pottery\", \"summerlin\", \"Cisco\", \"nb\", \"y4\", \"service.don't\", \"firefly\", \"redone\", \"Greenway\", \"din\", \" \", \"tech\", \"price\", \"shop\", \"massage\", \"work\", \"little\", \"wine\", \"food\", \"base\", \"item\", \"bike\", \"server\", \"great\", \"open\", \"decent\", \"experience\", \"reasonable\", \"seat\", \"day\", \"time\", \"want\", \"friendly\", \"good\", \"tell\", \"service\", \"find\", \"\\n\\n\", \"long\", \"away\", \"like\", \"wait\", \"place\", \"know\", \"get\", \"try\", \"come\", \"take\", \"love\", \"ask\", \"\\n\", \"$\", \"look\", \"order\", \"go\", \"PNW\", \"Delivary\", \"Erika\", \"Ricketts\", \"22.50\", \"fried.service\", \"Hiram\", \"Seating\", \"Ray\", \"sauga\", \"picante\", \"Shane\", \"Purolator\", \"vanya\", \"luxuriously\", \"Seed\", \"Ev36\", \"woot\", \"Reese\", \"badass\", \"slush\", \"Kendel\", \"jack\", \"MTCC\", \"Dippin\", \"oho\", \"irrigation\", \"Results\", \"barhoppe\", \"Building\", \"ring\", \"today\", \"recommend\", \"latte\", \"condition\", \"deep\", \"work\", \"delicious\", \"table\", \"store\", \"area\", \"sandwich\", \" \", \"amazing\", \"dish\", \"great\", \"die\", \"come\", \"time\", \"leave\", \"try\", \"husband\", \"pork\", \"notice\", \"like\", \"take\", \"\\n\\n\", \"helpful\", \"food\", \"wait\", \"good\", \"year\", \"think\", \"go\", \"atmosphere\", \"big\", \"nice\", \"new\", \"service\", \"order\", \"experience\", \"get\", \"\\n\", \"place\", \"$\", \"look\", \"know\", \"need\", \"love\", \"restaurant\", \"buttered\", \"kheer\", \"momma\", \"amazinggg\", \"rendevouz\", \"Delta\", \"lengua\", \"Aptive\", \"pay$19\", \"amature\", \"unexplainable\", \"restaurant-\", \"pete's\", \"intelligently\", \"Circa\", \"HKS\", \"pom\", \"Roberto\", \"isle\", \"Jarritos\", \"neuter\", \"convent\", \"whatdya\", \"Juevos\", \"kindof\", \"241\", \"navigation\", \"Bold\", \"applicant\", \"unite\", \"Devin\", \"pizza\", \"Warhol\", \"FoodieCall\", \"donair\", \"ramen\", \"$\", \"\\n\\n\", \"eat\", \"say\", \"boat\", \"take\", \"nice\", \"expect\", \"impressed\", \"order\", \"3\", \"20\", \"start\", \"hair\", \"like\", \"ask\", \"soup\", \"end\", \"get\", \"\\n\", \"place\", \"tell\", \"definitely\", \"food\", \"come\", \"friend\", \"time\", \"small\", \"customer\", \"good\", \"right\", \"cheese\", \"look\", \"love\", \"go\", \"try\", \"wait\", \" \", \"service\", \"day\", \"want\", \"restaurant\", \"price\", \"great\", \"7-Eleven\", \"CHOP\", \"Corbin\", \"october\", \"fastest\", \"mixologist\", \"LGBTQ\", \"Puzzlemaster\", \"unimpressive\", \"Peggy\", \"Autopro\", \"Darlene\", \"Somebody\", \"walkthrough\", \"lumber\", \"Jeannette\", \"recomend\", \"8-close\", \"spineless\", \"Workers\", \"33\", \"Steve\", \"halo\", \"Brookline\", \"remake\", \"recline\", \"crankshaft\", \"vain\", \"Samoa\", \"Gavai\", \"doughnut\", \"room\", \"burger\", \"excellent\", \"fresh\", \"condiment\", \"coffee\", \"color\", \"decent\", \"good\", \" \", \"2\", \"experience\", \"probably\", \"15\", \"live\", \"come\", \"drink\", \"strip\", \"delicious\", \"location\", \"bar\", \"go\", \"pay\", \"\\n\\n\", \"place\", \"great\", \"time\", \"absolutely\", \"get\", \"love\", \"lot\", \"like\", \"price\", \"look\", \"little\", \"service\", \"order\", \"nice\", \"food\", \"$\", \"staff\", \"try\", \"\\n\", \"think\", \"definitely\", \"find\", \"restaurant\", \"work\", \"wait\", \"want\", \"Aknowledgement\", \"Krung\", \"Ppl\", \"SUPER\", \"woot\", \"Kendel\", \"Ricketts\", \"picante\", \"iphone\", \"Erika\", \"swift\", \"Taxi\", \"durian\", \"cuon\", \"Kitsch\", \"Burch\", \"delicious--\", \"tastey\", \"cheesetart\", \"100/5\", \"intelligent\", \"timeline\", \"abiance\", \"Ana\", \"messaging\", \"paced\", \"Paperjoy\", \"Heat\", \"rom\", \"slimey\", \"Siam\", \"yuk\", \"people\", \"bean\", \"hear\", \"trim\", \"service\", \"loaf\", \"happy\", \"\\n\\n\", \"coffee\", \"fish\", \"bread\", \"sushi\", \"staff\", \"restaurant\", \"day\", \"decide\", \"offer\", \"taste\", \"spot\", \"great\", \" \", \"need\", \"wait\", \"definitely\", \"nice\", \"favorite\", \"good\", \"food\", \"look\", \"work\", \"lot\", \"recommend\", \"place\", \"feel\", \"friendly\", \"get\", \"time\", \"\\n\", \"find\", \"ask\", \"go\", \"like\", \"know\", \"order\", \"$\", \"come\", \"try\", \"love\", \"Char\", \"froide\", \"shoooz\", \"l'auto\", \"Gr\", \"Silbaugh\", \"verdi\", \"3-meat\", \"beaten\", \"Daaayyuuummm\", \"Environmental\", \"accueillant\", \"n'ai\", \"tomahawk\", \"Tia\", \"1.5hrs\", \"Andao\", \"l'ambiance\", \"spicery\", \"Metros\", \"hyped\", \"\\u4e88\\u5b9a\\u306b\\u306a\\u304b\\u3063\\u305f\\u307e\\u3064\\u6bdb\\u30a8\\u30af\\u30b9\\u30c6\\u3082\\u304a\\u9858\\u3044\\u3057\\u3001\\u65e5\\u672c\\u3067\\u306f\\u307e\\u3060\\u3042\\u307e\\u308a\\u306a\\u3044\\u30d6\\u30e9\\u30a6\\u30f3\\u30ab\\u30e9\\u30fc\\u306e\\u30a8\\u30af\\u30b9\\u30c6\\u3092\\u3057\\u3066\\u3082\\u3089\\u3044\\u3001\\u3068\\u3066\\u3082\\u6c17\\u306b\\u5165\\u308a\\u307e\\u3057\\u305f\", \"3.64\", \"\\u307e\\u305f\\u662f\\u975e\\u30de\\u30c3\\u30b5\\u30fc\\u30b8\\u306a\\u3069\\u3067\\u4f3a\\u3044\\u305f\\u3044\\u3068\\u601d\\u3044\\u307e\\u3059\", \"obsessed\", \"Deliverance\", \"marathon\", \"SAUCE\", \"greatness\", \"Jina\", \"Strawberry-\", \"sympathique\", \"chaleureux\", \"smile\", \"biryani\", \"large\", \"$\", \"tan\", \"take\", \"kid\", \"vehicle\", \"available\", \"pick\", \"woman\", \"pizza\", \"return\", \"wrong\", \"fry\", \"\\n\", \"menu\", \"add\", \"pay\", \"appointment\", \"like\", \"stay\", \"people\", \"able\", \"star\", \"way\", \"try\", \"week\", \"experience\", \"think\", \"look\", \"\\n\\n\", \"place\", \"bar\", \"come\", \"serve\", \"time\", \"service\", \"food\", \"taste\", \"wait\", \"want\", \"great\", \"go\", \"good\", \" \", \"order\", \"price\", \"drink\", \"day\", \"tell\", \"restaurant\", \"get\", \"find\", \"know\", \"love\", \"Slut\", \"satified\", \"Michelle\", \"Reyna\", \"booster\", \"except\", \"Timo\", \"ken\", \"swedish\", \"dimmer\", \"Destini\", \"Greenway\", \"respectueux\", \"Yasmin\", \"dolci\", \"romper\", \"dodgy\", \"swimsuit\", \"Karen\", \"Secret\", \"Greens\", \"Concord\", \"bingsu\", \"Radisson\", \"Wilkes\", \"bathing\", \"trusted\", \"Calvin\", \"Ronnie\", \"Herringtonbone\", \"mistreat\", \"\\n\", \"Gabi\", \"family\", \"Chinese\", \"good\", \"dessert\", \"flavor\", \"staff\", \"ice\", \"friendly\", \"order\", \"hate\", \"hotel\", \"cool\", \"lovely\", \"waiter\", \"service\", \"tell\", \"10\", \"attentive\", \"try\", \"give\", \"place\", \"come\", \"water\", \"bar\", \"enjoy\", \"food\", \"clean\", \" \", \"go\", \"lot\", \"know\", \"big\", \"2\", \"like\", \"table\", \"drink\", \"look\", \"\\n\\n\", \"new\", \"love\", \"time\", \"great\", \"price\", \"$\", \"take\", \"restaurant\", \"get\", \"definitely\", \"experience\", \"think\", \"nice\", \"want\", \"wait\"], \"Total\": [13757.0, 8156.0, 3054.0, 4117.0, 6132.0, 2167.0, 3289.0, 5070.0, 2963.0, 1325.0, 4684.0, 1438.0, 1465.0, 3752.0, 1692.0, 3450.0, 4122.0, 2791.0, 726.0, 1481.0, 2461.0, 1468.0, 1412.0, 1087.0, 1733.0, 2143.0, 999.0, 1348.0, 1458.0, 1324.0, 3.7296810150146484, 5.2009406089782715, 1.6106981039047241, 3.0804555416107178, 4.396251201629639, 5.206431865692139, 1.6119396686553955, 1.6136170625686646, 5.209615707397461, 2.2722604274749756, 7.346393585205078, 9.986129760742188, 3.0871124267578125, 3.0824389457702637, 3.0890088081359863, 3.0924785137176514, 2.2684903144836426, 1.6117095947265625, 1.6115931272506714, 3.0880422592163086, 5.881043910980225, 2.2735073566436768, 4.399278163909912, 3.085338830947876, 3.740114450454712, 3.7405037879943848, 2.270460844039917, 9.831165313720703, 3.089296817779541, 2.9283270835876465, 17.383771896362305, 7.860559463500977, 4117.330078125, 2791.86767578125, 1138.76123046875, 1022.1804809570312, 580.09033203125, 4122.0791015625, 2143.616943359375, 29.060216903686523, 2461.254150390625, 2167.446533203125, 5070.31982421875, 284.9552307128906, 599.3128662109375, 4684.76708984375, 13757.3232421875, 1486.1453857421875, 297.6982727050781, 485.7081604003906, 995.8731689453125, 3054.067138671875, 824.7987670898438, 3752.5537109375, 1014.154541015625, 469.5668029785156, 1692.9940185546875, 6132.21142578125, 1910.386474609375, 1615.9456787109375, 3450.57373046875, 3635.851318359375, 1325.4820556640625, 1733.77880859375, 3289.695556640625, 2963.053955078125, 1491.1990966796875, 1623.7847900390625, 8156.43701171875, 1458.608642578125, 1241.1890869140625, 1360.792724609375, 1752.265869140625, 1465.16748046875, 1630.9007568359375, 1.6135272979736328, 3.093212127685547, 4.403249740600586, 3.7545368671417236, 3.08805513381958, 3.7453465461730957, 1.6147263050079346, 1.6150405406951904, 1.6139758825302124, 3.086700439453125, 9.17443561553955, 3.0874500274658203, 3.0872321128845215, 5.223936557769775, 1.614018440246582, 5.216827392578125, 1.6139345169067383, 3.094546318054199, 1.6149448156356812, 1.6141729354858398, 3.5942347049713135, 5.872673511505127, 3.7479305267333984, 2.2739007472991943, 2.27518367767334, 8.51816177368164, 3.7551467418670654, 6.380171775817871, 1.6118285655975342, 5.068110942840576, 79.49861145019531, 1324.910400390625, 5.715808868408203, 135.61480712890625, 1540.8909912109375, 505.8732604980469, 847.3583374023438, 2963.053955078125, 108.82875061035156, 6132.21142578125, 8156.43701171875, 2143.616943359375, 527.2715454101562, 562.8468627929688, 1752.265869140625, 959.0126953125, 575.00537109375, 3289.695556640625, 13757.3232421875, 1002.802734375, 612.5551147460938, 266.9129638671875, 273.376953125, 693.9141235351562, 421.2825927734375, 3752.5537109375, 1733.77880859375, 2791.86767578125, 1362.9415283203125, 3635.851318359375, 4122.0791015625, 811.0704956054688, 1014.154541015625, 5070.31982421875, 1458.608642578125, 674.3685913085938, 1491.1990966796875, 1111.8121337890625, 3450.57373046875, 1176.047607421875, 1397.2471923828125, 1486.1453857421875, 1105.7645263671875, 4117.330078125, 4684.76708984375, 1420.736083984375, 1630.9007568359375, 1910.386474609375, 2461.254150390625, 3054.067138671875, 1623.7847900390625, 1465.16748046875, 1615.9456787109375, 3.087717294692993, 3.087584972381592, 3.7474329471588135, 1.6135917901992798, 3.088289737701416, 3.0893197059631348, 6.54495906829834, 29.95146942138672, 1.6142911911010742, 2.2747719287872314, 3.0939338207244873, 3.0862762928009033, 3.088245153427124, 3.7487330436706543, 6.388910293579102, 3.091489791870117, 3.087193489074707, 3.0862152576446533, 3.7425708770751953, 3.0830206871032715, 3.092655658721924, 3.085303544998169, 4.403526306152344, 7.193583965301514, 3.747955322265625, 2.2740275859832764, 3.0954082012176514, 3.0856916904449463, 5.21868896484375, 3.594658374786377, 12.637986183166504, 361.9320068359375, 14.917071342468262, 11.315149307250977, 536.4029541015625, 5070.31982421875, 13757.3232421875, 3289.695556640625, 195.34739685058594, 588.3622436523438, 1161.7779541015625, 2963.053955078125, 1630.9007568359375, 1454.0770263671875, 4684.76708984375, 1468.14892578125, 144.09310913085938, 1300.9437255859375, 683.359130859375, 693.9705810546875, 628.2891235351562, 8156.43701171875, 1752.265869140625, 1099.3828125, 846.3599853515625, 903.4309692382812, 1486.1453857421875, 1481.759765625, 3635.851318359375, 3450.57373046875, 2143.616943359375, 3752.5537109375, 3054.067138671875, 4117.330078125, 6132.21142578125, 2791.86767578125, 1692.9940185546875, 1615.9456787109375, 4122.0791015625, 2461.254150390625, 1325.4820556640625, 1491.1990966796875, 1420.736083984375, 1733.77880859375, 1910.386474609375, 1.618750810623169, 3.0906243324279785, 3.087859630584717, 1.6185026168823242, 3.599621057510376, 3.598935127258301, 3.758117437362671, 2.2782084941864014, 1.615281343460083, 10.000814437866211, 2.2746477127075195, 1.614274263381958, 1.6147053241729736, 3.090806245803833, 1.615853190422058, 2.937397003173828, 3.0804555416107178, 4.408658981323242, 3.0872044563293457, 1.6160733699798584, 7.710662364959717, 4.255613803863525, 5.222977638244629, 3.0919840335845947, 2.2746336460113525, 1.6151478290557861, 3.095625638961792, 3.7486071586608887, 7.060768127441406, 4.417403697967529, 6.54512357711792, 13757.3232421875, 92.39363098144531, 1692.9940185546875, 526.8798217773438, 164.15505981445312, 1465.16748046875, 1360.792724609375, 413.673583984375, 4684.76708984375, 215.4808807373047, 536.500732421875, 86.23353576660156, 827.0667114257812, 4117.330078125, 626.9912109375, 367.9812316894531, 1412.3226318359375, 252.643310546875, 573.1211547851562, 1458.608642578125, 4122.0791015625, 1752.265869140625, 1348.2978515625, 6132.21142578125, 1468.14892578125, 3450.57373046875, 1540.8909912109375, 8156.43701171875, 749.5059814453125, 612.5551147460938, 3635.851318359375, 1623.7847900390625, 5070.31982421875, 1630.9007568359375, 2791.86767578125, 2461.254150390625, 3752.5537109375, 1438.16650390625, 2143.616943359375, 1454.0770263671875, 3054.067138671875, 2167.446533203125, 1910.386474609375, 3289.695556640625, 2963.053955078125, 1.612180233001709, 3.090806245803833, 3.089195728302002, 3.0897202491760254, 1.6138105392456055, 1.6123842000961304, 7.34733772277832, 3.744692802429199, 18.066993713378906, 1.6107715368270874, 3.0898168087005615, 14.102485656738281, 3.7453465461730957, 1.611741065979004, 1.6120188236236572, 3.0894200801849365, 3.0895748138427734, 5.885189533233643, 1.6162984371185303, 4.406935214996338, 3.590524435043335, 3.0901265144348145, 14.438926696777344, 3.088832139968872, 3.0869593620300293, 3.088315963745117, 3.083096981048584, 2.929072856903076, 3.087137222290039, 7.358978271484375, 88.89403533935547, 394.619384765625, 1370.423828125, 65.01127624511719, 44.0565071105957, 72.12433624267578, 1465.16748046875, 1176.85546875, 1099.3828125, 783.2506103515625, 795.1675415039062, 540.1270751953125, 13757.3232421875, 1300.9437255859375, 837.5612182617188, 4117.330078125, 113.59149169921875, 3752.5537109375, 4122.0791015625, 1002.802734375, 2461.254150390625, 417.29437255859375, 319.18963623046875, 282.6190185546875, 3635.851318359375, 1438.16650390625, 8156.43701171875, 400.6108093261719, 4684.76708984375, 1623.7847900390625, 6132.21142578125, 959.0126953125, 1420.736083984375, 2963.053955078125, 442.3354797363281, 714.9911499023438, 1733.77880859375, 1059.974853515625, 3450.57373046875, 3289.695556640625, 1412.3226318359375, 2791.86767578125, 3054.067138671875, 5070.31982421875, 2167.446533203125, 1910.386474609375, 1630.9007568359375, 1324.910400390625, 2143.616943359375, 1615.9456787109375, 2.942070722579956, 3.095876693725586, 3.0989320278167725, 5.234437465667725, 3.0975332260131836, 1.617154598236084, 4.259549140930176, 3.100865364074707, 1.617091178894043, 3.0930471420288086, 1.6160271167755127, 3.7559802532196045, 1.6163532733917236, 3.094261407852173, 5.231603145599365, 3.599601984024048, 4.419581413269043, 5.734090328216553, 6.556400299072266, 3.0898778438568115, 3.6011245250701904, 1.6156152486801147, 1.6177690029144287, 1.6160813570022583, 1.618027687072754, 2.9368698596954346, 8.880938529968262, 3.0943644046783447, 3.7545394897460938, 1.6169185638427734, 3.760986804962158, 726.636962890625, 8.037793159484863, 6.903308391571045, 6.552455425262451, 154.73907470703125, 2167.446533203125, 8156.43701171875, 1491.1990966796875, 1486.1453857421875, 20.23356056213379, 1438.16650390625, 1733.77880859375, 550.9483642578125, 193.5967254638672, 3289.695556640625, 859.18798828125, 327.8968200683594, 737.6497802734375, 377.97625732421875, 3635.851318359375, 1454.0770263671875, 484.4137268066406, 693.9705810546875, 2791.86767578125, 3054.067138671875, 5070.31982421875, 1468.14892578125, 1397.2471923828125, 4684.76708984375, 3752.5537109375, 1037.905029296875, 4122.0791015625, 851.5873413085938, 1071.078125, 6132.21142578125, 1056.7552490234375, 739.5394287109375, 1910.386474609375, 2143.616943359375, 2963.053955078125, 2461.254150390625, 1623.7847900390625, 13757.3232421875, 3450.57373046875, 1458.608642578125, 1752.265869140625, 1615.9456787109375, 1692.9940185546875, 4117.330078125, 3.0855488777160645, 3.0869436264038086, 1.6131806373596191, 3.0877294540405273, 2.2724313735961914, 1.6136817932128906, 1.6126428842544556, 3.085184097290039, 3.744485378265381, 3.084519863128662, 5.2222371101379395, 3.092193603515625, 4.408658981323242, 3.093207597732544, 3.0880329608917236, 1.6136783361434937, 5.72257661819458, 1.613205075263977, 3.084869623184204, 2.271956205368042, 3.5921404361724854, 23.50543212890625, 3.5946953296661377, 3.0937464237213135, 9.173439025878906, 7.040502548217773, 3.0864756107330322, 5.890641212463379, 3.0860581398010254, 3.0899906158447266, 22.16347312927246, 1087.274658203125, 622.529296875, 641.4922485351562, 910.0062866210938, 26.95353126525879, 595.7216796875, 167.961181640625, 367.9812316894531, 6132.21142578125, 13757.3232421875, 1010.9757080078125, 1412.3226318359375, 440.95648193359375, 313.15936279296875, 466.6147766113281, 3752.5537109375, 1362.9415283203125, 295.3847961425781, 1176.85546875, 921.6560668945312, 999.4620361328125, 2963.053955078125, 825.883056640625, 8156.43701171875, 5070.31982421875, 4117.330078125, 4122.0791015625, 407.7190246582031, 2791.86767578125, 2143.616943359375, 1063.1654052734375, 3635.851318359375, 1692.9940185546875, 1910.386474609375, 1360.792724609375, 3450.57373046875, 3289.695556640625, 1733.77880859375, 4684.76708984375, 2167.446533203125, 1481.759765625, 2461.254150390625, 3054.067138671875, 1420.736083984375, 1397.2471923828125, 1540.8909912109375, 1615.9456787109375, 1465.16748046875, 1623.7847900390625, 1752.265869140625, 1.6162086725234985, 3.0912630558013916, 3.0916543006896973, 2.2756361961364746, 5.885189533233643, 3.0901265144348145, 3.0897202491760254, 3.0898168087005615, 3.10152530670166, 3.089195728302002, 2.2756991386413574, 4.420286655426025, 2.936373472213745, 5.227679252624512, 3.086414337158203, 3.7523441314697266, 3.0920181274414062, 5.731231689453125, 9.491436004638672, 5.229938507080078, 5.8842363357543945, 5.7338666915893555, 1.6142765283584595, 2.937406063079834, 3.095517635345459, 4.396251201629639, 5.2264556884765625, 2.273270606994629, 1.6148476600646973, 3.7502856254577637, 7.045950889587402, 29.95146942138672, 1325.4820556640625, 205.47633361816406, 310.8553466796875, 52.67334747314453, 3450.57373046875, 21.374446868896484, 693.9141235351562, 8156.43701171875, 595.7216796875, 357.86279296875, 439.69073486328125, 461.10693359375, 1481.759765625, 1615.9456787109375, 1458.608642578125, 604.2960815429688, 614.099609375, 1105.0400390625, 489.71502685546875, 4117.330078125, 13757.3232421875, 1324.910400390625, 1623.7847900390625, 1397.2471923828125, 1733.77880859375, 589.53125, 6132.21142578125, 4684.76708984375, 1910.386474609375, 1465.16748046875, 1063.1654052734375, 1370.423828125, 5070.31982421875, 1111.8121337890625, 1348.2978515625, 2791.86767578125, 4122.0791015625, 3054.067138671875, 1540.8909912109375, 1454.0770263671875, 2963.053955078125, 3635.851318359375, 1630.9007568359375, 3289.695556640625, 2167.446533203125, 3752.5537109375, 2461.254150390625, 2143.616943359375, 3.102949619293213, 3.098121404647827, 1.620041012763977, 3.0960230827331543, 1.6209195852279663, 1.619209885597229, 1.6201263666152954, 3.09841251373291, 3.1012909412384033, 3.09775972366333, 3.1024703979492188, 3.0966248512268066, 3.7558753490448, 3.0979065895080566, 1.6171767711639404, 3.762316942214966, 1.6172599792480469, 5.079334735870361, 3.095642566680908, 3.101182222366333, 5.2366180419921875, 1.6193232536315918, 3.0968973636627197, 1.6192996501922607, 6.553200721740723, 3.09830379486084, 2.9408278465270996, 1.6190584897994995, 7.212247848510742, 3.0935988426208496, 5.235179424285889, 5.07807731628418, 4.415269374847412, 127.63887023925781, 10.535205841064453, 536.646484375, 2167.446533203125, 33.58631896972656, 1438.16650390625, 450.84613037109375, 103.07325744628906, 215.49221801757812, 461.8175964355469, 142.60501098632812, 726.636962890625, 524.0758056640625, 319.8036804199219, 1016.97802734375, 3054.067138671875, 1241.1890869140625, 387.732177734375, 825.883056640625, 375.0151672363281, 3635.851318359375, 631.3001708984375, 1325.4820556640625, 386.55999755859375, 920.8126220703125, 1105.7645263671875, 2461.254150390625, 619.946533203125, 1412.3226318359375, 1420.736083984375, 1910.386474609375, 8156.43701171875, 5070.31982421875, 999.4620361328125, 3752.5537109375, 670.0447998046875, 4122.0791015625, 3450.57373046875, 4684.76708984375, 1105.0400390625, 1623.7847900390625, 1752.265869140625, 4117.330078125, 2963.053955078125, 6132.21142578125, 13757.3232421875, 3289.695556640625, 1692.9940185546875, 1362.9415283203125, 1458.608642578125, 1468.14892578125, 1615.9456787109375, 2791.86767578125, 1540.8909912109375, 1630.9007568359375, 2143.616943359375, 1.61510169506073, 1.616659164428711, 9.850788116455078, 1.614768147468567, 3.0898358821868896, 1.6184582710266113, 3.096712112426758, 1.6143635511398315, 5.899417877197266, 3.088996410369873, 3.090439796447754, 4.417403697967529, 3.087660789489746, 5.2340006828308105, 3.087226152420044, 3.08805513381958, 3.0911664962768555, 3.595721960067749, 3.0922787189483643, 8.030960083007812, 3.751992702484131, 6.3860249519348145, 7.36008882522583, 5.224992752075195, 7.362750053405762, 3.0872321128845215, 2.2748544216156006, 3.5929877758026123, 3.594984292984009, 3.090334415435791, 5.887955188751221, 3054.067138671875, 11.181129455566406, 510.80242919921875, 31.735626220703125, 6132.21142578125, 492.44598388671875, 720.0839233398438, 1481.759765625, 452.9136962890625, 1348.2978515625, 3289.695556640625, 118.04357147216797, 468.79266357421875, 388.06524658203125, 122.58564758300781, 309.4949645996094, 3450.57373046875, 1468.14892578125, 554.7457275390625, 261.4638671875, 2461.254150390625, 978.11083984375, 5070.31982421875, 3752.5537109375, 448.5001525878906, 999.4620361328125, 865.9365844726562, 4684.76708984375, 846.3599853515625, 13757.3232421875, 2963.053955078125, 1063.1654052734375, 1630.9007568359375, 714.9911499023438, 1010.9757080078125, 3635.851318359375, 1099.3828125, 1362.9415283203125, 1910.386474609375, 8156.43701171875, 1059.974853515625, 2143.616943359375, 4122.0791015625, 4117.330078125, 1692.9940185546875, 2167.446533203125, 1438.16650390625, 1615.9456787109375, 2791.86767578125, 1397.2471923828125, 1412.3226318359375, 1420.736083984375, 1733.77880859375, 1752.265869140625, 1623.7847900390625], \"loglift\": [30.0, 29.0, 28.0, 27.0, 26.0, 25.0, 24.0, 23.0, 22.0, 21.0, 20.0, 19.0, 18.0, 17.0, 16.0, 15.0, 14.0, 13.0, 12.0, 11.0, 10.0, 9.0, 8.0, 7.0, 6.0, 5.0, 4.0, 3.0, 2.0, 1.0, 1.412600040435791, 1.2626999616622925, 1.1744999885559082, 1.1485999822616577, 1.1411999464035034, 0.9803000092506409, 0.9264000058174133, 0.8501999974250793, 0.8486999869346619, 0.8463000059127808, 0.8325999975204468, 0.8198999762535095, 0.8084999918937683, 0.7921000123023987, 0.7534999847412109, 0.7530999779701233, 0.7526000142097473, 0.7432000041007996, 0.7398999929428101, 0.7315999865531921, 0.7315000295639038, 0.7260000109672546, 0.7239999771118164, 0.7232000231742859, 0.7214000225067139, 0.7204999923706055, 0.7041000127792358, 0.6970999836921692, 0.6938999891281128, 0.6894999742507935, 0.6728000044822693, 0.677299976348877, 0.4717000126838684, 0.3944000005722046, 0.39730000495910645, 0.3930000066757202, 0.41519999504089355, 0.28209999203681946, 0.28859999775886536, 0.5892999768257141, 0.2637999951839447, 0.2712000012397766, 0.1777999997138977, 0.40059998631477356, 0.3353999853134155, 0.1589999943971634, 0.05460000038146973, 0.24330000579357147, 0.3804999887943268, 0.32850000262260437, 0.2393999993801117, 0.11720000207424164, 0.2535000145435333, 0.07930000126361847, 0.20999999344348907, 0.29420000314712524, 0.12559999525547028, -0.055399999022483826, 0.10509999841451645, 0.09229999780654907, -0.03720000013709068, -0.05310000106692314, 0.1225999966263771, 0.0649000033736229, -0.08070000261068344, -0.0697999969124794, 0.07259999960660934, 0.048900000751018524, -0.42590001225471497, 0.06750000268220901, 0.11400000005960464, 0.06199999898672104, -0.09560000151395798, 0.009800000116229057, -0.07339999824762344, 1.4292999505996704, 1.239300012588501, 1.1582000255584717, 1.0289000272750854, 1.0016000270843506, 0.9319999814033508, 0.9228000044822693, 0.9161999821662903, 0.8888000249862671, 0.8855999708175659, 0.8830999732017517, 0.879800021648407, 0.8691999912261963, 0.8550000190734863, 0.8276000022888184, 0.8050000071525574, 0.7942000031471252, 0.7876999974250793, 0.7738999724388123, 0.7734000086784363, 0.7732999920845032, 0.76910001039505, 0.765500009059906, 0.7595999836921692, 0.7508999705314636, 0.7476000189781189, 0.7429999709129333, 0.7409999966621399, 0.7384999990463257, 0.7192000150680542, 0.650600016117096, 0.44179999828338623, 0.713100016117096, 0.5507000088691711, 0.40450000762939453, 0.45730000734329224, 0.4172999858856201, 0.34060001373291016, 0.5113999843597412, 0.22300000488758087, 0.16899999976158142, 0.25049999356269836, 0.3684999942779541, 0.35740000009536743, 0.2493000030517578, 0.2978000044822693, 0.34310001134872437, 0.16670000553131104, 0.012000000104308128, 0.26159998774528503, 0.314300000667572, 0.40310001373291016, 0.3984000086784363, 0.2827000021934509, 0.33809998631477356, 0.049400001764297485, 0.1386999934911728, 0.07090000063180923, 0.17110000550746918, 0.01979999989271164, -0.006000000052154064, 0.2345999926328659, 0.19869999587535858, -0.09679999947547913, 0.12460000067949295, 0.26030001044273376, 0.10769999772310257, 0.15809999406337738, -0.10499999672174454, 0.14010000228881836, 0.08749999850988388, 0.06960000097751617, 0.13809999823570251, -0.2825999855995178, -0.353300005197525, 0.048500001430511475, -0.007400000002235174, -0.09350000321865082, -0.2240000069141388, -0.49720001220703125, -0.08399999886751175, -0.014499999582767487, -0.09600000083446503, 1.496500015258789, 1.4774999618530273, 1.4259999990463257, 1.3288999795913696, 1.309499979019165, 1.1746000051498413, 1.0161999464035034, 1.0032999515533447, 0.9239000082015991, 0.9229999780654907, 0.909600019454956, 0.8723999857902527, 0.8604000210762024, 0.8603000044822693, 0.8468999862670898, 0.8255000114440918, 0.8080999851226807, 0.8065999746322632, 0.7674000263214111, 0.7591000199317932, 0.7509999871253967, 0.7505000233650208, 0.7470999956130981, 0.7355999946594238, 0.734499990940094, 0.7337999939918518, 0.722100019454956, 0.7195000052452087, 0.7175999879837036, 0.7110999822616577, 0.6875, 0.5220000147819519, 0.6564000248908997, 0.659600019454956, 0.44839999079704285, 0.3012000024318695, 0.1988999992609024, 0.28450000286102295, 0.47749999165534973, 0.3986999988555908, 0.32019999623298645, 0.22190000116825104, 0.26809999346733093, 0.26899999380111694, 0.14480000734329224, 0.2361000031232834, 0.45500001311302185, 0.23440000414848328, 0.2922999858856201, 0.2874999940395355, 0.29510000348091125, -0.011599999852478504, 0.16009999811649323, 0.21080000698566437, 0.2363000065088272, 0.22089999914169312, 0.13539999723434448, 0.13279999792575836, -0.03880000114440918, -0.04410000145435333, 0.040300000458955765, -0.08020000159740448, -0.05079999938607216, -0.14710000157356262, -0.2623000144958496, -0.09960000216960907, 0.035100001841783524, 0.03849999979138374, -0.27379998564720154, -0.14419999718666077, 0.053700000047683716, 0.00039999998989515007, 0.016100000590085983, -0.18320000171661377, -0.2800999879837036, 1.5189000368118286, 1.1240999698638916, 1.0267000198364258, 1.0211000442504883, 0.9168000221252441, 0.9016000032424927, 0.8877999782562256, 0.8578000068664551, 0.8464999794960022, 0.8155999779701233, 0.8100000023841858, 0.8083999752998352, 0.8047000169754028, 0.8044999837875366, 0.8029000163078308, 0.7924000024795532, 0.7835000157356262, 0.7716000080108643, 0.7671999931335449, 0.7577999830245972, 0.757099986076355, 0.7336999773979187, 0.7315999865531921, 0.7132999897003174, 0.7046999931335449, 0.698199987411499, 0.6906999945640564, 0.6898999810218811, 0.6887000203132629, 0.6833999752998352, 0.6618000268936157, 0.4002000093460083, 0.5759999752044678, 0.435699999332428, 0.4781000018119812, 0.5203999876976013, 0.3702000081539154, 0.3296000063419342, 0.41190001368522644, 0.18930000066757202, 0.43140000104904175, 0.35519999265670776, 0.4999000132083893, 0.31380000710487366, 0.16419999301433563, 0.3303999900817871, 0.3747999966144562, 0.2215999960899353, 0.38850000500679016, 0.302700012922287, 0.20409999787807465, 0.09839999675750732, 0.16689999401569366, 0.18860000371932983, -0.00430000014603138, 0.16680000722408295, 0.04670000076293945, 0.149399995803833, -0.0778999999165535, 0.2337000072002411, 0.25380000472068787, -0.03909999877214432, 0.08959999680519104, -0.12960000336170197, 0.07090000063180923, -0.03359999880194664, -0.0333000011742115, -0.1412999927997589, 0.06949999928474426, -0.04529999941587448, 0.03669999912381172, -0.2101999968290329, -0.11869999766349792, -0.11289999634027481, -0.37380000948905945, -0.566100001335144, 1.0911999940872192, 0.9911999702453613, 0.9003000259399414, 0.8942999839782715, 0.8555999994277954, 0.8489000201225281, 0.8203999996185303, 0.7975000143051147, 0.7950999736785889, 0.7865999937057495, 0.784500002861023, 0.7724999785423279, 0.7574999928474426, 0.7347999811172485, 0.7330999970436096, 0.7311000227928162, 0.7293000221252441, 0.7287999987602234, 0.7254999876022339, 0.722599983215332, 0.7095000147819519, 0.70660001039505, 0.7026000022888184, 0.6854000091552734, 0.6820999979972839, 0.6812999844551086, 0.6804999709129333, 0.6765000224113464, 0.6717000007629395, 0.670799970626831, 0.5598000288009644, 0.4587000012397766, 0.3476000130176544, 0.5267000198364258, 0.5472000241279602, 0.5051000118255615, 0.31859999895095825, 0.3303000032901764, 0.3305000066757202, 0.35359999537467957, 0.34709998965263367, 0.3644999861717224, 0.12219999730587006, 0.2919999957084656, 0.322299987077713, 0.18709999322891235, 0.4702000021934509, 0.16699999570846558, 0.1559000015258789, 0.25859999656677246, 0.1680999994277954, 0.3384999930858612, 0.3637999892234802, 0.37119999527931213, 0.09960000216960907, 0.18379999697208405, -0.03060000017285347, 0.32519999146461487, 0.012400000356137753, 0.13609999418258667, -0.0632999986410141, 0.19339999556541443, 0.1315000057220459, -0.0052999998442828655, 0.2964000105857849, 0.21459999680519104, 0.05730000138282776, 0.14579999446868896, -0.07750000059604645, -0.0868000015616417, 0.08129999786615372, -0.09179999679327011, -0.1251000016927719, -0.33880001306533813, -0.13120000064373016, -0.09059999883174896, -0.021400000900030136, 0.05779999867081642, -0.2809000015258789, -0.12359999865293503, 1.1262999773025513, 1.0224000215530396, 0.9592000246047974, 0.9416000247001648, 0.9398999810218811, 0.8536999821662903, 0.8528000116348267, 0.7752000093460083, 0.7721999883651733, 0.7648000121116638, 0.7587000131607056, 0.7278000116348267, 0.7264000177383423, 0.7129999995231628, 0.7099000215530396, 0.7084000110626221, 0.7074000239372253, 0.7059000134468079, 0.7045000195503235, 0.6988000273704529, 0.6969000101089478, 0.6908000111579895, 0.6870999932289124, 0.676800012588501, 0.6757000088691711, 0.6718999743461609, 0.6714000105857849, 0.6700000166893005, 0.6687999963760376, 0.6678000092506409, 0.664900004863739, 0.5705999732017517, 0.6510000228881836, 0.652999997138977, 0.6481999754905701, 0.5241000056266785, 0.4077000021934509, 0.33559998869895935, 0.40959998965263367, 0.3801000118255615, 0.5942999720573425, 0.33799999952316284, 0.3057999908924103, 0.3714999854564667, 0.436599999666214, 0.20800000429153442, 0.30709999799728394, 0.36959999799728394, 0.30399999022483826, 0.3555999994277954, 0.17069999873638153, 0.24609999358654022, 0.33500000834465027, 0.29249998927116394, 0.16040000319480896, 0.14880000054836273, 0.07400000095367432, 0.19679999351501465, 0.1979999989271164, 0.06390000134706497, 0.06210000067949295, 0.22370000183582306, 0.026000000536441803, 0.23330000042915344, 0.1987999975681305, -0.06499999761581421, 0.19120000302791595, 0.24719999730587006, 0.08370000123977661, 0.044599998742341995, -0.05079999938607216, -0.017899999395012856, 0.059700001031160355, -0.541700005531311, -0.163100004196167, 0.08799999952316284, 0.02160000056028366, 0.01720000058412552, -0.042399998754262924, -0.5764999985694885, 1.3327000141143799, 1.132200002670288, 1.0506000518798828, 1.0240999460220337, 1.0151000022888184, 1.0139000415802002, 0.9164000153541565, 0.9057999849319458, 0.8641999959945679, 0.781499981880188, 0.7807999849319458, 0.7804999947547913, 0.7788000106811523, 0.7659000158309937, 0.7479000091552734, 0.7462000250816345, 0.7265999913215637, 0.7265999913215637, 0.7032999992370605, 0.697700023651123, 0.6960999965667725, 0.6919000148773193, 0.6870999932289124, 0.6820999979972839, 0.6800000071525574, 0.6769999861717224, 0.6747000217437744, 0.6732000112533569, 0.6704000234603882, 0.6664999723434448, 0.6309000253677368, 0.5299000144004822, 0.5241000056266785, 0.4587000012397766, 0.42879998683929443, 0.5889999866485596, 0.4065999984741211, 0.47780001163482666, 0.41920000314712524, 0.2078000009059906, 0.1387999951839447, 0.3199000060558319, 0.28360000252723694, 0.37619999051094055, 0.4004000127315521, 0.3504999876022339, 0.15600000321865082, 0.24150000512599945, 0.37560001015663147, 0.24709999561309814, 0.25440001487731934, 0.23800000548362732, 0.10610000044107437, 0.24619999527931213, -0.033799998462200165, 0.005400000140070915, 0.02459999918937683, 0.0024999999441206455, 0.3231000006198883, 0.05119999870657921, 0.07029999792575836, 0.1753000020980835, -0.03750000149011612, 0.08869999647140503, 0.06560000032186508, 0.12559999525547028, -0.06679999828338623, -0.09040000289678574, 0.04320000112056732, -0.22290000319480896, -0.07039999961853027, 0.05460000038146973, -0.1436000019311905, -0.25360000133514404, 0.0471000000834465, 0.041999999433755875, -0.018799999728798866, -0.0689999982714653, 0.0024999999441206455, -0.09179999679327011, -0.16459999978542328, 1.2940000295639038, 1.292799949645996, 1.2519999742507935, 1.194599986076355, 1.1811000108718872, 1.09660005569458, 1.0684000253677368, 1.0654000043869019, 1.0601999759674072, 1.0276999473571777, 1.024899959564209, 0.9336000084877014, 0.8693000078201294, 0.8438000082969666, 0.8314999938011169, 0.8136000037193298, 0.7773000001907349, 0.7646999955177307, 0.7552000284194946, 0.7477999925613403, 0.7470999956130981, 0.7263000011444092, 0.7206000089645386, 0.7146000266075134, 0.6963000297546387, 0.6924999952316284, 0.6825000047683716, 0.6823999881744385, 0.6784999966621399, 0.6699000000953674, 0.6651999950408936, 0.6313999891281128, 0.52920001745224, 0.5608000159263611, 0.4982999861240387, 0.5699999928474426, 0.3181999921798706, 0.6037999987602234, 0.3887999951839447, 0.21250000596046448, 0.3952000141143799, 0.4253000020980835, 0.40709999203681946, 0.4004000127315521, 0.2883000075817108, 0.26100000739097595, 0.26089999079704285, 0.34769999980926514, 0.3231000006198883, 0.2547000050544739, 0.34360000491142273, 0.0835999995470047, -0.08990000188350677, 0.2084999978542328, 0.16259999573230743, 0.17739999294281006, 0.14259999990463257, 0.30390000343322754, -0.05860000103712082, -0.02879999950528145, 0.1143999993801117, 0.1437000036239624, 0.1881999969482422, 0.13660000264644623, -0.14090000092983246, 0.1648000031709671, 0.1120000034570694, -0.10480000078678131, -0.22269999980926514, -0.14509999752044678, 0.045899998396635056, 0.061400000005960464, -0.18029999732971191, -0.2662000060081482, 0.018200000748038292, -0.24879999458789825, -0.120899997651577, -0.4578000009059906, -0.2379000037908554, -0.2791000008583069, 1.1333999633789062, 1.1115000247955322, 1.1031999588012695, 1.00409996509552, 0.9430000185966492, 0.9283000230789185, 0.927299976348877, 0.892300009727478, 0.8695999979972839, 0.854200005531311, 0.8539000153541565, 0.8271999955177307, 0.8258000016212463, 0.8220000267028809, 0.808899998664856, 0.807699978351593, 0.8051999807357788, 0.7996000051498413, 0.7797999978065491, 0.7785999774932861, 0.7631000280380249, 0.7605999708175659, 0.7598000168800354, 0.7508000135421753, 0.7504000067710876, 0.7372999787330627, 0.7360000014305115, 0.7347999811172485, 0.7318999767303467, 0.7299000024795532, 0.7283999919891357, 0.7269999980926514, 0.7160999774932861, 0.571399986743927, 0.6740999817848206, 0.46970000863075256, 0.3718000054359436, 0.6129000186920166, 0.3562999963760376, 0.43130001425743103, 0.5338000059127808, 0.46070000529289246, 0.3961000144481659, 0.48590001463890076, 0.35199999809265137, 0.36899998784065247, 0.40380001068115234, 0.28850001096725464, 0.17820000648498535, 0.26739999651908875, 0.3702999949455261, 0.2946000099182129, 0.3718999922275543, 0.1264999955892563, 0.31869998574256897, 0.22630000114440918, 0.35269999504089355, 0.2558000087738037, 0.23510000109672546, 0.12770000100135803, 0.29010000824928284, 0.1899999976158142, 0.17579999566078186, 0.1256999969482422, -0.08299999684095383, -0.030400000512599945, 0.20520000159740448, -0.02239999920129776, 0.2637999951839447, -0.06440000236034393, -0.032099999487400055, -0.09210000187158585, 0.1657000035047531, 0.08429999649524689, 0.055799998342990875, -0.16500000655651093, -0.09009999781847, -0.29649999737739563, -0.5985999703407288, -0.20749999582767487, -0.0142000000923872, 0.06800000369548798, 0.031099999323487282, 0.020600000396370888, -0.032600000500679016, -0.38960000872612, -0.02160000056028366, -0.06539999693632126, -0.3458999991416931, 1.1512999534606934, 1.0987000465393066, 1.0918999910354614, 1.0211000442504883, 1.0194000005722046, 0.9976999759674072, 0.9171000123023987, 0.9021000266075134, 0.8974000215530396, 0.8830000162124634, 0.8808000087738037, 0.8604000210762024, 0.8596000075340271, 0.8575000166893005, 0.8496000170707703, 0.828000009059906, 0.826200008392334, 0.8260999917984009, 0.8036999702453613, 0.7953000068664551, 0.792900025844574, 0.7893000245094299, 0.7893000245094299, 0.7889000177383423, 0.786300003528595, 0.781000018119812, 0.7809000015258789, 0.7648000121116638, 0.7587000131607056, 0.7569000124931335, 0.7488999962806702, 0.5371000170707703, 0.6940000057220459, 0.4586000144481659, 0.6229000091552734, 0.2240999937057495, 0.4230000078678131, 0.3865000009536743, 0.319599986076355, 0.40630000829696655, 0.29280000925064087, 0.19419999420642853, 0.48030000925064087, 0.3368000090122223, 0.3544999957084656, 0.47130000591278076, 0.36739999055862427, 0.0982000008225441, 0.19130000472068787, 0.29179999232292175, 0.3790999948978424, 0.10869999974966049, 0.21580000221729279, 0.017799999564886093, 0.03880000114440918, 0.3093000054359436, 0.2021999955177307, 0.21539999544620514, -0.01979999989271164, 0.21570000052452087, -0.18389999866485596, 0.02019999921321869, 0.17270000278949738, 0.09809999912977219, 0.22679999470710754, 0.16990000009536743, -0.048900000751018524, 0.14560000598430634, 0.10260000079870224, 0.028200000524520874, -0.29580000042915344, 0.15049999952316284, -0.011900000274181366, -0.17489999532699585, -0.18870000541210175, 0.019700000062584877, -0.09309999644756317, 0.04479999840259552, -0.003800000064074993, -0.24950000643730164, 0.00019999999494757503, -0.015599999576807022, -0.026499999687075615, -0.16339999437332153, -0.17479999363422394, -0.1354999989271164], \"logprob\": [30.0, 29.0, 28.0, 27.0, 26.0, 25.0, 24.0, 23.0, 22.0, 21.0, 20.0, 19.0, 18.0, 17.0, 16.0, 15.0, 14.0, 13.0, 12.0, 11.0, 10.0, 9.0, 8.0, 7.0, 6.0, 5.0, 4.0, 3.0, 2.0, 1.0, -10.434200286865234, -10.251500129699707, -11.511899948120117, -10.889399528503418, -10.541099548339844, -10.532899856567383, -11.759200096130371, -11.834400177001953, -10.663900375366211, -11.496000289916992, -10.336299896240234, -10.041999816894531, -11.227299690246582, -11.245200157165527, -11.281700134277344, -11.281000137329102, -11.591400146484375, -11.942500114440918, -11.945899963378906, -11.303899765014648, -10.659799575805664, -11.615699768066406, -10.957599639892578, -11.313199996948242, -11.122599601745605, -11.123299598693848, -11.638999938964844, -10.180399894714355, -11.341300010681152, -11.399100303649902, -9.634699821472168, -10.42389965057373, -4.368299961090088, -4.834199905395508, -5.728099822998047, -5.840400218963623, -6.384699821472168, -4.55679988861084, -5.20419979095459, -9.204400062561035, -5.090799808502197, -5.210599899291992, -4.454100131988525, -7.110099792480469, -6.4319000244140625, -4.5518999099731445, -3.5790998935699463, -5.615799903869629, -7.08650016784668, -6.648900032043457, -6.019999980926514, -5.021599769592285, -6.194399833679199, -4.853499889373779, -6.031199932098389, -6.717100143432617, -5.6031999588012695, -4.497099876403809, -5.502900123596191, -5.68310022354126, -5.053999900817871, -5.017600059509277, -5.850900173187256, -5.640100002288818, -5.145199775695801, -5.238800048828125, -5.783100128173828, -5.72160005569458, -4.582399845123291, -5.810299873352051, -5.925300121307373, -5.885200023651123, -5.789999961853027, -5.86359977722168, -5.8394999504089355, -11.25529956817627, -10.794500350952148, -10.522500038146973, -10.811200141906738, -11.033900260925293, -10.910599708557129, -11.761099815368652, -11.767499923706055, -11.795599937438965, -11.150400161743164, -10.06350040435791, -11.155900001525879, -11.166600227355957, -10.654800415039062, -11.85669994354248, -10.706199645996094, -11.89009952545166, -11.245699882507324, -11.909799575805664, -11.910900115966797, -11.110400199890137, -10.623600006103516, -11.076299667358398, -11.581999778747559, -11.590100288391113, -10.273300170898438, -11.09689998626709, -10.568900108337402, -11.947199821472168, -10.820899963378906, -8.136699676513672, -5.532100200653076, -10.706700325012207, -7.702499866485596, -5.418399810791016, -6.479499816894531, -6.003600120544434, -4.828499794006348, -7.961900234222412, -4.218800067901611, -3.987499952316284, -5.242300033569336, -6.526899814605713, -6.472700119018555, -5.445099830627441, -5.9994001388549805, -6.46560001373291, -4.897799968719482, -3.621799945831299, -5.990900039672852, -6.431099891662598, -7.172999858856201, -7.153800010681152, -6.3379998207092285, -6.781700134277344, -4.883500099182129, -5.566299915313721, -5.157700061798096, -5.774499893188477, -4.9446001052856445, -4.844900131225586, -6.230100154876709, -6.042500019073486, -4.728700160980225, -5.753200054168701, -6.388999938964844, -5.748000144958496, -5.991199970245361, -5.121699810028076, -5.953000068664551, -5.8333001136779785, -5.7895002365112305, -6.016600131988525, -5.122700214385986, -5.064300060272217, -5.855599880218506, -5.773499965667725, -5.701399803161621, -5.578700065612793, -5.636000156402588, -5.854499816894531, -5.887800216674805, -5.871399879455566, -10.53909969329834, -10.558099746704102, -10.415900230407715, -11.355600357055664, -10.725899696350098, -10.86050033569336, -10.268099784851074, -8.760199546813965, -11.760299682617188, -11.41819953918457, -11.12399959564209, -11.163700103759766, -11.175000190734863, -10.981300354003906, -10.461600303649902, -11.208900451660156, -11.227700233459473, -11.229499816894531, -11.075900077819824, -11.277999877929688, -11.282999992370605, -11.285900115966797, -10.933600425720215, -10.45419979095459, -11.107399940490723, -11.60770034790039, -11.311100006103516, -11.316699981689453, -10.79319953918457, -11.172499656677246, -9.938799858093262, -6.749599933624268, -9.804200172424316, -10.077300071716309, -6.429800033569336, -4.330699920654297, -3.434799909591675, -4.78000020980835, -7.410799980163574, -6.38700008392334, -5.785099983215332, -4.947199821472168, -5.498000144958496, -5.611999988555908, -4.566199779510498, -5.635200023651123, -7.737599849700928, -5.757800102233887, -6.343800067901611, -6.333099842071533, -6.425000190734863, -4.168099880218506, -5.534299850463867, -5.949699878692627, -6.185800075531006, -6.135900020599365, -5.723800182342529, -5.729300022125244, -5.003300189971924, -5.0609002113342285, -5.452499866485596, -5.013000011444092, -5.189700126647949, -4.987199783325195, -4.703999996185303, -5.328199863433838, -5.693699836730957, -5.736800193786621, -5.11269998550415, -5.498799800872803, -5.9197998046875, -5.855299949645996, -5.888000011444092, -5.888199806213379, -5.8881001472473145, -11.162500381469727, -10.910599708557129, -11.008899688720703, -11.660499572753906, -10.965399742126465, -10.980899810791016, -10.951299667358398, -11.481800079345703, -11.836999893188477, -10.0447998046875, -11.531200408935547, -11.875800132751465, -11.879199981689453, -11.23009967803955, -11.88029956817627, -11.293100357055664, -11.254400253295898, -10.907899856567383, -11.268600463867188, -11.925299644470215, -10.36340045928955, -10.981100082397461, -10.778400421142578, -11.320899963378906, -11.636500358581543, -11.985400199890137, -11.342399597167969, -11.151800155639648, -10.519800186157227, -10.994099617004395, -10.6225004196167, -3.233599901199341, -8.060999870300293, -5.293099880218506, -6.417900085449219, -7.541800022125244, -5.5030999183654785, -5.617599964141846, -6.726099967956543, -4.521699905395508, -7.358799934387207, -6.522799968719482, -8.206100463867188, -6.131400108337402, -4.675899982452393, -6.39169979095459, -6.880199909210205, -5.688399791717529, -7.242499828338623, -6.509300231933594, -5.673699855804443, -4.740499973297119, -5.527500152587891, -5.767899990081787, -4.446100234985352, -5.704500198364258, -4.970099925994873, -5.673500061035156, -4.234300136566162, -6.309899806976318, -6.491600036621094, -5.003499984741211, -5.6809000968933105, -4.761499881744385, -5.695300102233887, -5.262199878692627, -5.387899875640869, -5.07420015335083, -5.822500228881836, -5.538099765777588, -5.844200134277344, -5.348999977111816, -5.600399971008301, -5.720900058746338, -5.438300132751465, -5.735199928283691, -11.594300270080566, -11.043399810791016, -11.134900093078613, -11.140700340270996, -11.828900337219238, -11.836400032043457, -10.348299980163574, -11.04520034790039, -9.473899841308594, -11.899700164794922, -11.250499725341797, -9.744199752807617, -11.085100173950195, -11.950900077819824, -11.952500343322754, -11.303999900817871, -11.305800437927246, -10.661800384521484, -11.957500457763672, -10.957200050354004, -11.175200462341309, -11.328200340270996, -9.790499687194824, -11.349900245666504, -11.353799819946289, -11.354100227355957, -11.35669994354248, -11.41189956665039, -11.364100456237793, -10.496399879455566, -8.115799903869629, -6.726399898529053, -5.59250020980835, -8.461799621582031, -8.830400466918945, -8.379500389099121, -5.554699897766113, -5.7621002197265625, -5.829999923706055, -6.145999908447266, -6.137400150299072, -6.506800174713135, -3.5114998817443848, -5.700200080871582, -6.110199928283691, -4.652900218963623, -7.96019983291626, -4.765900135040283, -4.68310022354126, -5.993899822235107, -5.186500072479248, -6.7906999588012695, -7.033400058746338, -7.147799968719482, -4.864799976348877, -5.708099842071533, -4.187099933624268, -6.844900131225586, -4.698599815368652, -5.634399890899658, -4.505000114440918, -6.103799819946289, -5.772600173950195, -5.1743998527526855, -6.774600028991699, -6.376200199127197, -5.64769983291626, -6.051199913024902, -5.094200134277344, -5.151299953460693, -5.828800201416016, -5.320400238037109, -5.263999938964844, -4.970600128173828, -5.61299991607666, -5.698599815368652, -5.787499904632568, -5.916100025177002, -5.77370023727417, -5.89900016784668, -10.957599639892578, -11.010600090026855, -11.072799682617188, -10.566200256347656, -11.092499732971191, -11.82859992980957, -10.861100196838379, -11.256199836730957, -11.910200119018555, -11.269100189208984, -11.924400329589844, -11.111900329589844, -11.956500053405762, -11.320500373840332, -10.798399925231934, -11.173800468444824, -10.969599723815918, -10.710700035095215, -10.578100204467773, -11.336099624633789, -11.184900283813477, -11.992500305175781, -11.99489974975586, -12.006199836730957, -12.006199836730957, -11.413800239562988, -10.307700157165527, -11.36340045928955, -11.171299934387207, -12.014800071716309, -11.173500061035156, -6.0040998458862305, -10.427900314331055, -10.578100204467773, -10.635000228881836, -7.5971999168396, -5.073999881744385, -3.8208999633789062, -5.446100234985352, -5.479000091552734, -9.561400413513184, -5.553999900817871, -5.399199962615967, -6.479899883270264, -7.460700035095215, -4.856500148773193, -6.099899768829346, -7.000800132751465, -6.255499839782715, -6.872600078582764, -4.793700218200684, -5.634799957275391, -6.645100116729736, -6.328100204467773, -5.06820011138916, -4.989999771118164, -4.5578999519348145, -5.6743998527526855, -5.722799777984619, -4.64709997177124, -4.870699882507324, -5.9944000244140625, -4.812900066375732, -6.182700157165527, -5.987800121307373, -4.506800174713135, -6.008900165557861, -6.309800148010254, -5.5243000984191895, -5.448200225830078, -5.219900131225586, -5.372499942779541, -5.710899829864502, -4.1753997802734375, -5.179800033569336, -5.78980016708374, -5.672800064086914, -5.758200168609619, -5.771200180053711, -5.416600227355957, -10.70359992980957, -10.903599739074707, -11.634300231933594, -11.011500358581543, -11.327099800109863, -11.670599937438965, -11.768699645996094, -11.13070011138916, -10.978500366210938, -11.25510025024414, -10.729299545288086, -11.253600120544434, -10.900699615478516, -11.267900466918945, -11.287699699401855, -11.938300132751465, -10.692000389099121, -11.95829963684082, -11.33329963684082, -11.644700050354004, -11.188199996948242, -9.314000129699707, -11.196499824523926, -11.351499557495117, -10.266799926757812, -10.534299850463867, -11.36139965057373, -10.716500282287598, -11.365699768066406, -11.368399620056152, -9.433799743652344, -5.64169979095459, -6.205100059509277, -6.240600109100342, -5.92080020904541, -9.279899597167969, -6.366700172424316, -7.561500072479248, -6.835899829864502, -4.23390007019043, -3.4948999881744385, -5.9243998527526855, -5.626500129699707, -6.69789981842041, -7.015999794006348, -6.666999816894531, -4.776899814605713, -5.704100131988525, -7.099100112915039, -5.845399856567383, -6.082499980926514, -6.0177998542785645, -5.063000202178955, -6.200399875640869, -4.190299987792969, -4.626500129699707, -4.815499782562256, -4.836400032043457, -6.829400062561035, -5.1774001121521, -5.422500133514404, -6.018700122833252, -5.0019001960754395, -5.640100002288818, -5.542399883270264, -5.821599960327148, -5.083499908447266, -5.154900074005127, -5.661799907684326, -4.933899879455566, -5.552199840545654, -5.807499885559082, -5.498199939727783, -5.392399787902832, -5.85699987411499, -5.878799915313721, -5.841700077056885, -5.844399929046631, -5.870800018310547, -5.862299919128418, -5.859000205993652, -11.388899803161621, -10.741700172424316, -10.782299995422363, -11.146200180053711, -10.209500312805176, -10.938199996948242, -10.966500282287598, -10.969499588012695, -10.970999717712402, -11.007399559020996, -11.315799713134766, -10.743300437927246, -11.216500282287598, -10.665300369262695, -11.20460033416748, -11.027099609375, -11.2568998336792, -10.652400016784668, -10.157500267028809, -10.7608003616333, -10.643699645996094, -10.690400123596191, -11.963600158691406, -11.37090015411377, -11.336799621582031, -10.989800453186035, -10.826800346374512, -11.65939998626709, -12.005399703979492, -11.171299934387207, -10.54539966583252, -9.132100105285645, -5.444300174713135, -7.276899814605713, -6.92549991607666, -8.628999710083008, -4.698500156402588, -9.497099876403809, -6.231900215148926, -3.944000005722046, -6.3780999183654785, -6.857600212097168, -6.669899940490723, -6.629000186920166, -5.573800086975098, -5.514400005340576, -5.6168999671936035, -6.411300182342529, -6.4197998046875, -5.900700092315674, -6.6255998611450195, -4.756499767303467, -3.7237000465393066, -5.765500068664551, -5.607900142669678, -5.7434000968933105, -5.562300205230713, -6.479800224304199, -4.500400066375732, -4.739799976348877, -5.493599891662598, -5.729700088500977, -6.005799770355225, -5.803599834442139, -4.772799968719482, -5.984499931335449, -5.8445000648498535, -5.333399772644043, -5.061699867248535, -5.283899784088135, -5.7769999504089355, -5.819499969482422, -5.349400043487549, -5.230599880218506, -5.748000144958496, -5.313300132751465, -5.60260009765625, -5.390699863433838, -5.59250020980835, -5.771900177001953, -10.897299766540527, -10.920700073242188, -11.577400207519531, -11.028900146484375, -11.737000465393066, -11.752799987792969, -11.753199577331543, -11.139800071716309, -11.161700248718262, -11.178199768066406, -11.177000045776367, -11.205499649047852, -11.013899803161621, -11.21030044555664, -11.87339973449707, -11.03030014038086, -11.87720012664795, -10.738300323486328, -11.253199577331543, -11.252699851989746, -10.74429988861084, -11.920499801635742, -11.272899627685547, -11.93019962310791, -10.532699584960938, -11.294899940490723, -11.348299980163574, -11.946399688720703, -10.455400466918945, -11.303899765014648, -10.779199600219727, -10.811200141906738, -10.961899757385254, -7.742400169372559, -10.134200096130371, -6.4079999923706055, -5.109899997711182, -9.036100387573242, -5.535600185394287, -6.62060022354126, -7.993800163269043, -7.329400062561035, -6.631700038909912, -7.717100143432617, -6.222599983215332, -6.532400131225586, -6.991600036621094, -5.949900150299072, -4.960599899291992, -5.771900177001953, -6.832399845123291, -6.1519999504089355, -6.864200115203857, -4.8379998207092285, -6.396500110626221, -5.747200012207031, -6.853099822998047, -6.081900119781494, -5.919600009918213, -5.226900100708008, -6.443299770355225, -5.720099925994873, -5.728300094604492, -5.4822998046875, -4.2393999099731445, -4.662300109863281, -6.050600051879883, -4.9552998542785645, -6.391900062561035, -4.903299808502197, -5.048900127410889, -4.803100109100342, -5.989799976348877, -5.686200141906738, -5.638599872589111, -5.005099773406982, -5.259200096130371, -4.7382001876831055, -4.2322998046875, -5.271999835968018, -5.743000030517578, -5.877699851989746, -5.846700191497803, -5.8506999015808105, -5.808000087738037, -5.618100166320801, -5.8445000648498535, -5.831600189208984, -5.838699817657471, -11.532400131225586, -11.583999633789062, -9.783599853515625, -11.662799835205078, -11.01550006866455, -11.683899879455566, -11.115599632263184, -11.781999588012695, -10.490799903869629, -11.152199745178223, -11.154000282287598, -10.817099571228027, -11.175999641418457, -10.650400161743164, -11.186200141906738, -11.207599639892578, -11.20829963684082, -11.05720043182373, -11.230500221252441, -10.284500122070312, -11.047800064086914, -10.519599914550781, -10.377699851989746, -10.72070026397705, -10.380399703979492, -11.25469970703125, -11.560199737548828, -11.119199752807617, -11.124799728393555, -11.277799606323242, -10.641300201416016, -4.6016998291015625, -10.054900169372559, -6.468400001525879, -9.082799911499023, -4.217599868774414, -6.5406999588012695, -6.197199821472168, -5.542500019073486, -6.64109992980957, -5.663599967956543, -4.870299816131592, -7.9116997718811035, -6.67609977722168, -6.847400188446045, -7.882900238037109, -7.060699939727783, -4.918600082397461, -5.679900169372559, -6.552700042724609, -7.217700004577637, -5.245999813079834, -6.061600208282471, -4.614099979400635, -4.894100189208984, -6.747900009155273, -6.053599834442139, -6.183800220489502, -4.730800151824951, -6.206399917602539, -3.8176000118255615, -5.148900032043457, -6.021299839019775, -5.668000221252441, -6.363999843597412, -6.07450008392334, -5.013400077819824, -6.014900207519531, -5.8429999351501465, -5.579800128936768, -4.452300071716309, -6.046500205993652, -5.504700183868408, -5.013899803161621, -5.028800010681152, -5.709099769592285, -5.574900150299072, -5.847099781036377, -5.779099941253662, -5.478099822998047, -5.920599937438965, -5.9257001876831055, -5.930600166320801, -5.868299961090088, -5.869200229644775, -5.906000137329102]}, \"token.table\": {\"Topic\": [1, 2, 3, 4, 5, 6, 7, 8, 9, 10, 1, 2, 3, 4, 5, 6, 7, 8, 9, 10, 1, 2, 3, 4, 5, 6, 7, 8, 9, 10, 1, 2, 3, 4, 5, 6, 7, 8, 9, 10, 2, 5, 9, 9, 1, 2, 3, 4, 5, 6, 7, 8, 9, 10, 3, 8, 9, 2, 1, 2, 3, 4, 5, 6, 7, 8, 9, 10, 1, 2, 3, 4, 5, 6, 7, 8, 9, 10, 1, 2, 3, 4, 5, 6, 7, 8, 9, 10, 6, 1, 2, 3, 4, 5, 6, 7, 8, 9, 10, 9, 9, 7, 7, 4, 8, 8, 6, 9, 4, 1, 5, 3, 5, 4, 7, 10, 3, 1, 2, 3, 4, 5, 6, 7, 8, 9, 10, 2, 6, 1, 2, 4, 8, 9, 7, 2, 3, 5, 6, 8, 10, 2, 8, 7, 1, 2, 5, 10, 1, 2, 9, 3, 9, 1, 2, 3, 4, 5, 6, 7, 8, 9, 10, 1, 2, 6, 8, 4, 1, 2, 3, 4, 5, 6, 7, 10, 3, 9, 7, 4, 5, 9, 10, 6, 9, 10, 5, 6, 9, 5, 8, 3, 5, 2, 3, 4, 5, 6, 7, 9, 10, 1, 2, 3, 4, 5, 6, 7, 8, 9, 10, 1, 2, 3, 4, 5, 8, 7, 10, 4, 10, 1, 4, 6, 10, 1, 2, 3, 4, 5, 6, 7, 10, 1, 4, 1, 1, 2, 4, 5, 1, 6, 3, 9, 1, 2, 3, 4, 5, 7, 8, 2, 3, 10, 1, 2, 3, 4, 5, 6, 7, 8, 9, 10, 5, 8, 8, 8, 1, 2, 5, 10, 2, 3, 5, 6, 5, 1, 3, 9, 10, 1, 2, 3, 4, 5, 6, 7, 8, 9, 10, 2, 4, 5, 8, 2, 7, 4, 7, 8, 2, 5, 10, 4, 7, 1, 2, 7, 10, 1, 2, 3, 4, 5, 6, 7, 8, 9, 10, 5, 5, 8, 1, 3, 4, 6, 7, 3, 10, 3, 1, 4, 7, 4, 8, 7, 4, 5, 7, 1, 2, 3, 4, 5, 6, 7, 8, 9, 10, 5, 10, 1, 2, 3, 4, 5, 6, 7, 8, 9, 10, 2, 4, 1, 4, 5, 7, 8, 10, 4, 7, 8, 1, 2, 3, 4, 5, 6, 7, 8, 9, 10, 1, 5, 6, 9, 2, 4, 7, 10, 2, 2, 10, 2, 6, 8, 9, 6, 10, 1, 2, 3, 4, 5, 6, 7, 8, 9, 10, 1, 2, 2, 3, 4, 5, 6, 7, 8, 9, 10, 1, 6, 7, 8, 9, 10, 1, 2, 6, 7, 8, 9, 10, 1, 2, 3, 4, 5, 6, 7, 8, 9, 10, 1, 2, 3, 4, 5, 6, 7, 8, 9, 10, 9, 2, 3, 6, 10, 1, 2, 3, 4, 5, 6, 7, 8, 9, 10, 4, 6, 1, 2, 3, 4, 5, 6, 7, 8, 9, 10, 5, 6, 6, 1, 2, 3, 4, 5, 6, 7, 8, 9, 10, 1, 2, 3, 4, 5, 6, 7, 8, 9, 10, 2, 1, 2, 3, 4, 5, 6, 7, 8, 9, 10, 1, 2, 3, 4, 5, 6, 7, 8, 9, 10, 1, 2, 3, 4, 5, 6, 7, 8, 9, 10, 1, 2, 3, 4, 5, 6, 7, 8, 9, 10, 1, 2, 3, 4, 5, 6, 7, 8, 9, 10, 4, 10, 1, 2, 3, 4, 5, 6, 7, 8, 9, 10, 5, 1, 2, 1, 2, 3, 4, 5, 6, 7, 8, 9, 10, 2, 5, 3, 1, 2, 3, 4, 5, 6, 7, 8, 9, 10, 2, 10, 1, 2, 3, 4, 5, 6, 7, 8, 9, 10, 4, 7, 9, 3, 10, 1, 2, 3, 4, 5, 6, 7, 8, 9, 10, 1, 1, 2, 3, 4, 5, 6, 7, 8, 9, 10, 1, 2, 3, 4, 5, 6, 7, 8, 9, 10, 1, 2, 3, 4, 5, 7, 8, 9, 10, 1, 2, 3, 4, 5, 6, 7, 8, 9, 10, 1, 2, 3, 4, 5, 6, 7, 8, 9, 10, 1, 2, 3, 4, 5, 6, 7, 8, 9, 10, 2, 10, 1, 3, 8, 1, 2, 3, 4, 5, 6, 7, 8, 9, 10, 1, 2, 3, 4, 5, 6, 7, 8, 9, 10, 1, 2, 3, 4, 5, 6, 7, 8, 9, 10, 3, 4, 1, 2, 3, 4, 5, 6, 7, 8, 9, 10, 6, 3, 7, 4, 7, 9, 10, 1, 2, 3, 4, 5, 6, 7, 8, 9, 10, 1, 2, 3, 4, 5, 6, 7, 8, 9, 10, 1, 2, 3, 4, 5, 7, 8, 9, 10, 1, 2, 3, 4, 5, 6, 7, 8, 9, 10, 1, 2, 3, 4, 5, 6, 7, 8, 9, 10, 3, 1, 2, 3, 4, 5, 6, 7, 8, 9, 10, 1, 2, 3, 4, 5, 6, 7, 8, 9, 10, 1, 2, 3, 4, 5, 6, 7, 8, 9, 10, 1, 2, 3, 4, 5, 6, 7, 8, 9, 10, 1, 2, 3, 4, 5, 6, 7, 8, 9, 10, 1, 2, 3, 4, 5, 6, 7, 8, 9, 10, 1, 2, 3, 4, 5, 6, 7, 8, 9, 10, 1, 4, 7, 2, 5, 6, 8, 1, 2, 3, 4, 5, 6, 7, 8, 9, 10, 1, 2, 3, 4, 5, 6, 7, 8, 9, 10, 1, 4, 3, 1, 2, 3, 4, 5, 6, 7, 8, 9, 10, 1, 2, 3, 4, 5, 6, 7, 8, 9, 10, 1, 2, 3, 4, 5, 6, 7, 8, 9, 10, 1, 2, 3, 4, 5, 6, 7, 8, 9, 10, 1, 2, 3, 4, 5, 6, 7, 8, 9, 10, 1, 2, 3, 4, 5, 6, 7, 8, 9, 10, 8, 2, 9, 1, 2, 3, 4, 5, 6, 7, 8, 9, 10, 1, 2, 3, 4, 5, 6, 7, 8, 9, 10, 3, 1, 2, 3, 4, 5, 6, 7, 8, 9, 10, 10, 1, 2, 3, 4, 7, 8, 1, 2, 3, 4, 5, 6, 7, 8, 9, 10, 1, 2, 3, 4, 5, 6, 7, 8, 9, 10, 1, 2, 3, 4, 5, 6, 7, 8, 9, 10, 10, 7, 10, 3, 5, 6, 7, 9, 10, 1, 2, 3, 4, 5, 6, 7, 8, 9, 10, 1, 2, 3, 4, 5, 6, 7, 8, 9, 10, 1, 2, 3, 4, 5, 6, 7, 8, 9, 10, 8, 1, 2, 3, 4, 5, 6, 7, 8, 9, 10, 1, 2, 3, 4, 5, 6, 7, 8, 9, 10, 1, 2, 3, 4, 5, 6, 7, 8, 9, 10, 1, 2, 3, 4, 5, 6, 7, 8, 9, 10, 2, 1, 2, 3, 4, 5, 6, 7, 8, 9, 10, 1, 2, 3, 4, 5, 6, 7, 8, 9, 10, 1, 2, 3, 4, 5, 6, 7, 8, 9, 10, 3, 1, 2, 3, 4, 5, 6, 7, 8, 9, 10, 1, 2, 3, 4, 5, 6, 7, 8, 9, 10, 7, 1, 2, 3, 4, 5, 6, 7, 8, 9, 10, 3, 1, 2, 3, 4, 5, 6, 7, 8, 9, 10, 1, 2, 3, 4, 5, 6, 7, 8, 9, 10, 4, 7, 1, 2, 3, 4, 5, 6, 7, 8, 9, 10, 1, 2, 3, 4, 5, 6, 7, 8, 9, 10, 1, 2, 3, 4, 5, 6, 7, 8, 9, 10, 1, 2, 3, 4, 5, 6, 7, 8, 9, 10, 1, 7, 1, 2, 3, 4, 5, 6, 7, 8, 9, 10, 1, 2, 3, 4, 5, 6, 7, 8, 9, 10, 1, 2, 3, 4, 5, 6, 7, 8, 9, 10, 1, 2, 3, 4, 5, 6, 7, 8, 9, 10, 1, 3, 5, 7, 9, 9, 1, 2, 3, 4, 5, 6, 7, 8, 9, 10, 1, 2, 3, 4, 5, 6, 7, 8, 9, 10, 1, 2, 3, 4, 5, 6, 7, 8, 9, 10, 2, 1, 2, 3, 4, 5, 6, 7, 8, 9, 10, 4, 5, 1, 2, 3, 4, 5, 6, 7, 8, 9, 10, 1, 2, 3, 4, 5, 6, 7, 8, 9, 10, 1, 2, 3, 4, 5, 6, 7, 8, 9, 1, 2, 3, 4, 5, 6, 7, 8, 9, 10, 1, 2, 3, 5, 6, 7, 9, 10, 1, 2, 3, 4, 5, 6, 7, 8, 9, 10, 7, 10, 1, 2, 3, 4, 5, 6, 7, 8, 9, 10, 1, 2, 3, 4, 5, 6, 7, 8, 9, 10, 1, 2, 3, 4, 5, 6, 7, 8, 9, 10, 1, 2, 3, 4, 5, 6, 7, 8, 9, 10, 1, 2, 3, 4, 5, 6, 7, 8, 9, 10, 1, 2, 3, 4, 5, 6, 7, 8, 9, 10, 3, 1, 2, 3, 4, 5, 6, 7, 8, 9, 10, 1, 2, 3, 4, 5, 6, 7, 8, 9, 10, 1, 2, 3, 4, 5, 6, 7, 8, 9, 10, 1, 7, 8, 9, 1, 2, 3, 4, 5, 6, 7, 8, 9, 10, 3, 1, 2, 3, 4, 5, 6, 7, 8, 9, 10, 3, 1, 3, 5, 8, 9, 10, 4, 6, 6, 8, 9, 5, 1, 2, 3, 4, 5, 6, 9, 10, 1, 2, 3, 4, 5, 6, 7, 8, 9, 10, 1, 2, 3, 4, 5, 6, 7, 8, 9, 10, 1, 2, 6, 1, 2, 3, 4, 5, 6, 7, 8, 9, 10, 1, 2, 3, 4, 5, 6, 7, 8, 9, 10, 4, 7, 9, 10, 9, 1, 2, 3, 4, 5, 6, 7, 8, 9, 10, 1, 2, 3, 4, 5, 6, 7, 8, 9, 10, 1, 2, 3, 4, 5, 6, 7, 8, 9, 10, 2, 6, 1, 2, 3, 4, 5, 6, 7, 8, 9, 10, 1, 2, 3, 4, 5, 6, 7, 8, 9, 10, 1, 2, 3, 4, 5, 6, 7, 8, 9, 10, 1, 2, 3, 4, 5, 6, 7, 8, 9, 10, 1, 2, 3, 4, 5, 6, 7, 8, 9, 10, 1, 2, 3, 4, 5, 6, 7, 8, 9, 10, 1, 2, 3, 4, 5, 6, 7, 8, 9, 10, 1, 2, 3, 4, 5, 6, 7, 8, 9, 10, 1, 2, 3, 4, 5, 6, 7, 8, 9, 10, 1, 2, 3, 4, 5, 6, 7, 8, 9, 10, 7, 9, 3, 4, 6, 10, 1, 2, 3, 4, 5, 6, 7, 8, 9, 10, 1, 1, 2, 3, 4, 5, 6, 7, 8, 9, 10, 1, 2, 3, 4, 5, 6, 7, 8, 9, 10, 8, 1, 2, 3, 4, 5, 6, 7, 8, 9, 10, 1, 2, 3, 4, 5, 6, 7, 8, 9, 10, 2, 3, 7, 9, 10, 4, 6, 1, 2, 3, 4, 5, 6, 7, 8, 9, 10, 7, 9, 1, 2, 3, 4, 5, 6, 7, 8, 9, 10, 1, 2, 3, 4, 5, 6, 7, 8, 9, 10, 6, 1, 2, 3, 4, 5, 6, 7, 8, 9, 10, 1, 2, 3, 4, 5, 6, 7, 8, 9, 10, 1, 2, 3, 4, 5, 6, 7, 8, 9, 10, 1, 2, 3, 4, 5, 6, 7, 8, 9, 10, 1, 2, 3, 6, 7, 9, 7, 1, 2, 3, 4, 5, 6, 7, 8, 9, 10, 4, 5, 1, 2, 3, 4, 5, 6, 7, 8, 9, 10, 1, 2, 3, 4, 5, 6, 7, 8, 9, 10, 1, 2, 3, 4, 5, 6, 7, 8, 9, 10, 1, 2, 3, 4, 5, 6, 7, 8, 9, 10, 1, 8, 1, 2, 3, 4, 5, 6, 7, 8, 9, 10, 1, 2, 5, 7, 10, 1, 2, 3, 4, 5, 6, 7, 8, 9, 10, 1, 2, 3, 4, 5, 6, 7, 8, 9, 10, 1, 5, 8, 1, 2, 3, 4, 5, 6, 7, 8, 9, 10, 1, 2, 3, 4, 5, 6, 7, 8, 9, 10, 1, 2, 3, 4, 5, 6, 7, 8, 9, 10, 4, 6, 10, 1, 2, 3, 4, 5, 6, 7, 8, 9, 10, 1, 4, 1, 2, 3, 4, 5, 6, 7, 8, 9, 10, 1, 2, 3, 4, 5, 6, 7, 8, 9, 10, 1, 2, 3, 4, 5, 6, 7, 8, 9, 10, 1, 2, 3, 4, 5, 6, 7, 8, 9, 10, 1, 2, 3, 4, 5, 6, 8, 9, 1, 2, 3, 4, 5, 6, 7, 8, 9, 10, 1, 2, 3, 4, 5, 6, 7, 8, 10, 1, 2, 3, 4, 5, 6, 7, 8, 9, 1, 2, 3, 6, 7, 10, 1, 2, 3, 4, 5, 6, 7, 8, 9, 10, 1, 2, 3, 4, 6, 7, 9, 1, 3, 4, 5, 6, 7, 8, 9, 10, 6, 10, 1, 2, 3, 4, 5, 6, 7, 8, 9, 10, 6, 1, 2, 3, 4, 5, 6, 7, 8, 9, 10, 1, 2, 3, 4, 5, 6, 7, 8, 9, 10, 1, 2, 3, 4, 5, 6, 7, 8, 9, 10, 2, 10, 1, 2, 3, 4, 5, 6, 7, 8, 9, 10, 1, 2, 3, 4, 5, 6, 7, 8, 9, 10, 1, 2, 3, 4, 5, 6, 7, 8, 9, 10, 1, 2, 3, 4, 5, 6, 7, 8, 9, 10, 1, 2, 3, 4, 5, 6, 7, 8, 9, 10, 1, 2, 3, 4, 5, 6, 7, 8, 9, 10, 1, 2, 3, 4, 5, 6, 7, 8, 9, 10, 1, 2, 3, 4, 5, 6, 7, 8, 9, 10, 1, 2, 3, 4, 5, 6, 7, 8, 9, 10, 4, 3, 5, 1, 2, 3, 4, 5, 6, 7, 8, 9, 10, 8, 5, 1, 2, 3, 4, 5, 6, 7, 8, 9, 10, 1, 2, 3, 4, 5, 6, 7, 8, 9, 10, 1, 2, 3, 4, 5, 6, 7, 8, 9, 10, 1, 2, 3, 4, 5, 6, 7, 8, 9, 10, 9, 7, 1, 2, 3, 4, 5, 6, 7, 8, 9, 10, 1, 2, 3, 4, 8, 3, 1, 2, 3, 4, 5, 6, 7, 8, 9, 10, 1, 2, 3, 4, 5, 6, 7, 8, 9, 10, 1, 2, 3, 4, 5, 6, 7, 8, 9, 10, 1, 2, 3, 4, 5, 6, 7, 8, 9, 10, 1, 2, 3, 4, 5, 6, 7, 8, 9, 10, 1, 2, 3, 4, 5, 6, 7, 8, 9, 10, 1, 2, 3, 4, 5, 6, 7, 8, 9, 10, 1, 4, 5, 8, 1, 2, 3, 4, 5, 6, 7, 8, 9, 10, 1, 2, 3, 4, 5, 6, 7, 8, 9, 10, 4, 9, 10, 1, 2, 3, 4, 5, 6, 7, 8, 9, 10, 8, 10, 1, 2, 6, 9, 1, 2, 3, 4, 5, 6, 7, 8, 9, 10, 1, 2, 3, 4, 5, 6, 7, 8, 9, 10, 1, 2, 3, 4, 5, 6, 7, 8, 9, 10, 1, 2, 3, 4, 5, 6, 7, 8, 9, 10, 3, 5, 8, 9, 1, 2, 3, 4, 5, 6, 7, 8, 9, 10, 1, 2, 3, 4, 5, 6, 7, 8, 9, 10, 1, 2, 3, 4, 5, 6, 7, 8, 9, 10, 1, 2, 3, 4, 5, 6, 7, 8, 9, 10, 1, 2, 3, 4, 5, 6, 7, 8, 9, 10, 4, 1, 2, 3, 4, 5, 6, 7, 8, 9, 10, 4, 5, 8, 1, 2, 3, 4, 5, 6, 7, 8, 9, 10, 9, 1, 2, 3, 4, 5, 6, 7, 8, 9, 10, 1, 2, 3, 4, 5, 6, 7, 8, 9, 10, 2, 3, 10, 7, 1, 3, 4, 6, 7, 9, 1, 2, 3, 4, 5, 6, 7, 8, 9, 10, 2, 2, 9, 1, 2, 3, 4, 5, 6, 7, 8, 9, 10, 1, 2, 3, 4, 5, 6, 7, 8, 9, 10, 1, 2, 3, 4, 5, 6, 7, 8, 9, 10, 7, 1, 2, 3, 4, 5, 6, 7, 8, 9, 10, 1, 2, 3, 4, 5, 6, 7, 8, 9, 10, 1, 2, 3, 4, 5, 6, 7, 8, 9, 10, 1, 2, 3, 4, 5, 6, 7, 8, 9, 10, 3, 1, 2, 3, 4, 5, 6, 7, 8, 9, 10, 1, 2, 3, 4, 5, 6, 7, 8, 9, 10, 1, 2, 3, 4, 5, 6, 7, 8, 9, 10, 1, 2, 3, 4, 5, 6, 7, 8, 9, 10, 2, 5, 8, 10, 1, 2, 3, 4, 5, 6, 7, 8, 9, 10, 1, 2, 3, 4, 5, 6, 7, 8, 9, 10, 1, 2, 3, 4, 5, 6, 7, 8, 9, 10, 1, 2, 3, 4, 5, 6, 7, 8, 10, 4], \"Freq\": [0.11951275914907455, 0.0635218545794487, 0.09790223836898804, 0.08284035325050354, 0.08971642702817917, 0.1178755983710289, 0.07661914080381393, 0.0844775140285492, 0.11099952459335327, 0.15651260316371918, 0.0695156455039978, 0.12395118176937103, 0.10188271850347519, 0.09440396726131439, 0.09857245534658432, 0.14197374880313873, 0.09538478404283524, 0.12076351791620255, 0.08545397967100143, 0.06816701591014862, 0.11230382323265076, 0.10597991943359375, 0.12567852437496185, 0.15235522389411926, 0.11484792083501816, 0.05902310833334923, 0.1133214607834816, 0.08926154673099518, 0.05102736875414848, 0.07617761194705963, 0.13933447003364563, 0.06782174110412598, 0.06366939097642899, 0.09089036285877228, 0.08904486894607544, 0.15271426737308502, 0.0918131098151207, 0.08673801273107529, 0.13472074270248413, 0.08350840210914612, 0.3231491446495056, 0.3231491446495056, 0.3231491446495056, 0.26579365134239197, 0.11176291853189468, 0.10996028780937195, 0.07571036368608475, 0.09553926438093185, 0.0883287563920021, 0.12798656523227692, 0.08652612566947937, 0.10094714909791946, 0.07931561768054962, 0.1225786805152893, 0.19120684266090393, 0.19120684266090393, 0.19120684266090393, 0.3239705264568329, 0.08621808141469955, 0.09899113327264786, 0.10218439251184464, 0.10218439251184464, 0.09899113327264786, 0.0926046073436737, 0.1468900740146637, 0.08621808141469955, 0.12134397029876709, 0.06386524438858032, 0.1236429288983345, 0.09199034422636032, 0.07319661229848862, 0.10880578309297562, 0.09100119769573212, 0.11770807206630707, 0.13551265001296997, 0.0870446264743805, 0.06330518424510956, 0.10880578309297562, 0.11589011549949646, 0.08844245225191116, 0.0823429748415947, 0.09149219840765, 0.09759167581796646, 0.14638751745224, 0.09759167581796646, 0.10369115322828293, 0.10979063808917999, 0.07014402002096176, 0.34049856662750244, 0.09776672720909119, 0.10591395944356918, 0.1000945121049881, 0.10242228955030441, 0.10125839710235596, 0.13850286602973938, 0.09078339487314224, 0.09427505731582642, 0.07332504540681839, 0.09543894976377487, 0.3227459192276001, 0.3229038119316101, 0.27838554978370667, 0.32409143447875977, 0.3235592246055603, 0.6187319755554199, 0.3404364287853241, 0.3224906325340271, 0.3224906325340271, 0.4389413893222809, 0.2673715054988861, 0.2673715054988861, 0.2270907312631607, 0.2270907312631607, 0.1914888173341751, 0.1914888173341751, 0.1914888173341751, 0.32334670424461365, 0.20027779042720795, 0.10013889521360397, 0.10013889521360397, 0.10013889521360397, 0.10013889521360397, 0.10013889521360397, 0.10013889521360397, 0.10013889521360397, 0.10013889521360397, 0.10013889521360397, 0.3231681287288666, 0.3231681287288666, 0.17003783583641052, 0.17003783583641052, 0.17003783583641052, 0.17003783583641052, 0.17003783583641052, 0.3232327103614807, 0.13588842749595642, 0.13588842749595642, 0.13588842749595642, 0.13588842749595642, 0.13588842749595642, 0.13588842749595642, 0.2665000855922699, 0.2665000855922699, 0.323945015668869, 0.38454583287239075, 0.19227291643619537, 0.19227291643619537, 0.2783198952674866, 0.3233652114868164, 0.3233652114868164, 0.3233652114868164, 0.32402145862579346, 0.32227399945259094, 0.09453098475933075, 0.09453098475933075, 0.09453098475933075, 0.06302065402269363, 0.15755164623260498, 0.09453098475933075, 0.09453098475933075, 0.09453098475933075, 0.06302065402269363, 0.15755164623260498, 0.19114600121974945, 0.19114600121974945, 0.19114600121974945, 0.19114600121974945, 0.32341694831848145, 0.15659193694591522, 0.15659193694591522, 0.15659193694591522, 0.15659193694591522, 0.15659193694591522, 0.15659193694591522, 0.15659193694591522, 0.15659193694591522, 0.32305917143821716, 0.3228139281272888, 0.3233950138092041, 0.32354018092155457, 0.32354018092155457, 0.3227572441101074, 0.32357853651046753, 0.26588767766952515, 0.26588767766952515, 0.26588767766952515, 0.3239433765411377, 0.3223237991333008, 0.3223237991333008, 0.3237088620662689, 0.3237088620662689, 0.3236691355705261, 0.3236691355705261, 0.14485807716846466, 0.14485807716846466, 0.14485807716846466, 0.14485807716846466, 0.14485807716846466, 0.14485807716846466, 0.14485807716846466, 0.14485807716846466, 0.08943640440702438, 0.08943640440702438, 0.08943640440702438, 0.08943640440702438, 0.08943640440702438, 0.08943640440702438, 0.08943640440702438, 0.08943640440702438, 0.08943640440702438, 0.17887280881404877, 0.1567355990409851, 0.1567355990409851, 0.1567355990409851, 0.1567355990409851, 0.1567355990409851, 0.1567355990409851, 0.3236255645751953, 0.2665250301361084, 0.22637732326984406, 0.22637732326984406, 0.4408217966556549, 0.3239176571369171, 0.2778084874153137, 0.323589563369751, 0.13610371947288513, 0.13610371947288513, 0.13610371947288513, 0.13610371947288513, 0.27220743894577026, 0.13610371947288513, 0.13610371947288513, 0.13610371947288513, 0.3239273130893707, 0.3239273130893707, 0.3414919078350067, 0.19168739020824432, 0.19168739020824432, 0.19168739020824432, 0.19168739020824432, 0.3236373960971832, 0.3236373960971832, 0.32324811816215515, 0.32324811816215515, 0.13901276886463165, 0.13901276886463165, 0.2780255377292633, 0.13901276886463165, 0.13901276886463165, 0.13901276886463165, 0.13901276886463165, 0.22710499167442322, 0.22710499167442322, 0.3233861029148102, 0.07912652939558029, 0.07912652939558029, 0.23737959563732147, 0.07912652939558029, 0.07912652939558029, 0.07912652939558029, 0.07912652939558029, 0.15825305879116058, 0.07912652939558029, 0.07912652939558029, 0.3236113488674164, 0.3236113488674164, 0.3240005671977997, 0.3234923779964447, 0.17028020322322845, 0.17028020322322845, 0.17028020322322845, 0.17028020322322845, 0.19731217622756958, 0.19731217622756958, 0.19731217622756958, 0.19731217622756958, 0.3237469494342804, 0.5362389087677002, 0.2681194543838501, 0.3224576711654663, 0.3224576711654663, 0.10151471942663193, 0.10151471942663193, 0.10151471942663193, 0.10151471942663193, 0.10151471942663193, 0.10151471942663193, 0.10151471942663193, 0.10151471942663193, 0.10151471942663193, 0.3045441508293152, 0.19133424758911133, 0.19133424758911133, 0.19133424758911133, 0.19133424758911133, 0.3241995573043823, 0.3241995573043823, 0.323451429605484, 0.323451429605484, 0.323451429605484, 0.2669979929924011, 0.2669979929924011, 0.2669979929924011, 0.32412976026535034, 0.32412976026535034, 0.1913878321647644, 0.1913878321647644, 0.1913878321647644, 0.1913878321647644, 0.055349551141262054, 0.11069910228252411, 0.11069910228252411, 0.055349551141262054, 0.22139820456504822, 0.055349551141262054, 0.055349551141262054, 0.11069910228252411, 0.055349551141262054, 0.16604866087436676, 0.3414049446582794, 0.323653906583786, 0.323653906583786, 0.1743955761194229, 0.1743955761194229, 0.1743955761194229, 0.1743955761194229, 0.1743955761194229, 0.278165340423584, 0.278165340423584, 0.3234686553478241, 0.1920701265335083, 0.1920701265335083, 0.1920701265335083, 0.34043747186660767, 0.43943753838539124, 0.32403796911239624, 0.2670446038246155, 0.2670446038246155, 0.2670446038246155, 0.12451811134815216, 0.12451811134815216, 0.12451811134815216, 0.12451811134815216, 0.12451811134815216, 0.12451811134815216, 0.12451811134815216, 0.12451811134815216, 0.12451811134815216, 0.24903622269630432, 0.32368534803390503, 0.32368534803390503, 0.07090948522090912, 0.07090948522090912, 0.07090948522090912, 0.14181897044181824, 0.21272845566272736, 0.07090948522090912, 0.07090948522090912, 0.07090948522090912, 0.07090948522090912, 0.07090948522090912, 0.26681390404701233, 0.26681390404701233, 0.14192548394203186, 0.14192548394203186, 0.14192548394203186, 0.14192548394203186, 0.14192548394203186, 0.14192548394203186, 0.22682633996009827, 0.22682633996009827, 0.22682633996009827, 0.042543359100818634, 0.08508671820163727, 0.08508671820163727, 0.08508671820163727, 0.08508671820163727, 0.1276300698518753, 0.21271678805351257, 0.08508671820163727, 0.08508671820163727, 0.08508671820163727, 0.19101542234420776, 0.19101542234420776, 0.19101542234420776, 0.19101542234420776, 0.19142651557922363, 0.19142651557922363, 0.19142651557922363, 0.19142651557922363, 0.32328853011131287, 0.32389187812805176, 0.32389187812805176, 0.22622966766357422, 0.22622966766357422, 0.22622966766357422, 0.22622966766357422, 0.3229231536388397, 0.3229231536388397, 0.08753862977027893, 0.13192442059516907, 0.09740214049816132, 0.10233388841152191, 0.11959502846002579, 0.09493625909090042, 0.06534573435783386, 0.11096446216106415, 0.09370332211256027, 0.09740214049816132, 0.32411351799964905, 0.32411351799964905, 0.12441226094961166, 0.12441226094961166, 0.12441226094961166, 0.12441226094961166, 0.24882452189922333, 0.12441226094961166, 0.12441226094961166, 0.12441226094961166, 0.12441226094961166, 0.13581880927085876, 0.13581880927085876, 0.13581880927085876, 0.13581880927085876, 0.13581880927085876, 0.13581880927085876, 0.6208488345146179, 0.1910584419965744, 0.1910584419965744, 0.1910584419965744, 0.1910584419965744, 0.1910584419965744, 0.1910584419965744, 0.10347682237625122, 0.09312914311885834, 0.11641142517328262, 0.0879552960395813, 0.08536837995052338, 0.09571605920791626, 0.09054221957921982, 0.09312914311885834, 0.13193294405937195, 0.1008898988366127, 0.10546478629112244, 0.08584342896938324, 0.12018080055713654, 0.11772813647985458, 0.10055945068597794, 0.09810677915811539, 0.13734948635101318, 0.05886406823992729, 0.06867474317550659, 0.10791745781898499, 0.32293224334716797, 0.15652121603488922, 0.31304243206977844, 0.15652121603488922, 0.15652121603488922, 0.09026849269866943, 0.10574309527873993, 0.07221479713916779, 0.13411319255828857, 0.08768939226865768, 0.07995209842920303, 0.11090129613876343, 0.09542669355869293, 0.13411319255828857, 0.09026849269866943, 0.27785995602607727, 0.32330578565597534, 0.10607684403657913, 0.08455400168895721, 0.12990570068359375, 0.10684551298618317, 0.1360550820827484, 0.1006961315870285, 0.08147931098937988, 0.10453949123620987, 0.05688178539276123, 0.09300940483808517, 0.19104249775409698, 0.19104249775409698, 0.26634424924850464, 0.10399579256772995, 0.1279948204755783, 0.12266170233488083, 0.09599611908197403, 0.08799643814563751, 0.07733020931482315, 0.08532988280057907, 0.07733020931482315, 0.13599449396133423, 0.08532988280057907, 0.0930621474981308, 0.09431974589824677, 0.10312291979789734, 0.10815330594778061, 0.1433660089969635, 0.100607730448246, 0.09180454909801483, 0.08174377679824829, 0.11066850274801254, 0.07545579969882965, 0.43952494859695435, 0.10453366488218307, 0.09284240007400513, 0.13479341566562653, 0.10590910911560059, 0.06670898199081421, 0.12997935712337494, 0.0949055626988411, 0.10384594649076462, 0.08802834898233414, 0.07908797264099121, 0.13338293135166168, 0.08138619363307953, 0.1062541976571083, 0.06782182306051254, 0.13564364612102509, 0.09947200864553452, 0.09268982708454132, 0.09947200864553452, 0.09042910486459732, 0.09268982708454132, 0.09561550617218018, 0.07266778498888016, 0.07266778498888016, 0.1223878487944603, 0.10708937048912048, 0.08414164185523987, 0.10708937048912048, 0.09944012761116028, 0.10708937048912048, 0.13386170566082, 0.1252945512533188, 0.0788891613483429, 0.09745131433010101, 0.09745131433010101, 0.09745131433010101, 0.10209185630083084, 0.08352969586849213, 0.07424861937761307, 0.14849723875522614, 0.09745131433010101, 0.12080545723438263, 0.1436605453491211, 0.060402728617191315, 0.13223299384117126, 0.09468536078929901, 0.11264292895793915, 0.08815532922744751, 0.07836029678583145, 0.09305284917354584, 0.07836029678583145, 0.26609066128730774, 0.26609066128730774, 0.09948576986789703, 0.12074340879917145, 0.11394096910953522, 0.09183301776647568, 0.0986354649066925, 0.11564157903194427, 0.1105397418141365, 0.06887476146221161, 0.10203668475151062, 0.0773778185248375, 0.22691506147384644, 0.22731001675128937, 0.22731001675128937, 0.08104360103607178, 0.1050565168261528, 0.1010543629527092, 0.06403444707393646, 0.11406136304140091, 0.11706297844648361, 0.12506727874279022, 0.06703606247901917, 0.11406136304140091, 0.11206028610467911, 0.3239246904850006, 0.3239246904850006, 0.32407644391059875, 0.08353409171104431, 0.129941925406456, 0.10673800855875015, 0.15778662264347076, 0.10209722816944122, 0.11601957678794861, 0.06961174309253693, 0.07889331132173538, 0.06961174309253693, 0.08353409171104431, 0.3239147365093231, 0.3239147365093231, 0.0827345922589302, 0.09733480960130692, 0.09246806800365448, 0.11193503439426422, 0.11193503439426422, 0.10220155119895935, 0.07300110906362534, 0.17033591866493225, 0.08760132640600204, 0.07786785066127777, 0.32244637608528137, 0.32244637608528137, 0.32244637608528137, 0.32386383414268494, 0.32386383414268494, 0.07308422774076462, 0.09517946094274521, 0.15296699106693268, 0.1308717578649521, 0.08498165756464005, 0.10197798907756805, 0.10367762297391891, 0.08158238977193832, 0.10197798907756805, 0.07308422774076462, 0.4400903880596161, 0.11049088090658188, 0.0783226490020752, 0.09370745718479156, 0.10209916532039642, 0.12587568163871765, 0.06993093341588974, 0.10349778085947037, 0.10629501938819885, 0.09370745718479156, 0.11468673497438431, 0.11596416682004929, 0.05798208341002464, 0.09277132898569107, 0.17394624650478363, 0.15075340867042542, 0.11596416682004929, 0.08117491751909256, 0.06957849860191345, 0.06957849860191345, 0.06957849860191345, 0.1358679234981537, 0.1358679234981537, 0.1358679234981537, 0.1358679234981537, 0.1358679234981537, 0.1358679234981537, 0.1358679234981537, 0.1358679234981537, 0.1358679234981537, 0.0949198380112648, 0.0949198380112648, 0.0949198380112648, 0.0949198380112648, 0.0949198380112648, 0.0949198380112648, 0.0949198380112648, 0.0949198380112648, 0.1898396760225296, 0.0949198380112648, 0.1370031088590622, 0.08486918359994888, 0.0860816016793251, 0.11881686002016068, 0.09820577502250671, 0.09335610270500183, 0.08971885591745377, 0.10790510475635529, 0.08971885591745377, 0.09578093886375427, 0.09884567558765411, 0.04942283779382706, 0.04942283779382706, 0.09884567558765411, 0.09884567558765411, 0.19769135117530823, 0.09884567558765411, 0.09884567558765411, 0.09884567558765411, 0.09884567558765411, 0.3236417770385742, 0.3236417770385742, 0.26719599962234497, 0.26719599962234497, 0.26719599962234497, 0.20646783709526062, 0.10323391854763031, 0.10323391854763031, 0.06882260739803314, 0.10323391854763031, 0.06882260739803314, 0.10323391854763031, 0.10323391854763031, 0.06882260739803314, 0.10323391854763031, 0.10007033497095108, 0.12281359732151031, 0.09097303450107574, 0.07277842611074448, 0.12281359732151031, 0.10461898893117905, 0.07505275309085846, 0.14783118665218353, 0.08187572658061981, 0.08642438054084778, 0.08031750470399857, 0.10280640423297882, 0.1044127568602562, 0.06746670603752136, 0.12208260595798492, 0.09638100862503052, 0.16706040501594543, 0.07389210164546967, 0.10120005905628204, 0.08674290776252747, 0.323213130235672, 0.323213130235672, 0.09883898496627808, 0.16604949533939362, 0.10872288793325424, 0.10872288793325424, 0.08895508944988251, 0.06918729096651077, 0.06325694918632507, 0.09686220437288284, 0.10279254615306854, 0.10081576555967331, 0.33989664912223816, 0.3240150511264801, 0.3240150511264801, 0.4396285116672516, 0.22648674249649048, 0.22648674249649048, 0.22648674249649048, 0.0907650962471962, 0.09962023049592972, 0.12839940190315247, 0.09519266337156296, 0.09297887980937958, 0.10294090211391449, 0.0896582081913948, 0.10847535729408264, 0.09740644693374634, 0.09297887980937958, 0.11899297684431076, 0.0743706151843071, 0.12981052696704865, 0.05949648842215538, 0.1122320145368576, 0.12981052696704865, 0.10817543417215347, 0.08383595943450928, 0.09330131113529205, 0.09059692919254303, 0.10535813868045807, 0.10535813868045807, 0.10535813868045807, 0.10535813868045807, 0.10535813868045807, 0.10535813868045807, 0.21071627736091614, 0.10535813868045807, 0.10535813868045807, 0.115340456366539, 0.09210021793842316, 0.1420236974954605, 0.09640396386384964, 0.11103671044111252, 0.10328996181488037, 0.09898621588945389, 0.09123946726322174, 0.09640396386384964, 0.054227229207754135, 0.09021944552659988, 0.08327948302030563, 0.1596190184354782, 0.08327948302030563, 0.1179792732000351, 0.09021944552659988, 0.09715940058231354, 0.062459614127874374, 0.09715940058231354, 0.1179792732000351, 0.3241172134876251, 0.11106385290622711, 0.10870078951120377, 0.1299683302640915, 0.08625171333551407, 0.1027931421995163, 0.08388865739107132, 0.1157899722456932, 0.0803440660238266, 0.06734722852706909, 0.11342690885066986, 0.11582589894533157, 0.09232499450445175, 0.11246863007545471, 0.08561044931411743, 0.06378817558288574, 0.08561044931411743, 0.14771999418735504, 0.14436271786689758, 0.08225317299365997, 0.06882408261299133, 0.10121386498212814, 0.07739883661270142, 0.10121386498212814, 0.10121386498212814, 0.11312137544155121, 0.10716761648654938, 0.16075143218040466, 0.08930634707212448, 0.07144507765769958, 0.08335259556770325, 0.11512160301208496, 0.11005838215351105, 0.09513521194458008, 0.08873956650495529, 0.12018482387065887, 0.10792650282382965, 0.11538808792829514, 0.06182456389069557, 0.09087145328521729, 0.09513521194458008, 0.07420177757740021, 0.11130267381668091, 0.07420177757740021, 0.11130267381668091, 0.11130267381668091, 0.07420177757740021, 0.18550445139408112, 0.07420177757740021, 0.07420177757740021, 0.07420177757740021, 0.09079249203205109, 0.09079249203205109, 0.11349061131477356, 0.06809436529874802, 0.18158498406410217, 0.09079249203205109, 0.11349061131477356, 0.09079249203205109, 0.09079249203205109, 0.09079249203205109, 0.10049856454133987, 0.10822921991348267, 0.09019102156162262, 0.06957592815160751, 0.10049856454133987, 0.11595988273620605, 0.09792167693376541, 0.09534478932619095, 0.09276790171861649, 0.13142119348049164, 0.3246273100376129, 0.3246273100376129, 0.32399412989616394, 0.19128946959972382, 0.19128946959972382, 0.19128946959972382, 0.19128946959972382, 0.11110300570726395, 0.09896570444107056, 0.10736845433712006, 0.10643481463193893, 0.10270025581121445, 0.12417394667863846, 0.08776203542947769, 0.07469109445810318, 0.08309384435415268, 0.10456753522157669, 0.10206925123929977, 0.14716961979866028, 0.10919036716222763, 0.10206925123929977, 0.07358480989933014, 0.09020073711872101, 0.09969554841518402, 0.0854533314704895, 0.10681666433811188, 0.08782703429460526, 0.3238297700881958, 0.3238297700881958, 0.3238777220249176, 0.11380708962678909, 0.11860617995262146, 0.08844044804573059, 0.12546202540397644, 0.09529629349708557, 0.11106474697589874, 0.07267199456691742, 0.12683320045471191, 0.09598188102245331, 0.05210445076227188, 0.08424342423677444, 0.1087011992931366, 0.05978565663099289, 0.14946414530277252, 0.105983667075634, 0.07337331026792526, 0.14946414530277252, 0.12500637769699097, 0.06793824583292007, 0.07609083503484726, 0.11087280511856079, 0.1290757954120636, 0.10094389319419861, 0.07943125814199448, 0.06288307905197144, 0.10921798646450043, 0.07943125814199448, 0.13900470733642578, 0.09101498872041702, 0.09928907454013824, 0.08318967372179031, 0.06932473182678223, 0.11091956496238708, 0.06932473182678223, 0.16637934744358063, 0.13864946365356445, 0.08318967372179031, 0.11091956496238708, 0.097054623067379, 0.06932473182678223, 0.10663825273513794, 0.11451087892055511, 0.0815889984369278, 0.10091271251440048, 0.06799083203077316, 0.1238148882985115, 0.1030597910284996, 0.11665795743465424, 0.09375578165054321, 0.09160870313644409, 0.06372915208339691, 0.10791469365358353, 0.08752136677503586, 0.09941747784614563, 0.14105385541915894, 0.10451580584049225, 0.12660858035087585, 0.09686830639839172, 0.08497220277786255, 0.08752136677503586, 0.3234133720397949, 0.26634442806243896, 0.26634442806243896, 0.1279328167438507, 0.09341125935316086, 0.09138058125972748, 0.10153397917747498, 0.08325786143541336, 0.10153397917747498, 0.07716582715511322, 0.08122718334197998, 0.10356465727090836, 0.140116885304451, 0.11444519460201263, 0.08803476393222809, 0.10564171522855759, 0.08803476393222809, 0.15846256911754608, 0.10564171522855759, 0.12324866652488708, 0.08803476393222809, 0.06162433326244354, 0.06162433326244354, 0.5336986780166626, 0.09786932915449142, 0.13642391562461853, 0.11418087780475616, 0.11418087780475616, 0.07710916548967361, 0.10973227769136429, 0.09342072159051895, 0.10380080342292786, 0.08155777305364609, 0.0741434320807457, 0.3237297236919403, 0.1527855098247528, 0.1527855098247528, 0.1527855098247528, 0.1527855098247528, 0.1527855098247528, 0.1527855098247528, 0.15791954100131989, 0.08071443438529968, 0.10177037119865417, 0.08071443438529968, 0.08422375470399857, 0.09475172311067581, 0.06316781789064407, 0.12633563578128815, 0.10177037119865417, 0.10177037119865417, 0.08780156075954437, 0.10097179561853409, 0.1375557780265808, 0.08487484604120255, 0.0907282829284668, 0.10682523250579834, 0.12292218953371048, 0.09219164401292801, 0.10828859359025955, 0.06731453537940979, 0.10984271764755249, 0.07880020886659622, 0.08954569697380066, 0.09670934826135635, 0.1396912783384323, 0.11461848765611649, 0.10148511826992035, 0.10984271764755249, 0.07880020886659622, 0.07880020886659622, 0.32350248098373413, 0.32391536235809326, 0.32391536235809326, 0.1526145488023758, 0.1526145488023758, 0.1526145488023758, 0.1526145488023758, 0.1526145488023758, 0.1526145488023758, 0.09023856371641159, 0.09023856371641159, 0.09023856371641159, 0.09023856371641159, 0.09023856371641159, 0.09023856371641159, 0.18047712743282318, 0.1353578418493271, 0.09023856371641159, 0.045119281858205795, 0.20343467593193054, 0.10171733796596527, 0.10171733796596527, 0.10171733796596527, 0.10171733796596527, 0.10171733796596527, 0.10171733796596527, 0.10171733796596527, 0.10171733796596527, 0.10171733796596527, 0.09024598449468613, 0.12399651855230331, 0.10198529809713364, 0.08511003106832504, 0.09611564129590988, 0.10418642312288284, 0.12546393275260925, 0.07116959989070892, 0.09905046969652176, 0.10125159472227097, 0.34055614471435547, 0.11467281728982925, 0.11668462306261063, 0.10327259451150894, 0.0992489904165268, 0.08315455913543701, 0.15289708971977234, 0.09522537887096405, 0.09254297614097595, 0.08114275336265564, 0.061695314943790436, 0.10951472818851471, 0.0979868620634079, 0.1368934065103531, 0.07493112981319427, 0.09942784905433655, 0.13545243442058563, 0.06340326368808746, 0.09078194946050644, 0.10230981558561325, 0.08789998292922974, 0.09584997594356537, 0.09238551557064056, 0.08199214935302734, 0.1131722629070282, 0.1108626201748848, 0.06928914040327072, 0.1143270805478096, 0.1097078025341034, 0.09931442886590958, 0.1131722629070282, 0.07166719436645508, 0.12285804748535156, 0.16381072998046875, 0.07166719436645508, 0.10238170623779297, 0.10750079154968262, 0.08702445030212402, 0.08190536499023438, 0.11261987686157227, 0.07166719436645508, 0.6197602152824402, 0.1215914934873581, 0.09976737946271896, 0.09041418880224228, 0.09976737946271896, 0.09820851683616638, 0.08573759347200394, 0.15588653087615967, 0.08261986076831818, 0.07014893740415573, 0.0966496467590332, 0.08167734742164612, 0.1270536482334137, 0.08349239826202393, 0.08530744910240173, 0.11434828490018845, 0.14701922237873077, 0.11434828490018845, 0.08712249994277954, 0.0762321874499321, 0.08349239826202393, 0.0764697790145874, 0.09558722376823425, 0.07717783004045486, 0.127449631690979, 0.11045634746551514, 0.09912749379873276, 0.1309898942708969, 0.08071810007095337, 0.11258050799369812, 0.08992279320955276, 0.2667568027973175, 0.1198892667889595, 0.1573546677827835, 0.0824238732457161, 0.09741003066301346, 0.10490310937166214, 0.08991695195436478, 0.07867733389139175, 0.07867733389139175, 0.09366349130868912, 0.09366349130868912, 0.09201209247112274, 0.10767372697591782, 0.08809668570756912, 0.06656193733215332, 0.12920847535133362, 0.09396979957818985, 0.08809668570756912, 0.10180061310529709, 0.08613897860050201, 0.1448701024055481, 0.44005730748176575, 0.11873840540647507, 0.10856083035469055, 0.11364961415529251, 0.11534588038921356, 0.1068645641207695, 0.08650940656661987, 0.07972435653209686, 0.13230851292610168, 0.0678505152463913, 0.06954678148031235, 0.278190553188324, 0.09983701258897781, 0.12232282757759094, 0.09803814440965652, 0.0917421206831932, 0.09803814440965652, 0.08094892650842667, 0.09533984959125519, 0.11512736231088638, 0.09623928368091583, 0.10253530740737915, 0.09864422678947449, 0.15705199539661407, 0.07528112083673477, 0.11876245588064194, 0.0915054976940155, 0.09215447306632996, 0.09669730067253113, 0.1025380790233612, 0.09085652232170105, 0.07657907158136368, 0.2667657434940338, 0.2667657434940338, 0.08383101224899292, 0.10059721767902374, 0.10618595033884048, 0.07544790953397751, 0.11177468299865723, 0.09780284762382507, 0.08941974490880966, 0.14810144901275635, 0.08662538230419159, 0.10059721767902374, 0.10415452718734741, 0.09443343430757523, 0.0985996201634407, 0.10137706995010376, 0.09165598452091217, 0.08332362025976181, 0.08193489164113998, 0.10693197697401047, 0.10137706995010376, 0.1347065269947052, 0.2300996631383896, 0.1150498315691948, 0.1150498315691948, 0.0575249157845974, 0.1150498315691948, 0.0575249157845974, 0.0575249157845974, 0.1150498315691948, 0.0575249157845974, 0.0575249157845974, 0.12465934455394745, 0.07342948019504547, 0.11910944432020187, 0.12337859719991684, 0.10288665443658829, 0.108223095536232, 0.07897938042879105, 0.09498871117830276, 0.08474273979663849, 0.08965227007865906, 0.267343670129776, 0.267343670129776, 0.1119309812784195, 0.14924129843711853, 0.07995069772005081, 0.1048242524266243, 0.11726102232933044, 0.09594083577394485, 0.07462064921855927, 0.08883410692214966, 0.08172737807035446, 0.09594083577394485, 0.10439488291740417, 0.12307607382535934, 0.1142849251627922, 0.08901037275791168, 0.0999993085861206, 0.08351590484380722, 0.15164729952812195, 0.0714280754327774, 0.09010926634073257, 0.0714280754327774, 0.09827488660812378, 0.10501924157142639, 0.10501924157142639, 0.09249401092529297, 0.1127270758152008, 0.12717926502227783, 0.1088731586933136, 0.07707834243774414, 0.09249401092529297, 0.07900530099868774, 0.11273473501205444, 0.08158434927463531, 0.10160959511995316, 0.12311819940805435, 0.06526748090982437, 0.10680132359266281, 0.08974277973175049, 0.10902635753154755, 0.08603440225124359, 0.12237652391195297, 0.19161900877952576, 0.19161900877952576, 0.19161900877952576, 0.19161900877952576, 0.19161900877952576, 0.32277625799179077, 0.10619698464870453, 0.11209681630134583, 0.08751418441534042, 0.11111351102590561, 0.09341401606798172, 0.0983305424451828, 0.09439732134342194, 0.08161435276269913, 0.12389647960662842, 0.09144740551710129, 0.15760059654712677, 0.11246951669454575, 0.09312762320041656, 0.0988585501909256, 0.09276943653821945, 0.11927499622106552, 0.1038731187582016, 0.08811306208372116, 0.06304023414850235, 0.07127845287322998, 0.08485745638608932, 0.08894697576761246, 0.09917076677083969, 0.10428266227245331, 0.10121552646160126, 0.10632741451263428, 0.10121552646160126, 0.09917076677083969, 0.10223790258169174, 0.11348406970500946, 0.43977293372154236, 0.09922195225954056, 0.14714547991752625, 0.12858355045318604, 0.05804821848869324, 0.10090940445661545, 0.09652203321456909, 0.10968413203954697, 0.08167248964309692, 0.08470989763736725, 0.09348463267087936, 0.3238489031791687, 0.3238489031791687, 0.10061623156070709, 0.1307847946882248, 0.07925362884998322, 0.10159467160701752, 0.09539788216352463, 0.09507174044847488, 0.12148961424827576, 0.09213642030954361, 0.06898000836372375, 0.11447746306657791, 0.1704988330602646, 0.07893464714288712, 0.08889255672693253, 0.12022353708744049, 0.12240942567586899, 0.05707582086324692, 0.10103634744882584, 0.1061367392539978, 0.07869177311658859, 0.07577726244926453, 0.13865302503108978, 0.13865302503108978, 0.13865302503108978, 0.13865302503108978, 0.13865302503108978, 0.13865302503108978, 0.13865302503108978, 0.13865302503108978, 0.13865302503108978, 0.15451887249946594, 0.09405495971441269, 0.110850490629673, 0.09069585800170898, 0.08733674883842468, 0.08733674883842468, 0.09741406887769699, 0.10077317804098129, 0.07390032708644867, 0.104132279753685, 0.2722424268722534, 0.1361212134361267, 0.1361212134361267, 0.1361212134361267, 0.1361212134361267, 0.1361212134361267, 0.1361212134361267, 0.1361212134361267, 0.10847242176532745, 0.08201573044061661, 0.11905509978532791, 0.08730707317590714, 0.08466140180826187, 0.14551179111003876, 0.08730707317590714, 0.08201573044061661, 0.10053541511297226, 0.10318108648061752, 0.27818769216537476, 0.27818769216537476, 0.12437039613723755, 0.157291978597641, 0.09876472502946854, 0.12071244418621063, 0.08413291722536087, 0.08413291722536087, 0.08047496527433395, 0.06950110197067261, 0.08047496527433395, 0.10608062893152237, 0.08214272558689117, 0.1383456438779831, 0.0951126366853714, 0.06629062443971634, 0.08646602928638458, 0.08790712803602219, 0.11672914028167725, 0.1441100537776947, 0.10087703913450241, 0.08358383178710938, 0.10165737569332123, 0.09318593144416809, 0.1440146118402481, 0.08471447974443436, 0.07624303549528122, 0.06777158379554749, 0.11012882739305496, 0.09318593144416809, 0.08471447974443436, 0.1440146118402481, 0.10615870356559753, 0.10937563329935074, 0.10615870356559753, 0.10937563329935074, 0.09007404744625092, 0.0804232582449913, 0.0804232582449913, 0.1608465164899826, 0.06755553930997849, 0.0836401879787445, 0.07238946110010147, 0.11482466012239456, 0.09235896915197372, 0.10733609646558762, 0.13978654146194458, 0.08487039804458618, 0.13479416072368622, 0.0823742151260376, 0.07488565146923065, 0.09485515207052231, 0.09103468805551529, 0.15172447264194489, 0.10241401940584183, 0.08155190944671631, 0.13086235523223877, 0.05310356616973877, 0.10051746666431427, 0.09862091392278671, 0.07017257064580917, 0.11948302388191223, 0.323808491230011, 0.07465986907482147, 0.09812439978122711, 0.11092323809862137, 0.11518951505422592, 0.08745870739221573, 0.09385812282562256, 0.0725267305970192, 0.1173226535320282, 0.10239068418741226, 0.12798835337162018, 0.1482371687889099, 0.08647167682647705, 0.13794291019439697, 0.080295130610466, 0.0844128280878067, 0.12147212028503418, 0.08235397934913635, 0.10088362544775009, 0.05558893457055092, 0.10294247418642044, 0.07189169526100159, 0.09585559368133545, 0.10304476320743561, 0.13419783115386963, 0.1413870006799698, 0.09585559368133545, 0.08866642415523529, 0.09106281399726868, 0.08387364447116852, 0.09106281399726868, 0.19096294045448303, 0.19096294045448303, 0.19096294045448303, 0.19096294045448303, 0.09273289889097214, 0.09273289889097214, 0.1324755698442459, 0.07506948709487915, 0.09494082629680634, 0.09273289889097214, 0.10377252846956253, 0.11039631068706512, 0.06623778492212296, 0.1368914246559143, 0.3236958682537079, 0.07748065143823624, 0.08264602720737457, 0.08781140297651291, 0.10330753028392792, 0.10847290605306625, 0.15496130287647247, 0.09297677874565125, 0.09814215451478958, 0.07748065143823624, 0.10847290605306625, 0.32435721158981323, 0.1699455827474594, 0.1699455827474594, 0.1699455827474594, 0.1699455827474594, 0.1699455827474594, 0.1699455827474594, 0.32317888736724854, 0.32317888736724854, 0.32242199778556824, 0.32242199778556824, 0.32242199778556824, 0.32434919476509094, 0.1525227129459381, 0.1525227129459381, 0.1525227129459381, 0.1525227129459381, 0.1525227129459381, 0.1525227129459381, 0.1525227129459381, 0.1525227129459381, 0.12861119210720062, 0.07828507572412491, 0.07828507572412491, 0.14538656175136566, 0.12301940470933914, 0.12488333135843277, 0.0913325846195221, 0.05591791123151779, 0.10065224021673203, 0.07269328087568283, 0.138514444231987, 0.0692572221159935, 0.0692572221159935, 0.0692572221159935, 0.2077716737985611, 0.0692572221159935, 0.0692572221159935, 0.0692572221159935, 0.0692572221159935, 0.0692572221159935, 0.32441842555999756, 0.32441842555999756, 0.32301029562950134, 0.07319570332765579, 0.10646647959947586, 0.10424842685461044, 0.08206791430711746, 0.07763180881738663, 0.11312063038349152, 0.08872206509113312, 0.09094011783599854, 0.14195530116558075, 0.11755673587322235, 0.09871844947338104, 0.10362371802330017, 0.13489477336406708, 0.10975529998540878, 0.09933160990476608, 0.0876816064119339, 0.07848423719406128, 0.09933160990476608, 0.08706844598054886, 0.1011710837483406, 0.1968761831521988, 0.1968761831521988, 0.1968761831521988, 0.1968761831521988, 0.32299500703811646, 0.10807859897613525, 0.08012723922729492, 0.0894443541765213, 0.0894443541765213, 0.1267128437757492, 0.09876147657632828, 0.06894668936729431, 0.09689805656671524, 0.14907392859458923, 0.09317120909690857, 0.0922916829586029, 0.07690973579883575, 0.07690973579883575, 0.0922916829586029, 0.16920141875743866, 0.10767363011837006, 0.10767363011837006, 0.10767363011837006, 0.061527788639068604, 0.10767363011837006, 0.11268417537212372, 0.1356198936700821, 0.11667300015687943, 0.09972050786018372, 0.13163107633590698, 0.0787792056798935, 0.08177081495523453, 0.07379318028688431, 0.0787792056798935, 0.09074566513299942, 0.2347666323184967, 0.2347666323184967, 0.10093922168016434, 0.10671503841876984, 0.09901394695043564, 0.09818883240222931, 0.1122158095240593, 0.12046696990728378, 0.09516340494155884, 0.07481054216623306, 0.10533984005451202, 0.0871872827410698, 0.11316932737827301, 0.07569117844104767, 0.08010037243366241, 0.14182908833026886, 0.09920687973499298, 0.10876013338565826, 0.11169959604740143, 0.09847201406955719, 0.09479768574237823, 0.07569117844104767, 0.1307288259267807, 0.07929453253746033, 0.11572715640068054, 0.0750083401799202, 0.1242995336651802, 0.07072214782238007, 0.13930121064186096, 0.08358072489500046, 0.10286857932806015, 0.07715143263339996, 0.09356967359781265, 0.14035451412200928, 0.09356967359781265, 0.09356967359781265, 0.14035451412200928, 0.09356967359781265, 0.09356967359781265, 0.1871393471956253, 0.046784836798906326, 0.09356967359781265, 0.12477539479732513, 0.0835452675819397, 0.09982031583786011, 0.10850034654140472, 0.07920525223016739, 0.10199031978845596, 0.1269454061985016, 0.10199031978845596, 0.07703524082899094, 0.09439530223608017, 0.12941858172416687, 0.09739749133586884, 0.08272115141153336, 0.12941858172416687, 0.08538957685232162, 0.1227475181221962, 0.07871852070093155, 0.10540276020765305, 0.10006590932607651, 0.06937903165817261, 0.1183006688952446, 0.09526868164539337, 0.0779946893453598, 0.09108104556798935, 0.09265141189098358, 0.11044885218143463, 0.10521431267261505, 0.10940194875001907, 0.10521431267261505, 0.09422177076339722, 0.09688050299882889, 0.09123697876930237, 0.116632841527462, 0.09405874460935593, 0.09782109409570694, 0.08559345453977585, 0.11757342517375946, 0.11757342517375946, 0.07430640608072281, 0.10910814255475998, 0.1418163776397705, 0.13435235619544983, 0.10729528963565826, 0.09749875962734222, 0.07650620490312576, 0.10636228322982788, 0.10589578747749329, 0.0737072005867958, 0.06577667593955994, 0.09050124138593674, 0.08157561719417572, 0.09789074212312698, 0.08973318338394165, 0.1305209845304489, 0.08157561719417572, 0.11420586705207825, 0.09789074212312698, 0.07341805845499039, 0.08973318338394165, 0.14683611690998077, 0.3238307535648346, 0.34004029631614685, 0.30557867884635925, 0.15278933942317963, 0.15278933942317963, 0.15278933942317963, 0.10965242236852646, 0.12792782485485077, 0.09746882319450378, 0.17057043313980103, 0.09137701988220215, 0.0670098140835762, 0.08528521656990051, 0.09137701988220215, 0.09137701988220215, 0.07310161739587784, 0.3236982524394989, 0.11924049258232117, 0.1063496321439743, 0.10151555389165878, 0.11037802696228027, 0.09909851849079132, 0.08056790381669998, 0.08701333403587341, 0.08459629863500595, 0.12165752798318863, 0.09023605287075043, 0.11739622056484222, 0.23479244112968445, 0.11739622056484222, 0.11739622056484222, 0.11739622056484222, 0.11739622056484222, 0.11739622056484222, 0.11739622056484222, 0.11739622056484222, 0.11739622056484222, 0.3230477571487427, 0.06636443734169006, 0.18434564769268036, 0.10323356837034225, 0.11060739308595657, 0.10323356837034225, 0.08848591148853302, 0.10323356837034225, 0.08848591148853302, 0.08848591148853302, 0.0811120867729187, 0.131143718957901, 0.12818558514118195, 0.08677178621292114, 0.1035345196723938, 0.0966322124004364, 0.10057638585567474, 0.08874387294054031, 0.09367408603429794, 0.10057638585567474, 0.07099509984254837, 0.16983824968338013, 0.16983824968338013, 0.16983824968338013, 0.16983824968338013, 0.16983824968338013, 0.32269182801246643, 0.32269182801246643, 0.1426846981048584, 0.0979626327753067, 0.09157376736402512, 0.11925885826349258, 0.12138848006725311, 0.10435149818658829, 0.09583301097154617, 0.07666640728712082, 0.08092565089464188, 0.07027754187583923, 0.26624950766563416, 0.26624950766563416, 0.11260071396827698, 0.11260071396827698, 0.11260071396827698, 0.11260071396827698, 0.11260071396827698, 0.22520142793655396, 0.11260071396827698, 0.11260071396827698, 0.11260071396827698, 0.11260071396827698, 0.09661030769348145, 0.16302989423274994, 0.09283646941184998, 0.09887461364269257, 0.10793182998895645, 0.07547680288553238, 0.09359123557806015, 0.12000811845064163, 0.08679832518100739, 0.06491004675626755, 0.2776910364627838, 0.10094579309225082, 0.09528528153896332, 0.09434185922145844, 0.06981297582387924, 0.11792732775211334, 0.10660630464553833, 0.10471946746110916, 0.10188920795917511, 0.10283263027667999, 0.10660630464553833, 0.11362464725971222, 0.12054593861103058, 0.0859394520521164, 0.06229168176651001, 0.10785689204931259, 0.13784918189048767, 0.10324269533157349, 0.1124710962176323, 0.0795949250459671, 0.07786460220813751, 0.13555942475795746, 0.10242268443107605, 0.11547654867172241, 0.09438952803611755, 0.10543511062860489, 0.07029007375240326, 0.08033151179552078, 0.09639781713485718, 0.11045583337545395, 0.0903729572892189, 0.08845830708742142, 0.10968830436468124, 0.08491997420787811, 0.09553497284650803, 0.1486099511384964, 0.13799495995044708, 0.08845830708742142, 0.10261163860559464, 0.06722831726074219, 0.0743049755692482, 0.15259718894958496, 0.15259718894958496, 0.15259718894958496, 0.15259718894958496, 0.15259718894958496, 0.15259718894958496, 0.32386258244514465, 0.10258921980857849, 0.08304841816425323, 0.11398801952600479, 0.0960756167769432, 0.08956202119588852, 0.11724482476711273, 0.06513601541519165, 0.13515722751617432, 0.10584601759910583, 0.08956202119588852, 0.32380107045173645, 0.32380107045173645, 0.08293577283620834, 0.10047987848520279, 0.1291884183883667, 0.14194776117801666, 0.07655609399080276, 0.10845447331666946, 0.09410019963979721, 0.0637967512011528, 0.11004938930273056, 0.09250528365373611, 0.16031986474990845, 0.12584246695041656, 0.08274573087692261, 0.10687990486621857, 0.09136508405208588, 0.07757412642240524, 0.09998442977666855, 0.08791734278202057, 0.07757412642240524, 0.08964121341705322, 0.09818537533283234, 0.12371965497732162, 0.13679076731204987, 0.0702192634344101, 0.09301772713661194, 0.1249355748295784, 0.0902819111943245, 0.07629885524511337, 0.0753869116306305, 0.11125649511814117, 0.09880631417036057, 0.06338518112897873, 0.1621914952993393, 0.09507777541875839, 0.10253485292196274, 0.10999193787574768, 0.09694204479455948, 0.11372047662734985, 0.08575642853975296, 0.07084226608276367, 0.22746652364730835, 0.22746652364730835, 0.10292013734579086, 0.1004984900355339, 0.07507116347551346, 0.08839023858308792, 0.06659538298845291, 0.09444436430931091, 0.12592582404613495, 0.11866086721420288, 0.12471499294042587, 0.10292013734579086, 0.1749533712863922, 0.1749533712863922, 0.1749533712863922, 0.1749533712863922, 0.1749533712863922, 0.1199563592672348, 0.10184973478317261, 0.10863971710205078, 0.07468980550765991, 0.0920419842004776, 0.073935367166996, 0.073935367166996, 0.165977343916893, 0.11618414521217346, 0.0731809213757515, 0.09999185800552368, 0.09999185800552368, 0.09999185800552368, 0.19998371601104736, 0.09999185800552368, 0.09999185800552368, 0.09999185800552368, 0.09999185800552368, 0.09999185800552368, 0.09999185800552368, 0.32372844219207764, 0.3236437737941742, 0.3236437737941742, 0.0931103527545929, 0.09094499796628952, 0.10826785117387772, 0.0757874995470047, 0.09960642457008362, 0.09960642457008362, 0.08228357136249542, 0.10826785117387772, 0.13858285546302795, 0.10610249638557434, 0.08257218450307846, 0.07844357192516327, 0.07981977611780167, 0.10596763342618942, 0.10321522504091263, 0.1802825927734375, 0.116977259516716, 0.0633053407073021, 0.13211549818515778, 0.0591767318546772, 0.1270136833190918, 0.09506303817033768, 0.13924171030521393, 0.08973792940378189, 0.07238202542066574, 0.10926332324743271, 0.09920478612184525, 0.08480727672576904, 0.09013237804174423, 0.09328800439834595, 0.2262657731771469, 0.2262657731771469, 0.2262657731771469, 0.11278561502695084, 0.12531735002994537, 0.08458921313285828, 0.06579160690307617, 0.14724789559841156, 0.09398801624774933, 0.10651975125074387, 0.08458921313285828, 0.09712094813585281, 0.08772214502096176, 0.23498372733592987, 0.23498372733592987, 0.15750643610954285, 0.09000367671251297, 0.1046781837940216, 0.09293857961893082, 0.10272158682346344, 0.10859139263629913, 0.10565648972988129, 0.08119896799325943, 0.0772857666015625, 0.07924236357212067, 0.12049658596515656, 0.07619637250900269, 0.10691118985414505, 0.1577087640762329, 0.06556431949138641, 0.09746047109365463, 0.1080925241112709, 0.0832844078540802, 0.09155377745628357, 0.09332578629255295, 0.10205088555812836, 0.061230532824993134, 0.09297969937324524, 0.12019326537847519, 0.11338987201452255, 0.07030171900987625, 0.14287124574184418, 0.09297969937324524, 0.0975152924656868, 0.108854278922081, 0.058162424713373184, 0.10986235737800598, 0.12924984097480774, 0.08401239663362503, 0.1033998653292656, 0.17448727786540985, 0.08401239663362503, 0.09047488868236542, 0.09047488868236542, 0.07754990458488464, 0.25443482398986816, 0.12721741199493408, 0.12721741199493408, 0.12721741199493408, 0.12721741199493408, 0.12721741199493408, 0.12721741199493408, 0.12721741199493408, 0.13457708060741425, 0.08312114328145981, 0.08312114328145981, 0.15040968358516693, 0.11478633433580399, 0.08707928657531738, 0.11082818359136581, 0.08312114328145981, 0.08707928657531738, 0.06728854030370712, 0.12969054281711578, 0.12969054281711578, 0.12969054281711578, 0.25938108563423157, 0.12969054281711578, 0.12969054281711578, 0.12969054281711578, 0.12969054281711578, 0.12969054281711578, 0.1420353204011917, 0.1420353204011917, 0.1420353204011917, 0.1420353204011917, 0.1420353204011917, 0.1420353204011917, 0.1420353204011917, 0.1420353204011917, 0.1420353204011917, 0.17474645376205444, 0.17474645376205444, 0.17474645376205444, 0.17474645376205444, 0.17474645376205444, 0.17474645376205444, 0.10726608335971832, 0.10799578577280045, 0.08975325524806976, 0.0846453458070755, 0.1437511444091797, 0.10799578577280045, 0.07880773395299911, 0.11164429038763046, 0.07880773395299911, 0.08902355283498764, 0.14162765443325043, 0.14162765443325043, 0.14162765443325043, 0.14162765443325043, 0.14162765443325043, 0.14162765443325043, 0.14162765443325043, 0.10901036858558655, 0.10901036858558655, 0.10901036858558655, 0.10901036858558655, 0.10901036858558655, 0.2180207371711731, 0.10901036858558655, 0.10901036858558655, 0.10901036858558655, 0.3228375315666199, 0.3238697648048401, 0.11634054780006409, 0.09530023485422134, 0.10705805569887161, 0.08849307149648666, 0.08973073959350586, 0.10334505885839462, 0.09220606833696365, 0.12686069309711456, 0.08973073959350586, 0.09096840769052505, 0.2662420868873596, 0.11448725312948227, 0.09349792450666428, 0.08586543798446655, 0.11448725312948227, 0.07823295891284943, 0.101130411028862, 0.1106710135936737, 0.08968168497085571, 0.13356846570968628, 0.07823295891284943, 0.09084411710500717, 0.11166256666183472, 0.11260885745286942, 0.09841446578502655, 0.09557558596134186, 0.12301807850599289, 0.09368299692869186, 0.077596016228199, 0.11071626842021942, 0.08611265569925308, 0.10124413669109344, 0.12374283373355865, 0.07874543964862823, 0.10124413669109344, 0.17998957633972168, 0.056246742606163025, 0.06749609112739563, 0.11249348521232605, 0.07874543964862823, 0.08999478816986084, 0.32382842898368835, 0.32382842898368835, 0.09289281070232391, 0.11036770045757294, 0.10300984978675842, 0.10300984978675842, 0.0827757716178894, 0.07817711681127548, 0.16739100217819214, 0.10484930872917175, 0.06530088931322098, 0.09197308123111725, 0.11945372819900513, 0.174586221575737, 0.09188748151063919, 0.07350998371839523, 0.09188748151063919, 0.08269873261451721, 0.14701996743679047, 0.055132489651441574, 0.09188748151063919, 0.07350998371839523, 0.07405664771795273, 0.09812505543231964, 0.08886797726154327, 0.09627363830804825, 0.14626187086105347, 0.08701656013727188, 0.09997647255659103, 0.1073821410536766, 0.10367930680513382, 0.09812505543231964, 0.10899852961301804, 0.21799705922603607, 0.10899852961301804, 0.10899852961301804, 0.10899852961301804, 0.10899852961301804, 0.10899852961301804, 0.10899852961301804, 0.10899852961301804, 0.10899852961301804, 0.13592210412025452, 0.11237124353647232, 0.11775429546833038, 0.07603562623262405, 0.08949325978755951, 0.14870685338974, 0.07940004020929337, 0.08949325978755951, 0.08074580132961273, 0.0699796974658966, 0.09422091394662857, 0.10294507443904877, 0.12213822454214096, 0.13784171640872955, 0.09247608482837677, 0.08724159002304077, 0.08549675345420837, 0.07851742953062057, 0.10120024532079697, 0.09771057963371277, 0.1029781922698021, 0.09999331086874008, 0.08506894111633301, 0.11193281412124634, 0.10894794017076492, 0.08656137436628342, 0.1044706255197525, 0.09999331086874008, 0.12088743597269058, 0.07909918576478958, 0.08826373517513275, 0.12211832404136658, 0.1184910461306572, 0.14025470614433289, 0.11486376821994781, 0.08100918680429459, 0.08221827447414398, 0.07496372610330582, 0.07496372610330582, 0.10156375169754028, 0.1025916337966919, 0.09418723732233047, 0.09853433817625046, 0.10693873465061188, 0.09389743208885193, 0.08636245131492615, 0.09215858578681946, 0.13418059051036835, 0.0898401290178299, 0.10085279494524002, 0.32303646206855774, 0.32391878962516785, 0.32391878962516785, 0.08540847152471542, 0.12146982550621033, 0.08161254227161407, 0.16512304544448853, 0.09869423508644104, 0.0797145739197731, 0.10438813269138336, 0.05883694812655449, 0.08351050317287445, 0.11957185715436935, 0.2666463553905487, 0.27851083874702454, 0.0880708247423172, 0.1139049306511879, 0.08102516084909439, 0.09863932430744171, 0.08572226762771606, 0.1279962658882141, 0.10333643853664398, 0.10685926675796509, 0.09394221007823944, 0.10216215997934341, 0.08618064224720001, 0.11751905828714371, 0.09401524811983109, 0.10968445241451263, 0.08618064224720001, 0.09401524811983109, 0.07834603637456894, 0.08618064224720001, 0.16452668607234955, 0.07834603637456894, 0.13407456874847412, 0.13407456874847412, 0.20111186802387238, 0.06703728437423706, 0.06703728437423706, 0.06703728437423706, 0.06703728437423706, 0.06703728437423706, 0.06703728437423706, 0.06703728437423706, 0.09702450037002563, 0.07431663572788239, 0.08670274168252945, 0.1094106063246727, 0.08670274168252945, 0.14244022965431213, 0.11766801029443741, 0.11353930830955505, 0.0908314511179924, 0.07844533771276474, 0.32303470373153687, 0.3241628110408783, 0.09393218159675598, 0.13068825006484985, 0.08372215926647186, 0.1041421964764595, 0.08780616521835327, 0.07963815331459045, 0.1000581905245781, 0.13681426644325256, 0.08576416224241257, 0.09801618754863739, 0.19195273518562317, 0.19195273518562317, 0.19195273518562317, 0.19195273518562317, 0.19195273518562317, 0.4396045207977295, 0.08837709575891495, 0.1767541915178299, 0.1767541915178299, 0.08837709575891495, 0.08837709575891495, 0.08837709575891495, 0.08837709575891495, 0.08837709575891495, 0.08837709575891495, 0.08837709575891495, 0.09583199769258499, 0.09718174487352371, 0.11742794513702393, 0.06546270102262497, 0.08975814282894135, 0.09583199769258499, 0.10393048077821732, 0.13025052845478058, 0.07828529179096222, 0.12620128691196442, 0.10534173250198364, 0.10968572646379471, 0.09448176622390747, 0.10208374261856079, 0.10425573587417603, 0.08905177563428879, 0.08470778912305832, 0.10425573587417603, 0.11945970356464386, 0.08687978237867355, 0.1125195175409317, 0.0840507298707962, 0.09218467026948929, 0.09896295517683029, 0.08133941143751144, 0.13692134618759155, 0.08811769634485245, 0.09625163674354553, 0.10845255106687546, 0.10031861066818237, 0.0760335624217987, 0.09979404509067535, 0.08395372331142426, 0.10296211391687393, 0.10929824411869049, 0.1077142134308815, 0.10137808322906494, 0.10613017529249191, 0.12830662727355957, 0.08553775399923325, 0.08298748731613159, 0.10469190776348114, 0.09192460030317307, 0.10979882627725601, 0.14427055418491364, 0.08171075582504272, 0.06894344836473465, 0.0983082577586174, 0.11745921522378922, 0.09958498179912567, 0.09817702323198318, 0.08463536202907562, 0.11848951131105423, 0.08463536202907562, 0.11848951131105423, 0.11848951131105423, 0.14218741655349731, 0.06432287395000458, 0.08124995231628418, 0.08124995231628418, 0.19146166741847992, 0.19146166741847992, 0.19146166741847992, 0.19146166741847992, 0.07321470230817795, 0.12732991576194763, 0.13847127556800842, 0.09072256088256836, 0.09072256088256836, 0.07798957079648972, 0.10186392813920975, 0.11937179416418076, 0.10027230530977249, 0.07958119362592697, 0.07373560965061188, 0.11494079977273941, 0.11494079977273941, 0.06722952425479889, 0.08024168759584427, 0.1257842779159546, 0.11710949242115021, 0.14530251920223236, 0.0628921389579773, 0.09759124368429184, 0.16950824856758118, 0.16950824856758118, 0.16950824856758118, 0.1485034078359604, 0.1268118917942047, 0.10178323090076447, 0.09677749872207642, 0.0884346142411232, 0.1184690073132515, 0.07675457000732422, 0.0684116780757904, 0.06674310564994812, 0.10678896307945251, 0.43942540884017944, 0.27810826897621155, 0.19692492485046387, 0.19692492485046387, 0.19692492485046387, 0.19692492485046387, 0.11733856052160263, 0.10278494656085968, 0.12734417617321014, 0.08459291607141495, 0.14098820090293884, 0.06640089303255081, 0.09005052596330643, 0.10096573829650879, 0.06367208808660507, 0.10551374405622482, 0.08830688148736954, 0.08552556484937668, 0.0813535824418068, 0.10916677862405777, 0.12237804383039474, 0.14254260063171387, 0.0771816074848175, 0.06466566771268845, 0.13280798494815826, 0.0959555134177208, 0.05954805761575699, 0.11909611523151398, 0.08932208269834518, 0.08932208269834518, 0.11909611523151398, 0.08932208269834518, 0.08932208269834518, 0.08932208269834518, 0.17864416539669037, 0.11909611523151398, 0.1004488468170166, 0.09682907164096832, 0.09230434894561768, 0.07873018085956573, 0.09230434894561768, 0.09411423653364182, 0.10859335213899612, 0.12578730285167694, 0.1094982922077179, 0.1004488468170166, 0.1744825690984726, 0.1744825690984726, 0.1744825690984726, 0.1744825690984726, 0.08658605813980103, 0.09740931540727615, 0.10823256522417068, 0.18399536609649658, 0.06493954360485077, 0.09740931540727615, 0.09740931540727615, 0.08658605813980103, 0.09740931540727615, 0.08658605813980103, 0.09331478178501129, 0.09535817056894302, 0.13077692687511444, 0.12055997550487518, 0.07969218492507935, 0.12328449636697769, 0.05857716500759125, 0.09263365715742111, 0.09467704594135284, 0.1110241562128067, 0.08869482576847076, 0.1478247046470642, 0.09043394029140472, 0.07652102410793304, 0.09217305481433868, 0.09043394029140472, 0.11652065068483353, 0.10260773450136185, 0.09739039093255997, 0.0956512838602066, 0.1580664962530136, 0.11767172813415527, 0.0974743440747261, 0.07025177776813507, 0.10889025777578354, 0.11503728479146957, 0.09308360517024994, 0.1053776666522026, 0.0711299255490303, 0.06234845146536827, 0.1098022386431694, 0.1098022386431694, 0.10487521439790726, 0.09642888605594635, 0.11613698303699493, 0.073905348777771, 0.10346749424934387, 0.08657483756542206, 0.1105060949921608, 0.08939028531312943, 0.2778070271015167, 0.14094829559326172, 0.10407369583845139, 0.07835851609706879, 0.1125645563006401, 0.11862945556640625, 0.10407369583845139, 0.0989791750907898, 0.07811591774225235, 0.08709197491407394, 0.07690294086933136, 0.1744023859500885, 0.1744023859500885, 0.1744023859500885, 0.08615896850824356, 0.12163619697093964, 0.07095444947481155, 0.1114998459815979, 0.15964750945568085, 0.11403393000364304, 0.07348853349685669, 0.09882941097021103, 0.08615896850824356, 0.07602261751890182, 0.32279863953590393, 0.11390960216522217, 0.056954801082611084, 0.11390960216522217, 0.11390960216522217, 0.07593973726034164, 0.09492466598749161, 0.07593973726034164, 0.17086440324783325, 0.09492466598749161, 0.09492466598749161, 0.13854725658893585, 0.08369717001914978, 0.08938532322645187, 0.09873015433549881, 0.12026388943195343, 0.09954274445772171, 0.08532235771417618, 0.07719641923904419, 0.10563720017671585, 0.1019805297255516, 0.26681214570999146, 0.26681214570999146, 0.26681214570999146, 0.2670593857765198, 0.3238038122653961, 0.3238038122653961, 0.1697608083486557, 0.1697608083486557, 0.1697608083486557, 0.1697608083486557, 0.09701837599277496, 0.06791286170482635, 0.07761470228433609, 0.07761470228433609, 0.1067202165722847, 0.09701837599277496, 0.09701837599277496, 0.12612389028072357, 0.15522940456867218, 0.09701837599277496, 0.27822333574295044, 0.2663011848926544, 0.2663011848926544, 0.11146797239780426, 0.09607184678316116, 0.07020635157823563, 0.11146797239780426, 0.11639473587274551, 0.10777290165424347, 0.08991339057683945, 0.11516304314136505, 0.10099860280752182, 0.08005987107753754, 0.12924280762672424, 0.07108354568481445, 0.10985638946294785, 0.10016318410634995, 0.08077675849199295, 0.10016318410634995, 0.09370104223489761, 0.08077675849199295, 0.09693211317062378, 0.132473886013031, 0.11329327523708344, 0.15931867063045502, 0.10621244460344315, 0.09323092550039291, 0.08851037174463272, 0.07906926423311234, 0.10385216772556305, 0.11329327523708344, 0.08142954111099243, 0.063727468252182, 0.32328900694847107, 0.09644655138254166, 0.13411207497119904, 0.120986208319664, 0.12041551619768143, 0.07761379331350327, 0.10386551916599274, 0.0838913768529892, 0.08731551468372345, 0.09815862029790878, 0.07704310119152069, 0.09141580015420914, 0.09810476005077362, 0.080267533659935, 0.08695649355649948, 0.12263095378875732, 0.12263095378875732, 0.08472684025764465, 0.09587510675191879, 0.09364545345306396, 0.12486060708761215, 0.11213960498571396, 0.12027877569198608, 0.09947868436574936, 0.1148526594042778, 0.08048729598522186, 0.10490479320287704, 0.0832003504037857, 0.08591341227293015, 0.11756572127342224, 0.08229599893093109, 0.10968688130378723, 0.10646079480648041, 0.08710428327322006, 0.10807383805513382, 0.09033036977052689, 0.11291296035051346, 0.09678254276514053, 0.08387820422649384, 0.12420425564050674, 0.0790390744805336, 0.6197354197502136, 0.12709569931030273, 0.08288849890232086, 0.17406584322452545, 0.08012554794549942, 0.0856514498591423, 0.08841439336538315, 0.11604389548301697, 0.07459964603185654, 0.08841439336538315, 0.08012554794549942, 0.06289418041706085, 0.20126137137413025, 0.07547301799058914, 0.10063068568706512, 0.11320952326059341, 0.08805185556411743, 0.07547301799058914, 0.08805185556411743, 0.07547301799058914, 0.10063068568706512, 0.11603351682424545, 0.07977303862571716, 0.1015293225646019, 0.15471135079860687, 0.09911195933818817, 0.09427723288536072, 0.09185986965894699, 0.09185986965894699, 0.09911195933818817, 0.07010357826948166, 0.08414851874113083, 0.09116089344024658, 0.10518564283847809, 0.09817326813936234, 0.11921039968729019, 0.09116089344024658, 0.09116089344024658, 0.07713613659143448, 0.15427227318286896, 0.09116089344024658, 0.16991806030273438, 0.16991806030273438, 0.33983612060546875, 0.16991806030273438, 0.10715498775243759, 0.10305988788604736, 0.07029913365840912, 0.1481059342622757, 0.13991574943065643, 0.09691724926233292, 0.09896479547023773, 0.11261510848999023, 0.07712429016828537, 0.046411074697971344, 0.07504604011774063, 0.10944214463233948, 0.09068062901496887, 0.10631522536277771, 0.07504604011774063, 0.10006138682365417, 0.10006138682365417, 0.10006138682365417, 0.1375844031572342, 0.10631522536277771, 0.08446186780929565, 0.14076977968215942, 0.11261581629514694, 0.08654734492301941, 0.12304320931434631, 0.08967556059360504, 0.07924816757440567, 0.08446186780929565, 0.10948760062456131, 0.08967556059360504, 0.10016202926635742, 0.13354937732219696, 0.2670987546443939, 0.03338734433054924, 0.03338734433054924, 0.03338734433054924, 0.03338734433054924, 0.20032405853271484, 0.1669367104768753, 0.6177603006362915], \"Term\": [\"\\n\", \"\\n\", \"\\n\", \"\\n\", \"\\n\", \"\\n\", \"\\n\", \"\\n\", \"\\n\", \"\\n\", \"\\n\\n\", \"\\n\\n\", \"\\n\\n\", \"\\n\\n\", \"\\n\\n\", \"\\n\\n\", \"\\n\\n\", \"\\n\\n\", \"\\n\\n\", \"\\n\\n\", \" \", \" \", \" \", \" \", \" \", \" \", \" \", \" \", \" \", \" \", \"$\", \"$\", \"$\", \"$\", \"$\", \"$\", \"$\", \"$\", \"$\", \"$\", \"---food\", \"---food\", \"---food\", \"1.5hrs\", \"10\", \"10\", \"10\", \"10\", \"10\", \"10\", \"10\", \"10\", \"10\", \"10\", \"100/5\", \"100/5\", \"100/5\", \"12:45pm\", \"15\", \"15\", \"15\", \"15\", \"15\", \"15\", \"15\", \"15\", \"15\", \"15\", \"2\", \"2\", \"2\", \"2\", \"2\", \"2\", \"2\", \"2\", \"2\", \"2\", \"20\", \"20\", \"20\", \"20\", \"20\", \"20\", \"20\", \"20\", \"20\", \"20\", \"241\", \"3\", \"3\", \"3\", \"3\", \"3\", \"3\", \"3\", \"3\", \"3\", \"3\", \"3-meat\", \"3.64\", \"33\", \"7-Eleven\", \"AVEDA\", \"Aknowledgement\", \"Ana\", \"Aptive\", \"Aptive\", \"Aquarium\", \"Asparagus\", \"Asparagus\", \"Astor\", \"Astor\", \"Autopro\", \"Autopro\", \"Autopro\", \"BB\", \"Bobbie\", \"Bobbie\", \"Bobbie\", \"Bobbie\", \"Bobbie\", \"Bobbie\", \"Bobbie\", \"Bobbie\", \"Bobbie\", \"Bobbie\", \"Bold\", \"Bold\", \"Bomb\", \"Bomb\", \"Bomb\", \"Bomb\", \"Bomb\", \"Brookline\", \"Building\", \"Building\", \"Building\", \"Building\", \"Building\", \"Building\", \"Burch\", \"Burch\", \"CHOP\", \"Caliente\", \"Caliente\", \"Caliente\", \"Calvin\", \"Cary\", \"Cary\", \"Cary\", \"Chapli\", \"Char\", \"Chinese\", \"Chinese\", \"Chinese\", \"Chinese\", \"Chinese\", \"Chinese\", \"Chinese\", \"Chinese\", \"Chinese\", \"Chinese\", \"Circa\", \"Circa\", \"Circa\", \"Circa\", \"Cisco\", \"Concord\", \"Concord\", \"Concord\", \"Concord\", \"Concord\", \"Concord\", \"Concord\", \"Concord\", \"Cure\", \"Daaayyuuummm\", \"Darlene\", \"Delivary\", \"Delivary\", \"Deliverance\", \"Destini\", \"Devin\", \"Devin\", \"Devin\", \"Dippin\", \"Environmental\", \"Environmental\", \"Erika\", \"Erika\", \"Ev36\", \"Ev36\", \"FoodieCall\", \"FoodieCall\", \"FoodieCall\", \"FoodieCall\", \"FoodieCall\", \"FoodieCall\", \"FoodieCall\", \"FoodieCall\", \"Gabi\", \"Gabi\", \"Gabi\", \"Gabi\", \"Gabi\", \"Gabi\", \"Gabi\", \"Gabi\", \"Gabi\", \"Gabi\", \"Garage\", \"Garage\", \"Garage\", \"Garage\", \"Garage\", \"Garage\", \"Gavai\", \"Greens\", \"Greenway\", \"Greenway\", \"Grossman\", \"Gustav\", \"HKS\", \"Herringtonbone\", \"Hiram\", \"Hiram\", \"Hiram\", \"Hiram\", \"Hiram\", \"Hiram\", \"Hiram\", \"Hiram\", \"Huckleberry\", \"Huckleberry\", \"Hunan\", \"JDT\", \"JDT\", \"JDT\", \"JDT\", \"Jarritos\", \"Jarritos\", \"Jina\", \"Jina\", \"Kabab\", \"Kabab\", \"Kabab\", \"Kabab\", \"Kabab\", \"Kabab\", \"Kabab\", \"Kang\", \"Kang\", \"Karen\", \"Kelly\", \"Kelly\", \"Kelly\", \"Kelly\", \"Kelly\", \"Kelly\", \"Kelly\", \"Kelly\", \"Kelly\", \"Kelly\", \"Kendel\", \"Kendel\", \"Kitsch\", \"Krung\", \"Linda\", \"Linda\", \"Linda\", \"Linda\", \"Lyric\", \"Lyric\", \"Lyric\", \"Lyric\", \"MTCC\", \"Matthew\", \"Matthew\", \"Metros\", \"Metros\", \"Michelle\", \"Michelle\", \"Michelle\", \"Michelle\", \"Michelle\", \"Michelle\", \"Michelle\", \"Michelle\", \"Michelle\", \"Michelle\", \"Paperjoy\", \"Paperjoy\", \"Paperjoy\", \"Paperjoy\", \"Peggy\", \"Peggy\", \"Ppl\", \"Ppl\", \"Ppl\", \"Purolator\", \"Purolator\", \"Purolator\", \"Puzzlemaster\", \"Puzzlemaster\", \"Radisson\", \"Radisson\", \"Radisson\", \"Radisson\", \"Ray\", \"Ray\", \"Ray\", \"Ray\", \"Ray\", \"Ray\", \"Ray\", \"Ray\", \"Ray\", \"Ray\", \"Results\", \"Ricketts\", \"Ricketts\", \"Roberto\", \"Roberto\", \"Roberto\", \"Roberto\", \"Roberto\", \"Ronnie\", \"Ronnie\", \"Roomtastic\", \"Root\", \"Root\", \"Root\", \"Roy\", \"SUPER\", \"Samoa\", \"Seating\", \"Seating\", \"Seating\", \"Secret\", \"Secret\", \"Secret\", \"Secret\", \"Secret\", \"Secret\", \"Secret\", \"Secret\", \"Secret\", \"Secret\", \"Seed\", \"Seed\", \"Shane\", \"Shane\", \"Shane\", \"Shane\", \"Shane\", \"Shane\", \"Shane\", \"Shane\", \"Shane\", \"Shane\", \"Sheldon\", \"Sheldon\", \"Siam\", \"Siam\", \"Siam\", \"Siam\", \"Siam\", \"Siam\", \"Somebody\", \"Somebody\", \"Somebody\", \"Steve\", \"Steve\", \"Steve\", \"Steve\", \"Steve\", \"Steve\", \"Steve\", \"Steve\", \"Steve\", \"Steve\", \"Strawberry-\", \"Strawberry-\", \"Strawberry-\", \"Strawberry-\", \"Styles\", \"Styles\", \"Styles\", \"Styles\", \"TSO\", \"Talia\", \"Talia\", \"Taxi\", \"Taxi\", \"Taxi\", \"Taxi\", \"Timo\", \"Timo\", \"Vegas\", \"Vegas\", \"Vegas\", \"Vegas\", \"Vegas\", \"Vegas\", \"Vegas\", \"Vegas\", \"Vegas\", \"Vegas\", \"WORST\", \"WORST\", \"Warhol\", \"Warhol\", \"Warhol\", \"Warhol\", \"Warhol\", \"Warhol\", \"Warhol\", \"Warhol\", \"Warhol\", \"Wilkes\", \"Wilkes\", \"Wilkes\", \"Wilkes\", \"Wilkes\", \"Wilkes\", \"YC\", \"Yasmin\", \"Yasmin\", \"Yasmin\", \"Yasmin\", \"Yasmin\", \"Yasmin\", \"able\", \"able\", \"able\", \"able\", \"able\", \"able\", \"able\", \"able\", \"able\", \"able\", \"absolutely\", \"absolutely\", \"absolutely\", \"absolutely\", \"absolutely\", \"absolutely\", \"absolutely\", \"absolutely\", \"absolutely\", \"absolutely\", \"accueillant\", \"acrobatic\", \"acrobatic\", \"acrobatic\", \"acrobatic\", \"add\", \"add\", \"add\", \"add\", \"add\", \"add\", \"add\", \"add\", \"add\", \"add\", \"aloo\", \"amature\", \"amazing\", \"amazing\", \"amazing\", \"amazing\", \"amazing\", \"amazing\", \"amazing\", \"amazing\", \"amazing\", \"amazing\", \"amazinggg\", \"amazinggg\", \"applicant\", \"appointment\", \"appointment\", \"appointment\", \"appointment\", \"appointment\", \"appointment\", \"appointment\", \"appointment\", \"appointment\", \"appointment\", \"area\", \"area\", \"area\", \"area\", \"area\", \"area\", \"area\", \"area\", \"area\", \"area\", \"arse\", \"ask\", \"ask\", \"ask\", \"ask\", \"ask\", \"ask\", \"ask\", \"ask\", \"ask\", \"ask\", \"atmosphere\", \"atmosphere\", \"atmosphere\", \"atmosphere\", \"atmosphere\", \"atmosphere\", \"atmosphere\", \"atmosphere\", \"atmosphere\", \"atmosphere\", \"attentive\", \"attentive\", \"attentive\", \"attentive\", \"attentive\", \"attentive\", \"attentive\", \"attentive\", \"attentive\", \"attentive\", \"available\", \"available\", \"available\", \"available\", \"available\", \"available\", \"available\", \"available\", \"available\", \"available\", \"away\", \"away\", \"away\", \"away\", \"away\", \"away\", \"away\", \"away\", \"away\", \"away\", \"axle\", \"axle\", \"bad\", \"bad\", \"bad\", \"bad\", \"bad\", \"bad\", \"bad\", \"bad\", \"bad\", \"bad\", \"badass\", \"banking\", \"banking\", \"bar\", \"bar\", \"bar\", \"bar\", \"bar\", \"bar\", \"bar\", \"bar\", \"bar\", \"bar\", \"barhoppe\", \"barhoppe\", \"barley\", \"base\", \"base\", \"base\", \"base\", \"base\", \"base\", \"base\", \"base\", \"base\", \"base\", \"bathing\", \"bathing\", \"bean\", \"bean\", \"bean\", \"bean\", \"bean\", \"bean\", \"bean\", \"bean\", \"bean\", \"bean\", \"beaten\", \"beaten\", \"beaten\", \"beause\", \"beause\", \"beer\", \"beer\", \"beer\", \"beer\", \"beer\", \"beer\", \"beer\", \"beer\", \"beer\", \"beer\", \"beggar\", \"big\", \"big\", \"big\", \"big\", \"big\", \"big\", \"big\", \"big\", \"big\", \"big\", \"bike\", \"bike\", \"bike\", \"bike\", \"bike\", \"bike\", \"bike\", \"bike\", \"bike\", \"bike\", \"bingsu\", \"bingsu\", \"bingsu\", \"bingsu\", \"bingsu\", \"bingsu\", \"bingsu\", \"bingsu\", \"bingsu\", \"biryani\", \"biryani\", \"biryani\", \"biryani\", \"biryani\", \"biryani\", \"biryani\", \"biryani\", \"biryani\", \"biryani\", \"bit\", \"bit\", \"bit\", \"bit\", \"bit\", \"bit\", \"bit\", \"bit\", \"bit\", \"bit\", \"boat\", \"boat\", \"boat\", \"boat\", \"boat\", \"boat\", \"boat\", \"boat\", \"boat\", \"boat\", \"booster\", \"booster\", \"botanical\", \"botanical\", \"botanical\", \"brake\", \"brake\", \"brake\", \"brake\", \"brake\", \"brake\", \"brake\", \"brake\", \"brake\", \"brake\", \"bread\", \"bread\", \"bread\", \"bread\", \"bread\", \"bread\", \"bread\", \"bread\", \"bread\", \"bread\", \"burger\", \"burger\", \"burger\", \"burger\", \"burger\", \"burger\", \"burger\", \"burger\", \"burger\", \"burger\", \"burger-\", \"burger-\", \"busy\", \"busy\", \"busy\", \"busy\", \"busy\", \"busy\", \"busy\", \"busy\", \"busy\", \"busy\", \"buttered\", \"calabash\", \"calabash\", \"chaat\", \"chaleureux\", \"chaleureux\", \"chaleureux\", \"check\", \"check\", \"check\", \"check\", \"check\", \"check\", \"check\", \"check\", \"check\", \"check\", \"cheese\", \"cheese\", \"cheese\", \"cheese\", \"cheese\", \"cheese\", \"cheese\", \"cheese\", \"cheese\", \"cheese\", \"cheesetart\", \"cheesetart\", \"cheesetart\", \"cheesetart\", \"cheesetart\", \"cheesetart\", \"cheesetart\", \"cheesetart\", \"cheesetart\", \"chicken\", \"chicken\", \"chicken\", \"chicken\", \"chicken\", \"chicken\", \"chicken\", \"chicken\", \"chicken\", \"chicken\", \"chinese\", \"chinese\", \"chinese\", \"chinese\", \"chinese\", \"chinese\", \"chinese\", \"chinese\", \"chinese\", \"chinese\", \"chintzy\", \"clean\", \"clean\", \"clean\", \"clean\", \"clean\", \"clean\", \"clean\", \"clean\", \"clean\", \"clean\", \"coffee\", \"coffee\", \"coffee\", \"coffee\", \"coffee\", \"coffee\", \"coffee\", \"coffee\", \"coffee\", \"coffee\", \"color\", \"color\", \"color\", \"color\", \"color\", \"color\", \"color\", \"color\", \"color\", \"color\", \"come\", \"come\", \"come\", \"come\", \"come\", \"come\", \"come\", \"come\", \"come\", \"come\", \"condiment\", \"condiment\", \"condiment\", \"condiment\", \"condiment\", \"condiment\", \"condiment\", \"condiment\", \"condiment\", \"condiment\", \"condition\", \"condition\", \"condition\", \"condition\", \"condition\", \"condition\", \"condition\", \"condition\", \"condition\", \"condition\", \"cool\", \"cool\", \"cool\", \"cool\", \"cool\", \"cool\", \"cool\", \"cool\", \"cool\", \"cool\", \"cos\", \"cos\", \"crankshaft\", \"cuon\", \"cuon\", \"cuon\", \"cuon\", \"customer\", \"customer\", \"customer\", \"customer\", \"customer\", \"customer\", \"customer\", \"customer\", \"customer\", \"customer\", \"cut\", \"cut\", \"cut\", \"cut\", \"cut\", \"cut\", \"cut\", \"cut\", \"cut\", \"cut\", \"cutest\", \"cutest\", \"dahl\", \"day\", \"day\", \"day\", \"day\", \"day\", \"day\", \"day\", \"day\", \"day\", \"day\", \"decent\", \"decent\", \"decent\", \"decent\", \"decent\", \"decent\", \"decent\", \"decent\", \"decent\", \"decent\", \"decide\", \"decide\", \"decide\", \"decide\", \"decide\", \"decide\", \"decide\", \"decide\", \"decide\", \"decide\", \"deep\", \"deep\", \"deep\", \"deep\", \"deep\", \"deep\", \"deep\", \"deep\", \"deep\", \"deep\", \"definitely\", \"definitely\", \"definitely\", \"definitely\", \"definitely\", \"definitely\", \"definitely\", \"definitely\", \"definitely\", \"definitely\", \"delicious\", \"delicious\", \"delicious\", \"delicious\", \"delicious\", \"delicious\", \"delicious\", \"delicious\", \"delicious\", \"delicious\", \"delicious--\", \"demonic\", \"demonic\", \"dessert\", \"dessert\", \"dessert\", \"dessert\", \"dessert\", \"dessert\", \"dessert\", \"dessert\", \"dessert\", \"dessert\", \"die\", \"die\", \"die\", \"die\", \"die\", \"die\", \"die\", \"die\", \"die\", \"die\", \"diesel\", \"different\", \"different\", \"different\", \"different\", \"different\", \"different\", \"different\", \"different\", \"different\", \"different\", \"dimmer\", \"din\", \"din\", \"din\", \"din\", \"din\", \"din\", \"dining\", \"dining\", \"dining\", \"dining\", \"dining\", \"dining\", \"dining\", \"dining\", \"dining\", \"dining\", \"dinner\", \"dinner\", \"dinner\", \"dinner\", \"dinner\", \"dinner\", \"dinner\", \"dinner\", \"dinner\", \"dinner\", \"dish\", \"dish\", \"dish\", \"dish\", \"dish\", \"dish\", \"dish\", \"dish\", \"dish\", \"dish\", \"dodgy\", \"dolci\", \"dolci\", \"donair\", \"donair\", \"donair\", \"donair\", \"donair\", \"donair\", \"doughnut\", \"doughnut\", \"doughnut\", \"doughnut\", \"doughnut\", \"doughnut\", \"doughnut\", \"doughnut\", \"doughnut\", \"doughnut\", \"dragon\", \"dragon\", \"dragon\", \"dragon\", \"dragon\", \"dragon\", \"dragon\", \"dragon\", \"dragon\", \"dragon\", \"drink\", \"drink\", \"drink\", \"drink\", \"drink\", \"drink\", \"drink\", \"drink\", \"drink\", \"drink\", \"durian\", \"eat\", \"eat\", \"eat\", \"eat\", \"eat\", \"eat\", \"eat\", \"eat\", \"eat\", \"eat\", \"end\", \"end\", \"end\", \"end\", \"end\", \"end\", \"end\", \"end\", \"end\", \"end\", \"enjoy\", \"enjoy\", \"enjoy\", \"enjoy\", \"enjoy\", \"enjoy\", \"enjoy\", \"enjoy\", \"enjoy\", \"enjoy\", \"evening\", \"evening\", \"evening\", \"evening\", \"evening\", \"evening\", \"evening\", \"evening\", \"evening\", \"evening\", \"everrrrr\", \"excellent\", \"excellent\", \"excellent\", \"excellent\", \"excellent\", \"excellent\", \"excellent\", \"excellent\", \"excellent\", \"excellent\", \"expect\", \"expect\", \"expect\", \"expect\", \"expect\", \"expect\", \"expect\", \"expect\", \"expect\", \"expect\", \"experience\", \"experience\", \"experience\", \"experience\", \"experience\", \"experience\", \"experience\", \"experience\", \"experience\", \"experience\", \"explosive\", \"fact\", \"fact\", \"fact\", \"fact\", \"fact\", \"fact\", \"fact\", \"fact\", \"fact\", \"fact\", \"family\", \"family\", \"family\", \"family\", \"family\", \"family\", \"family\", \"family\", \"family\", \"family\", \"fastest\", \"favorite\", \"favorite\", \"favorite\", \"favorite\", \"favorite\", \"favorite\", \"favorite\", \"favorite\", \"favorite\", \"favorite\", \"favs\", \"feel\", \"feel\", \"feel\", \"feel\", \"feel\", \"feel\", \"feel\", \"feel\", \"feel\", \"feel\", \"find\", \"find\", \"find\", \"find\", \"find\", \"find\", \"find\", \"find\", \"find\", \"find\", \"firefly\", \"firefly\", \"fish\", \"fish\", \"fish\", \"fish\", \"fish\", \"fish\", \"fish\", \"fish\", \"fish\", \"fish\", \"flavor\", \"flavor\", \"flavor\", \"flavor\", \"flavor\", \"flavor\", \"flavor\", \"flavor\", \"flavor\", \"flavor\", \"fluid\", \"fluid\", \"fluid\", \"fluid\", \"fluid\", \"fluid\", \"fluid\", \"fluid\", \"fluid\", \"fluid\", \"food\", \"food\", \"food\", \"food\", \"food\", \"food\", \"food\", \"food\", \"food\", \"food\", \"forgetful\", \"forgetful\", \"free\", \"free\", \"free\", \"free\", \"free\", \"free\", \"free\", \"free\", \"free\", \"free\", \"fresh\", \"fresh\", \"fresh\", \"fresh\", \"fresh\", \"fresh\", \"fresh\", \"fresh\", \"fresh\", \"fresh\", \"friend\", \"friend\", \"friend\", \"friend\", \"friend\", \"friend\", \"friend\", \"friend\", \"friend\", \"friend\", \"friendly\", \"friendly\", \"friendly\", \"friendly\", \"friendly\", \"friendly\", \"friendly\", \"friendly\", \"friendly\", \"friendly\", \"frizzy\", \"frizzy\", \"frizzy\", \"frizzy\", \"frizzy\", \"froide\", \"fry\", \"fry\", \"fry\", \"fry\", \"fry\", \"fry\", \"fry\", \"fry\", \"fry\", \"fry\", \"get\", \"get\", \"get\", \"get\", \"get\", \"get\", \"get\", \"get\", \"get\", \"get\", \"give\", \"give\", \"give\", \"give\", \"give\", \"give\", \"give\", \"give\", \"give\", \"give\", \"globe\", \"go\", \"go\", \"go\", \"go\", \"go\", \"go\", \"go\", \"go\", \"go\", \"go\", \"golfweek.com\", \"golfweek.com\", \"good\", \"good\", \"good\", \"good\", \"good\", \"good\", \"good\", \"good\", \"good\", \"good\", \"great\", \"great\", \"great\", \"great\", \"great\", \"great\", \"great\", \"great\", \"great\", \"great\", \"greatness\", \"greatness\", \"greatness\", \"greatness\", \"greatness\", \"greatness\", \"greatness\", \"greatness\", \"greatness\", \"green\", \"green\", \"green\", \"green\", \"green\", \"green\", \"green\", \"green\", \"green\", \"green\", \"grubhub\", \"grubhub\", \"grubhub\", \"grubhub\", \"grubhub\", \"grubhub\", \"grubhub\", \"grubhub\", \"hair\", \"hair\", \"hair\", \"hair\", \"hair\", \"hair\", \"hair\", \"hair\", \"hair\", \"hair\", \"halo\", \"halo\", \"happen\", \"happen\", \"happen\", \"happen\", \"happen\", \"happen\", \"happen\", \"happen\", \"happen\", \"happen\", \"happy\", \"happy\", \"happy\", \"happy\", \"happy\", \"happy\", \"happy\", \"happy\", \"happy\", \"happy\", \"hate\", \"hate\", \"hate\", \"hate\", \"hate\", \"hate\", \"hate\", \"hate\", \"hate\", \"hate\", \"hear\", \"hear\", \"hear\", \"hear\", \"hear\", \"hear\", \"hear\", \"hear\", \"hear\", \"hear\", \"helpful\", \"helpful\", \"helpful\", \"helpful\", \"helpful\", \"helpful\", \"helpful\", \"helpful\", \"helpful\", \"helpful\", \"highly\", \"highly\", \"highly\", \"highly\", \"highly\", \"highly\", \"highly\", \"highly\", \"highly\", \"highly\", \"hoodlum\", \"hotel\", \"hotel\", \"hotel\", \"hotel\", \"hotel\", \"hotel\", \"hotel\", \"hotel\", \"hotel\", \"hotel\", \"huge\", \"huge\", \"huge\", \"huge\", \"huge\", \"huge\", \"huge\", \"huge\", \"huge\", \"huge\", \"husband\", \"husband\", \"husband\", \"husband\", \"husband\", \"husband\", \"husband\", \"husband\", \"husband\", \"husband\", \"hyped\", \"hyped\", \"hyped\", \"hyped\", \"ice\", \"ice\", \"ice\", \"ice\", \"ice\", \"ice\", \"ice\", \"ice\", \"ice\", \"ice\", \"imcomplete\", \"impressed\", \"impressed\", \"impressed\", \"impressed\", \"impressed\", \"impressed\", \"impressed\", \"impressed\", \"impressed\", \"impressed\", \"insectarium\", \"intelligent\", \"intelligent\", \"intelligent\", \"intelligent\", \"intelligent\", \"intelligent\", \"intelligently\", \"intelligently\", \"iphone\", \"iphone\", \"iphone\", \"irrigation\", \"isle\", \"isle\", \"isle\", \"isle\", \"isle\", \"isle\", \"isle\", \"isle\", \"item\", \"item\", \"item\", \"item\", \"item\", \"item\", \"item\", \"item\", \"item\", \"item\", \"jack\", \"jack\", \"jack\", \"jack\", \"jack\", \"jack\", \"jack\", \"jack\", \"jack\", \"jack\", \"jackpot\", \"jackpot\", \"kheer\", \"kid\", \"kid\", \"kid\", \"kid\", \"kid\", \"kid\", \"kid\", \"kid\", \"kid\", \"kid\", \"know\", \"know\", \"know\", \"know\", \"know\", \"know\", \"know\", \"know\", \"know\", \"know\", \"l'ambiance\", \"l'ambiance\", \"l'ambiance\", \"l'ambiance\", \"l'auto\", \"large\", \"large\", \"large\", \"large\", \"large\", \"large\", \"large\", \"large\", \"large\", \"large\", \"latte\", \"latte\", \"latte\", \"latte\", \"latte\", \"latte\", \"latte\", \"latte\", \"latte\", \"latte\", \"leave\", \"leave\", \"leave\", \"leave\", \"leave\", \"leave\", \"leave\", \"leave\", \"leave\", \"leave\", \"lengua\", \"lengua\", \"like\", \"like\", \"like\", \"like\", \"like\", \"like\", \"like\", \"like\", \"like\", \"like\", \"little\", \"little\", \"little\", \"little\", \"little\", \"little\", \"little\", \"little\", \"little\", \"little\", \"live\", \"live\", \"live\", \"live\", \"live\", \"live\", \"live\", \"live\", \"live\", \"live\", \"loaf\", \"loaf\", \"loaf\", \"loaf\", \"loaf\", \"loaf\", \"loaf\", \"loaf\", \"loaf\", \"loaf\", \"location\", \"location\", \"location\", \"location\", \"location\", \"location\", \"location\", \"location\", \"location\", \"location\", \"long\", \"long\", \"long\", \"long\", \"long\", \"long\", \"long\", \"long\", \"long\", \"long\", \"look\", \"look\", \"look\", \"look\", \"look\", \"look\", \"look\", \"look\", \"look\", \"look\", \"lot\", \"lot\", \"lot\", \"lot\", \"lot\", \"lot\", \"lot\", \"lot\", \"lot\", \"lot\", \"love\", \"love\", \"love\", \"love\", \"love\", \"love\", \"love\", \"love\", \"love\", \"love\", \"lovely\", \"lovely\", \"lovely\", \"lovely\", \"lovely\", \"lovely\", \"lovely\", \"lovely\", \"lovely\", \"lovely\", \"lumber\", \"marathon\", \"martial\", \"martial\", \"martial\", \"martial\", \"massage\", \"massage\", \"massage\", \"massage\", \"massage\", \"massage\", \"massage\", \"massage\", \"massage\", \"massage\", \"meilleurs\", \"menu\", \"menu\", \"menu\", \"menu\", \"menu\", \"menu\", \"menu\", \"menu\", \"menu\", \"menu\", \"meringue\", \"meringue\", \"meringue\", \"meringue\", \"meringue\", \"meringue\", \"meringue\", \"meringue\", \"meringue\", \"meringue\", \"messaging\", \"middle\", \"middle\", \"middle\", \"middle\", \"middle\", \"middle\", \"middle\", \"middle\", \"middle\", \"middle\", \"minute\", \"minute\", \"minute\", \"minute\", \"minute\", \"minute\", \"minute\", \"minute\", \"minute\", \"minute\", \"mistreat\", \"mistreat\", \"mistreat\", \"mistreat\", \"mistreat\", \"momma\", \"momma\", \"money\", \"money\", \"money\", \"money\", \"money\", \"money\", \"money\", \"money\", \"money\", \"money\", \"n'ai\", \"n'ai\", \"navigation\", \"navigation\", \"navigation\", \"navigation\", \"navigation\", \"navigation\", \"navigation\", \"navigation\", \"navigation\", \"navigation\", \"need\", \"need\", \"need\", \"need\", \"need\", \"need\", \"need\", \"need\", \"need\", \"need\", \"neuter\", \"new\", \"new\", \"new\", \"new\", \"new\", \"new\", \"new\", \"new\", \"new\", \"new\", \"nice\", \"nice\", \"nice\", \"nice\", \"nice\", \"nice\", \"nice\", \"nice\", \"nice\", \"nice\", \"night\", \"night\", \"night\", \"night\", \"night\", \"night\", \"night\", \"night\", \"night\", \"night\", \"notice\", \"notice\", \"notice\", \"notice\", \"notice\", \"notice\", \"notice\", \"notice\", \"notice\", \"notice\", \"obsessed\", \"obsessed\", \"obsessed\", \"obsessed\", \"obsessed\", \"obsessed\", \"october\", \"offer\", \"offer\", \"offer\", \"offer\", \"offer\", \"offer\", \"offer\", \"offer\", \"offer\", \"offer\", \"oho\", \"oho\", \"open\", \"open\", \"open\", \"open\", \"open\", \"open\", \"open\", \"open\", \"open\", \"open\", \"option\", \"option\", \"option\", \"option\", \"option\", \"option\", \"option\", \"option\", \"option\", \"option\", \"order\", \"order\", \"order\", \"order\", \"order\", \"order\", \"order\", \"order\", \"order\", \"order\", \"owner\", \"owner\", \"owner\", \"owner\", \"owner\", \"owner\", \"owner\", \"owner\", \"owner\", \"owner\", \"paced\", \"paced\", \"pay\", \"pay\", \"pay\", \"pay\", \"pay\", \"pay\", \"pay\", \"pay\", \"pay\", \"pay\", \"pediatric\", \"pediatric\", \"pediatric\", \"pediatric\", \"pediatric\", \"people\", \"people\", \"people\", \"people\", \"people\", \"people\", \"people\", \"people\", \"people\", \"people\", \"philly\", \"philly\", \"philly\", \"philly\", \"philly\", \"philly\", \"philly\", \"philly\", \"philly\", \"philly\", \"phone\\\"hello\", \"picante\", \"picante\", \"pick\", \"pick\", \"pick\", \"pick\", \"pick\", \"pick\", \"pick\", \"pick\", \"pick\", \"pick\", \"pizza\", \"pizza\", \"pizza\", \"pizza\", \"pizza\", \"pizza\", \"pizza\", \"pizza\", \"pizza\", \"pizza\", \"place\", \"place\", \"place\", \"place\", \"place\", \"place\", \"place\", \"place\", \"place\", \"place\", \"pom\", \"pom\", \"pom\", \"pork\", \"pork\", \"pork\", \"pork\", \"pork\", \"pork\", \"pork\", \"pork\", \"pork\", \"pork\", \"pottery\", \"pottery\", \"pretty\", \"pretty\", \"pretty\", \"pretty\", \"pretty\", \"pretty\", \"pretty\", \"pretty\", \"pretty\", \"pretty\", \"price\", \"price\", \"price\", \"price\", \"price\", \"price\", \"price\", \"price\", \"price\", \"price\", \"probably\", \"probably\", \"probably\", \"probably\", \"probably\", \"probably\", \"probably\", \"probably\", \"probably\", \"probably\", \"ramen\", \"ramen\", \"ramen\", \"ramen\", \"ramen\", \"ramen\", \"ramen\", \"ramen\", \"ramen\", \"ramen\", \"rapide\", \"rapide\", \"rapide\", \"rapide\", \"rapide\", \"rapide\", \"rapide\", \"rapide\", \"reasonable\", \"reasonable\", \"reasonable\", \"reasonable\", \"reasonable\", \"reasonable\", \"reasonable\", \"reasonable\", \"reasonable\", \"reasonable\", \"reccomend\", \"reccomend\", \"reccomend\", \"reccomend\", \"reccomend\", \"reccomend\", \"reccomend\", \"reccomend\", \"reccomend\", \"recline\", \"recline\", \"recline\", \"recline\", \"recline\", \"recline\", \"recline\", \"recline\", \"recline\", \"recomend\", \"recomend\", \"recomend\", \"recomend\", \"recomend\", \"recomend\", \"recommend\", \"recommend\", \"recommend\", \"recommend\", \"recommend\", \"recommend\", \"recommend\", \"recommend\", \"recommend\", \"recommend\", \"redone\", \"redone\", \"redone\", \"redone\", \"redone\", \"redone\", \"redone\", \"remake\", \"remake\", \"remake\", \"remake\", \"remake\", \"remake\", \"remake\", \"remake\", \"remake\", \"rendevouz\", \"respectueux\", \"restaurant\", \"restaurant\", \"restaurant\", \"restaurant\", \"restaurant\", \"restaurant\", \"restaurant\", \"restaurant\", \"restaurant\", \"restaurant\", \"restaurant-\", \"return\", \"return\", \"return\", \"return\", \"return\", \"return\", \"return\", \"return\", \"return\", \"return\", \"right\", \"right\", \"right\", \"right\", \"right\", \"right\", \"right\", \"right\", \"right\", \"right\", \"ring\", \"ring\", \"ring\", \"ring\", \"ring\", \"ring\", \"ring\", \"ring\", \"ring\", \"ring\", \"romper\", \"romper\", \"room\", \"room\", \"room\", \"room\", \"room\", \"room\", \"room\", \"room\", \"room\", \"room\", \"sad\", \"sad\", \"sad\", \"sad\", \"sad\", \"sad\", \"sad\", \"sad\", \"sad\", \"sad\", \"sandwich\", \"sandwich\", \"sandwich\", \"sandwich\", \"sandwich\", \"sandwich\", \"sandwich\", \"sandwich\", \"sandwich\", \"sandwich\", \"satisfactory\", \"satisfactory\", \"satisfactory\", \"satisfactory\", \"satisfactory\", \"satisfactory\", \"satisfactory\", \"satisfactory\", \"satisfactory\", \"satisfactory\", \"say\", \"say\", \"say\", \"say\", \"say\", \"say\", \"say\", \"say\", \"say\", \"say\", \"seat\", \"seat\", \"seat\", \"seat\", \"seat\", \"seat\", \"seat\", \"seat\", \"seat\", \"seat\", \"serve\", \"serve\", \"serve\", \"serve\", \"serve\", \"serve\", \"serve\", \"serve\", \"serve\", \"serve\", \"server\", \"server\", \"server\", \"server\", \"server\", \"server\", \"server\", \"server\", \"server\", \"server\", \"service\", \"service\", \"service\", \"service\", \"service\", \"service\", \"service\", \"service\", \"service\", \"service\", \"service.don't\", \"service.maybe\", \"service.maybe\", \"shop\", \"shop\", \"shop\", \"shop\", \"shop\", \"shop\", \"shop\", \"shop\", \"shop\", \"shop\", \"slimey\", \"slush\", \"small\", \"small\", \"small\", \"small\", \"small\", \"small\", \"small\", \"small\", \"small\", \"small\", \"smile\", \"smile\", \"smile\", \"smile\", \"smile\", \"smile\", \"smile\", \"smile\", \"smile\", \"smile\", \"smog\", \"smog\", \"smog\", \"smog\", \"smog\", \"smog\", \"smog\", \"smog\", \"smog\", \"smog\", \"soup\", \"soup\", \"soup\", \"soup\", \"soup\", \"soup\", \"soup\", \"soup\", \"soup\", \"soup\", \"spicery\", \"spineless\", \"spot\", \"spot\", \"spot\", \"spot\", \"spot\", \"spot\", \"spot\", \"spot\", \"spot\", \"spot\", \"squishie\", \"squishie\", \"squishie\", \"squishie\", \"squishie\", \"stab\", \"stadium\", \"stadium\", \"stadium\", \"stadium\", \"stadium\", \"stadium\", \"stadium\", \"stadium\", \"stadium\", \"stadium\", \"staff\", \"staff\", \"staff\", \"staff\", \"staff\", \"staff\", \"staff\", \"staff\", \"staff\", \"staff\", \"star\", \"star\", \"star\", \"star\", \"star\", \"star\", \"star\", \"star\", \"star\", \"star\", \"start\", \"start\", \"start\", \"start\", \"start\", \"start\", \"start\", \"start\", \"start\", \"start\", \"stay\", \"stay\", \"stay\", \"stay\", \"stay\", \"stay\", \"stay\", \"stay\", \"stay\", \"stay\", \"store\", \"store\", \"store\", \"store\", \"store\", \"store\", \"store\", \"store\", \"store\", \"store\", \"strip\", \"strip\", \"strip\", \"strip\", \"strip\", \"strip\", \"strip\", \"strip\", \"strip\", \"strip\", \"summerlin\", \"summerlin\", \"summerlin\", \"summerlin\", \"super\", \"super\", \"super\", \"super\", \"super\", \"super\", \"super\", \"super\", \"super\", \"super\", \"sushi\", \"sushi\", \"sushi\", \"sushi\", \"sushi\", \"sushi\", \"sushi\", \"sushi\", \"sushi\", \"sushi\", \"swedish\", \"swedish\", \"swedish\", \"sweet\", \"sweet\", \"sweet\", \"sweet\", \"sweet\", \"sweet\", \"sweet\", \"sweet\", \"sweet\", \"sweet\", \"swift\", \"swimsuit\", \"sympathique\", \"sympathique\", \"sympathique\", \"sympathique\", \"table\", \"table\", \"table\", \"table\", \"table\", \"table\", \"table\", \"table\", \"table\", \"table\", \"take\", \"take\", \"take\", \"take\", \"take\", \"take\", \"take\", \"take\", \"take\", \"take\", \"tan\", \"tan\", \"tan\", \"tan\", \"tan\", \"tan\", \"tan\", \"tan\", \"tan\", \"tan\", \"taste\", \"taste\", \"taste\", \"taste\", \"taste\", \"taste\", \"taste\", \"taste\", \"taste\", \"taste\", \"tastey\", \"tastey\", \"tastey\", \"tastey\", \"tech\", \"tech\", \"tech\", \"tech\", \"tech\", \"tech\", \"tech\", \"tech\", \"tech\", \"tech\", \"tell\", \"tell\", \"tell\", \"tell\", \"tell\", \"tell\", \"tell\", \"tell\", \"tell\", \"tell\", \"thank\", \"thank\", \"thank\", \"thank\", \"thank\", \"thank\", \"thank\", \"thank\", \"thank\", \"thank\", \"thing\", \"thing\", \"thing\", \"thing\", \"thing\", \"thing\", \"thing\", \"thing\", \"thing\", \"thing\", \"think\", \"think\", \"think\", \"think\", \"think\", \"think\", \"think\", \"think\", \"think\", \"think\", \"tikki\", \"time\", \"time\", \"time\", \"time\", \"time\", \"time\", \"time\", \"time\", \"time\", \"time\", \"timeline\", \"timeline\", \"timeline\", \"today\", \"today\", \"today\", \"today\", \"today\", \"today\", \"today\", \"today\", \"today\", \"today\", \"tomahawk\", \"trim\", \"trim\", \"trim\", \"trim\", \"trim\", \"trim\", \"trim\", \"trim\", \"trim\", \"trim\", \"try\", \"try\", \"try\", \"try\", \"try\", \"try\", \"try\", \"try\", \"try\", \"try\", \"underrated\", \"underrated\", \"underrated\", \"unimpressive\", \"vadai\", \"vadai\", \"vain\", \"vain\", \"vain\", \"vain\", \"vehicle\", \"vehicle\", \"vehicle\", \"vehicle\", \"vehicle\", \"vehicle\", \"vehicle\", \"vehicle\", \"vehicle\", \"vehicle\", \"victor\", \"violently\", \"violently\", \"wait\", \"wait\", \"wait\", \"wait\", \"wait\", \"wait\", \"wait\", \"wait\", \"wait\", \"wait\", \"waiter\", \"waiter\", \"waiter\", \"waiter\", \"waiter\", \"waiter\", \"waiter\", \"waiter\", \"waiter\", \"waiter\", \"walk\", \"walk\", \"walk\", \"walk\", \"walk\", \"walk\", \"walk\", \"walk\", \"walk\", \"walk\", \"walkthrough\", \"want\", \"want\", \"want\", \"want\", \"want\", \"want\", \"want\", \"want\", \"want\", \"want\", \"water\", \"water\", \"water\", \"water\", \"water\", \"water\", \"water\", \"water\", \"water\", \"water\", \"way\", \"way\", \"way\", \"way\", \"way\", \"way\", \"way\", \"way\", \"way\", \"way\", \"week\", \"week\", \"week\", \"week\", \"week\", \"week\", \"week\", \"week\", \"week\", \"week\", \"whooper\", \"will\", \"will\", \"will\", \"will\", \"will\", \"will\", \"will\", \"will\", \"will\", \"will\", \"willing\", \"willing\", \"willing\", \"willing\", \"willing\", \"willing\", \"willing\", \"willing\", \"willing\", \"willing\", \"wine\", \"wine\", \"wine\", \"wine\", \"wine\", \"wine\", \"wine\", \"wine\", \"wine\", \"wine\", \"woman\", \"woman\", \"woman\", \"woman\", \"woman\", \"woman\", \"woman\", \"woman\", \"woman\", \"woman\", \"woot\", \"woot\", \"woot\", \"woot\", \"work\", \"work\", \"work\", \"work\", \"work\", \"work\", \"work\", \"work\", \"work\", \"work\", \"wrong\", \"wrong\", \"wrong\", \"wrong\", \"wrong\", \"wrong\", \"wrong\", \"wrong\", \"wrong\", \"wrong\", \"year\", \"year\", \"year\", \"year\", \"year\", \"year\", \"year\", \"year\", \"year\", \"year\", \"yuk\", \"yuk\", \"yuk\", \"yuk\", \"yuk\", \"yuk\", \"yuk\", \"yuk\", \"yuk\", \"\\u5929\\u6c23\\u5f88\\u71b1\\u5403\\u4e0d\\u4e0b\\u6771\\u897f\\uff0c\\u4eca\\u5929\\u6211\\u9ede\\u4e86\\u4e00\\u500b\\u97d3\\u570b\\u51b7\\u9762\\u6e6f\\u3001\\u9910\\u5f8c\\u9ede\\u4e86\\u751c\\u9ede\\uff0c\\u51b0\\u6c99\\u7cfb\\u5217\\u4e0d\\u6703\\u592a\\u751c\\u81a9\\uff0c\\u89ba\\u5f97\\u5e97\\u5bb6\\u5f88\\u7528\\u5fc3\\u88fd\\u4f5c\\uff0c\\u5305\\u542b\\u64fa\\u76e4\\u7cbe\\u7dfb\\u3001\\u4f50\\u6599\\u885b\\u751f\\uff0c\\u590f\\u65e5\\u60f3\\u958b\\u80c3\\uff0c\\u9019\\u662f\\u4e00\\u500b\\u4e0d\\u932f\\u7684\\u9078\\u64c7\\uff0c\\u670d\\u52d9\\u4eba\\u54e1\\u4e5f\\u5f88\\u656c\\u696d\\uff0c\\u4ee5\\u5f8c\\u6703\\u5e38\\u5e38\\u4f86\"]}, \"R\": 30, \"lambda.step\": 0.01, \"plot.opts\": {\"xlab\": \"PC1\", \"ylab\": \"PC2\"}, \"topic.order\": [5, 1, 10, 4, 2, 8, 3, 9, 6, 7]};\n",
       "\n",
       "function LDAvis_load_lib(url, callback){\n",
       "  var s = document.createElement('script');\n",
       "  s.src = url;\n",
       "  s.async = true;\n",
       "  s.onreadystatechange = s.onload = callback;\n",
       "  s.onerror = function(){console.warn(\"failed to load library \" + url);};\n",
       "  document.getElementsByTagName(\"head\")[0].appendChild(s);\n",
       "}\n",
       "\n",
       "if(typeof(LDAvis) !== \"undefined\"){\n",
       "   // already loaded: just create the visualization\n",
       "   !function(LDAvis){\n",
       "       new LDAvis(\"#\" + \"ldavis_el1422019468997774805992375178\", ldavis_el1422019468997774805992375178_data);\n",
       "   }(LDAvis);\n",
       "}else if(typeof define === \"function\" && define.amd){\n",
       "   // require.js is available: use it to load d3/LDAvis\n",
       "   require.config({paths: {d3: \"https://cdnjs.cloudflare.com/ajax/libs/d3/3.5.5/d3.min\"}});\n",
       "   require([\"d3\"], function(d3){\n",
       "      window.d3 = d3;\n",
       "      LDAvis_load_lib(\"https://cdn.rawgit.com/bmabey/pyLDAvis/files/ldavis.v1.0.0.js\", function(){\n",
       "        new LDAvis(\"#\" + \"ldavis_el1422019468997774805992375178\", ldavis_el1422019468997774805992375178_data);\n",
       "      });\n",
       "    });\n",
       "}else{\n",
       "    // require.js not available: dynamically load d3 & LDAvis\n",
       "    LDAvis_load_lib(\"https://cdnjs.cloudflare.com/ajax/libs/d3/3.5.5/d3.min.js\", function(){\n",
       "         LDAvis_load_lib(\"https://cdn.rawgit.com/bmabey/pyLDAvis/files/ldavis.v1.0.0.js\", function(){\n",
       "                 new LDAvis(\"#\" + \"ldavis_el1422019468997774805992375178\", ldavis_el1422019468997774805992375178_data);\n",
       "            })\n",
       "         });\n",
       "}\n",
       "</script>"
      ],
      "text/plain": [
       "PreparedData(topic_coordinates=              x         y  topics  cluster       Freq\n",
       "topic                                                \n",
       "4      0.002298 -0.004152       1        1  10.634191\n",
       "0      0.000375  0.005247       2        1  10.469356\n",
       "9      0.001440  0.000888       3        1  10.301826\n",
       "3      0.005405 -0.001626       4        1  10.211017\n",
       "1      0.001912  0.000562       5        1  10.160639\n",
       "7     -0.006083  0.000116       6        1  10.151143\n",
       "2      0.001876  0.000546       7        1   9.865851\n",
       "8     -0.000320  0.002369       8        1   9.767164\n",
       "5     -0.005208 -0.002207       9        1   9.283624\n",
       "6     -0.001693 -0.001745      10        1   9.155186, topic_info=    Category          Freq        Term         Total  loglift  logprob\n",
       "0    Default  13757.000000              13757.000000  30.0000  30.0000\n",
       "55   Default   8156.000000        \\n\\n   8156.000000  29.0000  29.0000\n",
       "321  Default   3054.000000          \\n   3054.000000  28.0000  28.0000\n",
       "208  Default   4117.000000       great   4117.000000  27.0000  27.0000\n",
       "46   Default   6132.000000        good   6132.000000  26.0000  26.0000\n",
       "1    Default   2167.000000           $   2167.000000  25.0000  25.0000\n",
       "374  Default   3289.000000       order   3289.000000  24.0000  24.0000\n",
       "131  Default   5070.000000       place   5070.000000  23.0000  23.0000\n",
       "83   Default   2963.000000          go   2963.000000  22.0000  22.0000\n",
       "129  Default   1325.000000      people   1325.000000  21.0000  21.0000\n",
       "146  Default   4684.000000        food   4684.000000  20.0000  20.0000\n",
       "393  Default   1438.000000        take   1438.000000  19.0000  19.0000\n",
       "319  Default   1465.000000        work   1465.000000  18.0000  18.0000\n",
       "43   Default   3752.000000        come   3752.000000  17.0000  17.0000\n",
       "156  Default   1692.000000       price   1692.000000  16.0000  16.0000\n",
       "51   Default   3450.000000     service   3450.000000  15.0000  15.0000\n",
       "39   Default   4122.000000        time   4122.000000  14.0000  14.0000\n",
       "82   Default   2791.000000         get   2791.000000  13.0000  13.0000\n",
       "379  Default    726.000000       pizza    726.000000  12.0000  12.0000\n",
       "52   Default   1481.000000       staff   1481.000000  11.0000  11.0000\n",
       "40   Default   2461.000000         try   2461.000000  10.0000  10.0000\n",
       "497  Default   1468.000000        tell   1468.000000   9.0000   9.0000\n",
       "266  Default   1412.000000  experience   1412.000000   8.0000   8.0000\n",
       "107  Default   1087.000000        room   1087.000000   7.0000   7.0000\n",
       "97   Default   1733.000000        nice   1733.000000   6.0000   6.0000\n",
       "692  Default   2143.000000        love   2143.000000   5.0000   5.0000\n",
       "64   Default    999.000000         bar    999.000000   4.0000   4.0000\n",
       "45   Default   1348.000000    friendly   1348.000000   3.0000   3.0000\n",
       "430  Default   1458.000000         day   1458.000000   2.0000   2.0000\n",
       "96   Default   1324.000000        need   1324.000000   1.0000   1.0000\n",
       "..       ...           ...         ...           ...      ...      ...\n",
       "64   Topic10    112.013130         bar    999.462036   0.2022  -6.0536\n",
       "242  Topic10     98.336548       enjoy    865.936584   0.2154  -6.1838\n",
       "146  Topic10    420.493713        food   4684.767090  -0.0198  -4.7308\n",
       "876  Topic10     96.137993       clean    846.359985   0.2157  -6.2064\n",
       "0    Topic10   1047.936401              13757.323242  -0.1839  -3.8176\n",
       "83   Topic10    276.810608          go   2963.053955   0.0202  -5.1489\n",
       "887  Topic10    115.687569         lot   1063.165405   0.1727  -6.0213\n",
       "457  Topic10    164.704880        know   1630.900757   0.0981  -5.6680\n",
       "329  Topic10     82.124840         big    714.991150   0.2268  -6.3640\n",
       "404  Topic10    109.695007           2   1010.975708   0.1699  -6.0745\n",
       "24   Topic10    316.978912        like   3635.851318  -0.0489  -5.0134\n",
       "133  Topic10    116.428070       table   1099.382812   0.1456  -6.0149\n",
       "621  Topic10    138.268402       drink   1362.941528   0.1026  -5.8430\n",
       "27   Topic10    179.907333        look   1910.386475   0.0282  -5.5798\n",
       "55   Topic10    555.544800        \\n\\n   8156.437012  -0.2958  -4.4523\n",
       "996  Topic10    112.805122         new   1059.974854   0.1505  -6.0465\n",
       "692  Topic10    193.930954        love   2143.616943  -0.0119  -5.5047\n",
       "39   Topic10    316.813965        time   4122.079102  -0.1749  -5.0139\n",
       "208  Topic10    312.119781       great   4117.330078  -0.1887  -5.0288\n",
       "156  Topic10    158.076019       price   1692.994019   0.0197  -5.7091\n",
       "1    Topic10    180.791183           $   2167.446533  -0.0931  -5.5749\n",
       "393  Topic10    137.697464        take   1438.166504   0.0448  -5.8471\n",
       "106  Topic10    147.386124  restaurant   1615.945679  -0.0038  -5.7791\n",
       "82   Topic10    199.163452         get   2791.867676  -0.2495  -5.4781\n",
       "344  Topic10    127.947258  definitely   1397.247192   0.0002  -5.9206\n",
       "266  Topic10    127.296638  experience   1412.322632  -0.0156  -5.9257\n",
       "164  Topic10    126.673523       think   1420.736084  -0.0265  -5.9306\n",
       "97   Topic10    134.808105        nice   1733.778809  -0.1634  -5.8683\n",
       "301  Topic10    134.694031        want   1752.265869  -0.1748  -5.8692\n",
       "41   Topic10    129.827240        wait   1623.784790  -0.1355  -5.9060\n",
       "\n",
       "[835 rows x 6 columns], token_table=       Topic      Freq                                               Term\n",
       "term                                                                     \n",
       "321        1  0.119513                                                 \\n\n",
       "321        2  0.063522                                                 \\n\n",
       "321        3  0.097902                                                 \\n\n",
       "321        4  0.082840                                                 \\n\n",
       "321        5  0.089716                                                 \\n\n",
       "321        6  0.117876                                                 \\n\n",
       "321        7  0.076619                                                 \\n\n",
       "321        8  0.084478                                                 \\n\n",
       "321        9  0.111000                                                 \\n\n",
       "321       10  0.156513                                                 \\n\n",
       "55         1  0.069516                                               \\n\\n\n",
       "55         2  0.123951                                               \\n\\n\n",
       "55         3  0.101883                                               \\n\\n\n",
       "55         4  0.094404                                               \\n\\n\n",
       "55         5  0.098572                                               \\n\\n\n",
       "55         6  0.141974                                               \\n\\n\n",
       "55         7  0.095385                                               \\n\\n\n",
       "55         8  0.120764                                               \\n\\n\n",
       "55         9  0.085454                                               \\n\\n\n",
       "55        10  0.068167                                               \\n\\n\n",
       "0          1  0.112304                                                   \n",
       "0          2  0.105980                                                   \n",
       "0          3  0.125679                                                   \n",
       "0          4  0.152355                                                   \n",
       "0          5  0.114848                                                   \n",
       "0          6  0.059023                                                   \n",
       "0          7  0.113321                                                   \n",
       "0          8  0.089262                                                   \n",
       "0          9  0.051027                                                   \n",
       "0         10  0.076178                                                   \n",
       "...      ...       ...                                                ...\n",
       "762        1  0.075046                                              wrong\n",
       "762        2  0.109442                                              wrong\n",
       "762        3  0.090681                                              wrong\n",
       "762        4  0.106315                                              wrong\n",
       "762        5  0.075046                                              wrong\n",
       "762        6  0.100061                                              wrong\n",
       "762        7  0.100061                                              wrong\n",
       "762        8  0.100061                                              wrong\n",
       "762        9  0.137584                                              wrong\n",
       "762       10  0.106315                                              wrong\n",
       "118        1  0.084462                                               year\n",
       "118        2  0.140770                                               year\n",
       "118        3  0.112616                                               year\n",
       "118        4  0.086547                                               year\n",
       "118        5  0.123043                                               year\n",
       "118        6  0.089676                                               year\n",
       "118        7  0.079248                                               year\n",
       "118        8  0.084462                                               year\n",
       "118        9  0.109488                                               year\n",
       "118       10  0.089676                                               year\n",
       "13048      1  0.100162                                                yuk\n",
       "13048      2  0.133549                                                yuk\n",
       "13048      3  0.267099                                                yuk\n",
       "13048      4  0.033387                                                yuk\n",
       "13048      5  0.033387                                                yuk\n",
       "13048      6  0.033387                                                yuk\n",
       "13048      7  0.033387                                                yuk\n",
       "13048      8  0.200324                                                yuk\n",
       "13048     10  0.166937                                                yuk\n",
       "22619      4  0.617760  天氣很熱吃不下東西，今天我點了一個韓國冷面湯、餐後點了甜點，冰沙系列不會太甜膩，覺得店家很用...\n",
       "\n",
       "[2716 rows x 3 columns], R=30, lambda_step=0.01, plot_opts={'xlab': 'PC1', 'ylab': 'PC2'}, topic_order=[5, 1, 10, 4, 2, 8, 3, 9, 6, 7])"
      ]
     },
     "execution_count": 169,
     "metadata": {},
     "output_type": "execute_result"
    }
   ],
   "source": [
    "pyLDAvis.gensim.prepare(lda, corpus, id2word)"
   ]
  },
  {
   "cell_type": "markdown",
   "metadata": {},
   "source": [
    "## Stretch Goals\n",
    "\n",
    "Complete one of more of these to push your score towards a three: \n",
    "* Incorporate named entity recognition into your analysis\n",
    "* Compare vectorization methods in the classification section\n",
    "* Analyze more (or all) of the yelp dataset - this one is v. hard. \n",
    "* Use a generator object on the reviews file - this would help you with the analyzing the whole dataset.\n",
    "* Incorporate any of the other yelp dataset entities in your analysis (business, users, etc.)"
   ]
  }
 ],
 "metadata": {
  "kernel_info": {
   "name": "u4-s1-nlp"
  },
  "kernelspec": {
   "display_name": "u4-s1-nlp",
   "language": "python",
   "name": "u4-s1-nlp"
  },
  "language_info": {
   "codemirror_mode": {
    "name": "ipython",
    "version": 3
   },
   "file_extension": ".py",
   "mimetype": "text/x-python",
   "name": "python",
   "nbconvert_exporter": "python",
   "pygments_lexer": "ipython3",
   "version": "3.7.6"
  },
  "nteract": {
   "version": "0.14.5"
  },
  "toc-autonumbering": false
 },
 "nbformat": 4,
 "nbformat_minor": 4
}
